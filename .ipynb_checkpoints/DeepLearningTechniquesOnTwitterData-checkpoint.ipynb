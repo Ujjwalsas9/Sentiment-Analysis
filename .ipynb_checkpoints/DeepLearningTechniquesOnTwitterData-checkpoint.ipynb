{
 "cells": [
  {
   "cell_type": "markdown",
   "metadata": {},
   "source": [
    "# Using Word2Vec"
   ]
  },
  {
   "cell_type": "raw",
   "metadata": {},
   "source": [
    "load the python libraries"
   ]
  },
  {
   "cell_type": "code",
   "execution_count": 189,
   "metadata": {},
   "outputs": [],
   "source": [
    "import pandas as pd # provide sql-like data manipulation tools. very handy.\n",
    "pd.options.mode.chained_assignment = None\n",
    "import numpy as np # high dimensional vector computing library.\n",
    "from copy import deepcopy\n",
    "from string import punctuation\n",
    "from random import shuffle\n",
    "from keras.models import Sequential\n",
    "import gensim\n",
    "from gensim.models.word2vec import Word2Vec # the word2vec model gensim class\n",
    "LabeledSentence = gensim.models.doc2vec.LabeledSentence # we'll talk about this down below\n",
    "import keras\n",
    "from tqdm import tqdm\n",
    "tqdm.pandas(desc=\"progress-bar\")\n",
    "from keras.layers import Activation, Dense\n",
    "from nltk.tokenize import TweetTokenizer # a tweet tokenizer from nltk.\n",
    "tokenizer = TweetTokenizer()\n",
    "from sklearn.model_selection import train_test_split\n",
    "from sklearn.feature_extraction.text import TfidfVectorizer\n",
    "import bokeh.plotting as bp\n",
    "from bokeh.models import HoverTool, BoxSelectTool\n",
    "from bokeh.plotting import figure, show, output_notebook\n",
    "from sklearn.preprocessing import scale\n",
    "from bokeh.models import ColumnDataSource, LabelSet\n",
    "from bokeh.plotting import figure, show, output_file\n",
    "from bokeh.sampledata.periodic_table import elements"
   ]
  },
  {
   "cell_type": "raw",
   "metadata": {},
   "source": [
    "Defining a function that loads the dataset and extracts the two columns we need:\n",
    "* The sentiment: a binary (0/1) variable\n",
    "* The text of the tweet: string"
   ]
  },
  {
   "cell_type": "markdown",
   "metadata": {},
   "source": [
    "# Split Data into Training and Testing set¶"
   ]
  },
  {
   "cell_type": "code",
   "execution_count": 190,
   "metadata": {},
   "outputs": [],
   "source": [
    "import pandas as pd\n",
    "import re, string\n",
    "import gensim\n",
    "import logging\n",
    "logging.basicConfig(format='%(asctime)s : %(levelname)s : %(message)s', level=logging.INFO)"
   ]
  },
  {
   "cell_type": "code",
   "execution_count": 191,
   "metadata": {},
   "outputs": [],
   "source": [
    "import traceback\n",
    "import re, string\n",
    "def clean_str(string):\n",
    "  \"\"\"\n",
    "  String cleaning before vectorization\n",
    "  \"\"\"\n",
    "  try:\n",
    "    string = re.sub(r'^https?:\\/\\/<>.*[\\r\\n]*', '', string, flags=re.MULTILINE)\n",
    "    #string = re.sub(r\"[^A-Za-z]\", \" \", string) \n",
    "    string = re.sub(r\"\\W+\", \" \", string)\n",
    "    words = string.strip().lower().split()    \n",
    "    words = [w for w in words if len(w)>1]\n",
    "    #return words list\n",
    "    return words\n",
    "  except:\n",
    "    print (traceback.print_exc())\n",
    "    return \"\""
   ]
  },
  {
   "cell_type": "code",
   "execution_count": 192,
   "metadata": {},
   "outputs": [],
   "source": [
    "#Load training and Test data\n",
    "import pandas as pd\n",
    "data=pd.read_csv('tweets_sentiment.txt', header=0, delimiter=\"\\t\", quoting=3)"
   ]
  },
  {
   "cell_type": "code",
   "execution_count": 193,
   "metadata": {},
   "outputs": [
    {
     "data": {
      "text/html": [
       "<div>\n",
       "<table border=\"1\" class=\"dataframe\">\n",
       "  <thead>\n",
       "    <tr style=\"text-align: right;\">\n",
       "      <th></th>\n",
       "      <th>text</th>\n",
       "      <th>sentiment</th>\n",
       "    </tr>\n",
       "  </thead>\n",
       "  <tbody>\n",
       "    <tr>\n",
       "      <th>0</th>\n",
       "      <td>christian schoettl mélenchon a toujours vécu ...</td>\n",
       "      <td>1.0</td>\n",
       "    </tr>\n",
       "    <tr>\n",
       "      <th>1</th>\n",
       "      <td>on vous présente jean hulk mélenchon gt hulk ...</td>\n",
       "      <td>1.0</td>\n",
       "    </tr>\n",
       "    <tr>\n",
       "      <th>2</th>\n",
       "      <td>ah macron et ses approximations</td>\n",
       "      <td>1.0</td>\n",
       "    </tr>\n",
       "    <tr>\n",
       "      <th>3</th>\n",
       "      <td>mélenchon est probablement le irresponsable d...</td>\n",
       "      <td>1.0</td>\n",
       "    </tr>\n",
       "    <tr>\n",
       "      <th>4</th>\n",
       "      <td>mélenchon veut quitter l europe et l et entre...</td>\n",
       "      <td>1.0</td>\n",
       "    </tr>\n",
       "  </tbody>\n",
       "</table>\n",
       "</div>"
      ],
      "text/plain": [
       "                                                text  sentiment\n",
       "0   christian schoettl mélenchon a toujours vécu ...        1.0\n",
       "1   on vous présente jean hulk mélenchon gt hulk ...        1.0\n",
       "2                   ah macron et ses approximations         1.0\n",
       "3   mélenchon est probablement le irresponsable d...        1.0\n",
       "4   mélenchon veut quitter l europe et l et entre...        1.0"
      ]
     },
     "execution_count": 193,
     "metadata": {},
     "output_type": "execute_result"
    }
   ],
   "source": [
    "data.head()"
   ]
  },
  {
   "cell_type": "code",
   "execution_count": 194,
   "metadata": {},
   "outputs": [],
   "source": [
    "df=data['text']"
   ]
  },
  {
   "cell_type": "code",
   "execution_count": 195,
   "metadata": {},
   "outputs": [],
   "source": [
    "a=df[df.str.contains('macron' or 'emmanuelmacron' or 'enmarche' or '@emmanuelmacron' or '#emmanuelmacron' or 'mlpofficiel' or 'mlp_officiel' or 'lepen' or 'marine2017' or '@mlp_officiel' or 'mlp',na=False)]"
   ]
  },
  {
   "cell_type": "code",
   "execution_count": 196,
   "metadata": {},
   "outputs": [
    {
     "data": {
      "text/plain": [
       "574555"
      ]
     },
     "execution_count": 196,
     "metadata": {},
     "output_type": "execute_result"
    }
   ],
   "source": [
    "len(a)"
   ]
  },
  {
   "cell_type": "code",
   "execution_count": 197,
   "metadata": {},
   "outputs": [],
   "source": [
    "data['text2']=a"
   ]
  },
  {
   "cell_type": "code",
   "execution_count": 198,
   "metadata": {},
   "outputs": [],
   "source": [
    "data=data.dropna()"
   ]
  },
  {
   "cell_type": "code",
   "execution_count": 199,
   "metadata": {},
   "outputs": [
    {
     "data": {
      "text/html": [
       "<div>\n",
       "<table border=\"1\" class=\"dataframe\">\n",
       "  <thead>\n",
       "    <tr style=\"text-align: right;\">\n",
       "      <th></th>\n",
       "      <th>text</th>\n",
       "      <th>sentiment</th>\n",
       "      <th>text2</th>\n",
       "    </tr>\n",
       "  </thead>\n",
       "  <tbody>\n",
       "    <tr>\n",
       "      <th>2</th>\n",
       "      <td>ah macron et ses approximations</td>\n",
       "      <td>1.0</td>\n",
       "      <td>ah macron et ses approximations</td>\n",
       "    </tr>\n",
       "    <tr>\n",
       "      <th>9</th>\n",
       "      <td>a marseille fillon cible macron lepen et méle...</td>\n",
       "      <td>1.0</td>\n",
       "      <td>a marseille fillon cible macron lepen et méle...</td>\n",
       "    </tr>\n",
       "    <tr>\n",
       "      <th>16</th>\n",
       "      <td>face mélenchon et son programme de destruction...</td>\n",
       "      <td>1.0</td>\n",
       "      <td>face mélenchon et son programme de destruction...</td>\n",
       "    </tr>\n",
       "    <tr>\n",
       "      <th>18</th>\n",
       "      <td>macron m a fait réfléchir sur quand mélenchon...</td>\n",
       "      <td>1.0</td>\n",
       "      <td>macron m a fait réfléchir sur quand mélenchon...</td>\n",
       "    </tr>\n",
       "    <tr>\n",
       "      <th>39</th>\n",
       "      <td>sérieusement venant des soutiens de macron l é...</td>\n",
       "      <td>1.0</td>\n",
       "      <td>sérieusement venant des soutiens de macron l é...</td>\n",
       "    </tr>\n",
       "  </tbody>\n",
       "</table>\n",
       "</div>"
      ],
      "text/plain": [
       "                                                 text  sentiment  \\\n",
       "2                    ah macron et ses approximations         1.0   \n",
       "9    a marseille fillon cible macron lepen et méle...        1.0   \n",
       "16  face mélenchon et son programme de destruction...        1.0   \n",
       "18   macron m a fait réfléchir sur quand mélenchon...        1.0   \n",
       "39  sérieusement venant des soutiens de macron l é...        1.0   \n",
       "\n",
       "                                                text2  \n",
       "2                    ah macron et ses approximations   \n",
       "9    a marseille fillon cible macron lepen et méle...  \n",
       "16  face mélenchon et son programme de destruction...  \n",
       "18   macron m a fait réfléchir sur quand mélenchon...  \n",
       "39  sérieusement venant des soutiens de macron l é...  "
      ]
     },
     "execution_count": 199,
     "metadata": {},
     "output_type": "execute_result"
    }
   ],
   "source": [
    "data.head()"
   ]
  },
  {
   "cell_type": "code",
   "execution_count": 200,
   "metadata": {},
   "outputs": [],
   "source": [
    "data['text']=data['text2']"
   ]
  },
  {
   "cell_type": "code",
   "execution_count": 201,
   "metadata": {},
   "outputs": [],
   "source": [
    "del data['text2']"
   ]
  },
  {
   "cell_type": "code",
   "execution_count": 202,
   "metadata": {},
   "outputs": [
    {
     "data": {
      "text/html": [
       "<div>\n",
       "<table border=\"1\" class=\"dataframe\">\n",
       "  <thead>\n",
       "    <tr style=\"text-align: right;\">\n",
       "      <th></th>\n",
       "      <th>text</th>\n",
       "      <th>sentiment</th>\n",
       "    </tr>\n",
       "  </thead>\n",
       "  <tbody>\n",
       "    <tr>\n",
       "      <th>2</th>\n",
       "      <td>ah macron et ses approximations</td>\n",
       "      <td>1.0</td>\n",
       "    </tr>\n",
       "    <tr>\n",
       "      <th>9</th>\n",
       "      <td>a marseille fillon cible macron lepen et méle...</td>\n",
       "      <td>1.0</td>\n",
       "    </tr>\n",
       "    <tr>\n",
       "      <th>16</th>\n",
       "      <td>face mélenchon et son programme de destruction...</td>\n",
       "      <td>1.0</td>\n",
       "    </tr>\n",
       "    <tr>\n",
       "      <th>18</th>\n",
       "      <td>macron m a fait réfléchir sur quand mélenchon...</td>\n",
       "      <td>1.0</td>\n",
       "    </tr>\n",
       "    <tr>\n",
       "      <th>39</th>\n",
       "      <td>sérieusement venant des soutiens de macron l é...</td>\n",
       "      <td>1.0</td>\n",
       "    </tr>\n",
       "  </tbody>\n",
       "</table>\n",
       "</div>"
      ],
      "text/plain": [
       "                                                 text  sentiment\n",
       "2                    ah macron et ses approximations         1.0\n",
       "9    a marseille fillon cible macron lepen et méle...        1.0\n",
       "16  face mélenchon et son programme de destruction...        1.0\n",
       "18   macron m a fait réfléchir sur quand mélenchon...        1.0\n",
       "39  sérieusement venant des soutiens de macron l é...        1.0"
      ]
     },
     "execution_count": 202,
     "metadata": {},
     "output_type": "execute_result"
    }
   ],
   "source": [
    "data.head()"
   ]
  },
  {
   "cell_type": "code",
   "execution_count": 203,
   "metadata": {},
   "outputs": [],
   "source": [
    "data['cleanText'] = data['text'].apply(clean_str)\n",
    "data.sentiment=data.sentiment.astype(int)"
   ]
  },
  {
   "cell_type": "code",
   "execution_count": 204,
   "metadata": {},
   "outputs": [],
   "source": [
    "data['Sentiment']=data['sentiment']"
   ]
  },
  {
   "cell_type": "code",
   "execution_count": 205,
   "metadata": {},
   "outputs": [],
   "source": [
    "data['SentimentText']=data['text']"
   ]
  },
  {
   "cell_type": "code",
   "execution_count": 206,
   "metadata": {},
   "outputs": [],
   "source": [
    "data['tokens']=data['cleanText']"
   ]
  },
  {
   "cell_type": "code",
   "execution_count": 207,
   "metadata": {},
   "outputs": [
    {
     "data": {
      "text/html": [
       "<div>\n",
       "<table border=\"1\" class=\"dataframe\">\n",
       "  <thead>\n",
       "    <tr style=\"text-align: right;\">\n",
       "      <th></th>\n",
       "      <th>text</th>\n",
       "      <th>sentiment</th>\n",
       "      <th>cleanText</th>\n",
       "      <th>Sentiment</th>\n",
       "      <th>SentimentText</th>\n",
       "      <th>tokens</th>\n",
       "    </tr>\n",
       "  </thead>\n",
       "  <tbody>\n",
       "    <tr>\n",
       "      <th>2</th>\n",
       "      <td>ah macron et ses approximations</td>\n",
       "      <td>1</td>\n",
       "      <td>[ah, macron, et, ses, approximations]</td>\n",
       "      <td>1</td>\n",
       "      <td>ah macron et ses approximations</td>\n",
       "      <td>[ah, macron, et, ses, approximations]</td>\n",
       "    </tr>\n",
       "    <tr>\n",
       "      <th>9</th>\n",
       "      <td>a marseille fillon cible macron lepen et méle...</td>\n",
       "      <td>1</td>\n",
       "      <td>[marseille, fillon, cible, macron, lepen, et, ...</td>\n",
       "      <td>1</td>\n",
       "      <td>a marseille fillon cible macron lepen et méle...</td>\n",
       "      <td>[marseille, fillon, cible, macron, lepen, et, ...</td>\n",
       "    </tr>\n",
       "    <tr>\n",
       "      <th>16</th>\n",
       "      <td>face mélenchon et son programme de destruction...</td>\n",
       "      <td>1</td>\n",
       "      <td>[face, lenchon, et, son, programme, de, destru...</td>\n",
       "      <td>1</td>\n",
       "      <td>face mélenchon et son programme de destruction...</td>\n",
       "      <td>[face, lenchon, et, son, programme, de, destru...</td>\n",
       "    </tr>\n",
       "    <tr>\n",
       "      <th>18</th>\n",
       "      <td>macron m a fait réfléchir sur quand mélenchon...</td>\n",
       "      <td>1</td>\n",
       "      <td>[macron, fait, fl, chir, sur, quand, lenchon, ...</td>\n",
       "      <td>1</td>\n",
       "      <td>macron m a fait réfléchir sur quand mélenchon...</td>\n",
       "      <td>[macron, fait, fl, chir, sur, quand, lenchon, ...</td>\n",
       "    </tr>\n",
       "    <tr>\n",
       "      <th>39</th>\n",
       "      <td>sérieusement venant des soutiens de macron l é...</td>\n",
       "      <td>1</td>\n",
       "      <td>[rieusement, venant, des, soutiens, de, macron...</td>\n",
       "      <td>1</td>\n",
       "      <td>sérieusement venant des soutiens de macron l é...</td>\n",
       "      <td>[rieusement, venant, des, soutiens, de, macron...</td>\n",
       "    </tr>\n",
       "  </tbody>\n",
       "</table>\n",
       "</div>"
      ],
      "text/plain": [
       "                                                 text  sentiment  \\\n",
       "2                    ah macron et ses approximations           1   \n",
       "9    a marseille fillon cible macron lepen et méle...          1   \n",
       "16  face mélenchon et son programme de destruction...          1   \n",
       "18   macron m a fait réfléchir sur quand mélenchon...          1   \n",
       "39  sérieusement venant des soutiens de macron l é...          1   \n",
       "\n",
       "                                            cleanText  Sentiment  \\\n",
       "2               [ah, macron, et, ses, approximations]          1   \n",
       "9   [marseille, fillon, cible, macron, lepen, et, ...          1   \n",
       "16  [face, lenchon, et, son, programme, de, destru...          1   \n",
       "18  [macron, fait, fl, chir, sur, quand, lenchon, ...          1   \n",
       "39  [rieusement, venant, des, soutiens, de, macron...          1   \n",
       "\n",
       "                                        SentimentText  \\\n",
       "2                    ah macron et ses approximations    \n",
       "9    a marseille fillon cible macron lepen et méle...   \n",
       "16  face mélenchon et son programme de destruction...   \n",
       "18   macron m a fait réfléchir sur quand mélenchon...   \n",
       "39  sérieusement venant des soutiens de macron l é...   \n",
       "\n",
       "                                               tokens  \n",
       "2               [ah, macron, et, ses, approximations]  \n",
       "9   [marseille, fillon, cible, macron, lepen, et, ...  \n",
       "16  [face, lenchon, et, son, programme, de, destru...  \n",
       "18  [macron, fait, fl, chir, sur, quand, lenchon, ...  \n",
       "39  [rieusement, venant, des, soutiens, de, macron...  "
      ]
     },
     "execution_count": 207,
     "metadata": {},
     "output_type": "execute_result"
    }
   ],
   "source": [
    "data.head()"
   ]
  },
  {
   "cell_type": "code",
   "execution_count": 208,
   "metadata": {},
   "outputs": [],
   "source": [
    "# to delete unwanted columns\n",
    "del data['cleanText']\n",
    "del data['sentiment']\n",
    "del data['text']"
   ]
  },
  {
   "cell_type": "code",
   "execution_count": 209,
   "metadata": {},
   "outputs": [
    {
     "data": {
      "text/html": [
       "<div>\n",
       "<table border=\"1\" class=\"dataframe\">\n",
       "  <thead>\n",
       "    <tr style=\"text-align: right;\">\n",
       "      <th></th>\n",
       "      <th>Sentiment</th>\n",
       "      <th>SentimentText</th>\n",
       "      <th>tokens</th>\n",
       "    </tr>\n",
       "  </thead>\n",
       "  <tbody>\n",
       "    <tr>\n",
       "      <th>2</th>\n",
       "      <td>1</td>\n",
       "      <td>ah macron et ses approximations</td>\n",
       "      <td>[ah, macron, et, ses, approximations]</td>\n",
       "    </tr>\n",
       "    <tr>\n",
       "      <th>9</th>\n",
       "      <td>1</td>\n",
       "      <td>a marseille fillon cible macron lepen et méle...</td>\n",
       "      <td>[marseille, fillon, cible, macron, lepen, et, ...</td>\n",
       "    </tr>\n",
       "    <tr>\n",
       "      <th>16</th>\n",
       "      <td>1</td>\n",
       "      <td>face mélenchon et son programme de destruction...</td>\n",
       "      <td>[face, lenchon, et, son, programme, de, destru...</td>\n",
       "    </tr>\n",
       "    <tr>\n",
       "      <th>18</th>\n",
       "      <td>1</td>\n",
       "      <td>macron m a fait réfléchir sur quand mélenchon...</td>\n",
       "      <td>[macron, fait, fl, chir, sur, quand, lenchon, ...</td>\n",
       "    </tr>\n",
       "    <tr>\n",
       "      <th>39</th>\n",
       "      <td>1</td>\n",
       "      <td>sérieusement venant des soutiens de macron l é...</td>\n",
       "      <td>[rieusement, venant, des, soutiens, de, macron...</td>\n",
       "    </tr>\n",
       "  </tbody>\n",
       "</table>\n",
       "</div>"
      ],
      "text/plain": [
       "    Sentiment                                      SentimentText  \\\n",
       "2           1                   ah macron et ses approximations    \n",
       "9           1   a marseille fillon cible macron lepen et méle...   \n",
       "16          1  face mélenchon et son programme de destruction...   \n",
       "18          1   macron m a fait réfléchir sur quand mélenchon...   \n",
       "39          1  sérieusement venant des soutiens de macron l é...   \n",
       "\n",
       "                                               tokens  \n",
       "2               [ah, macron, et, ses, approximations]  \n",
       "9   [marseille, fillon, cible, macron, lepen, et, ...  \n",
       "16  [face, lenchon, et, son, programme, de, destru...  \n",
       "18  [macron, fait, fl, chir, sur, quand, lenchon, ...  \n",
       "39  [rieusement, venant, des, soutiens, de, macron...  "
      ]
     },
     "execution_count": 209,
     "metadata": {},
     "output_type": "execute_result"
    }
   ],
   "source": [
    "data.head()"
   ]
  },
  {
   "cell_type": "code",
   "execution_count": 210,
   "metadata": {},
   "outputs": [
    {
     "data": {
      "text/html": [
       "<div>\n",
       "<table border=\"1\" class=\"dataframe\">\n",
       "  <thead>\n",
       "    <tr style=\"text-align: right;\">\n",
       "      <th></th>\n",
       "      <th>Sentiment</th>\n",
       "      <th>SentimentText</th>\n",
       "      <th>tokens</th>\n",
       "    </tr>\n",
       "  </thead>\n",
       "  <tbody>\n",
       "    <tr>\n",
       "      <th>1086909</th>\n",
       "      <td>1</td>\n",
       "      <td>pol is getting closer to blowing the macronga...</td>\n",
       "      <td>[pol, is, getting, closer, to, blowing, the, m...</td>\n",
       "    </tr>\n",
       "    <tr>\n",
       "      <th>1086912</th>\n",
       "      <td>-1</td>\n",
       "      <td>macron ne veut pas se donner les moyens de lu...</td>\n",
       "      <td>[macron, ne, veut, pas, se, donner, les, moyen...</td>\n",
       "    </tr>\n",
       "    <tr>\n",
       "      <th>1086913</th>\n",
       "      <td>1</td>\n",
       "      <td>because he hasn t backed enough losers over t...</td>\n",
       "      <td>[because, he, hasn, backed, enough, losers, ov...</td>\n",
       "    </tr>\n",
       "    <tr>\n",
       "      <th>1086914</th>\n",
       "      <td>1</td>\n",
       "      <td>the kiss of death for macron obama</td>\n",
       "      <td>[the, kiss, of, death, for, macron, obama]</td>\n",
       "    </tr>\n",
       "    <tr>\n",
       "      <th>1086915</th>\n",
       "      <td>1</td>\n",
       "      <td>concernant les propos de macron sur la refonda...</td>\n",
       "      <td>[concernant, les, propos, de, macron, sur, la,...</td>\n",
       "    </tr>\n",
       "  </tbody>\n",
       "</table>\n",
       "</div>"
      ],
      "text/plain": [
       "         Sentiment                                      SentimentText  \\\n",
       "1086909          1   pol is getting closer to blowing the macronga...   \n",
       "1086912         -1   macron ne veut pas se donner les moyens de lu...   \n",
       "1086913          1   because he hasn t backed enough losers over t...   \n",
       "1086914          1                 the kiss of death for macron obama   \n",
       "1086915          1  concernant les propos de macron sur la refonda...   \n",
       "\n",
       "                                                    tokens  \n",
       "1086909  [pol, is, getting, closer, to, blowing, the, m...  \n",
       "1086912  [macron, ne, veut, pas, se, donner, les, moyen...  \n",
       "1086913  [because, he, hasn, backed, enough, losers, ov...  \n",
       "1086914         [the, kiss, of, death, for, macron, obama]  \n",
       "1086915  [concernant, les, propos, de, macron, sur, la,...  "
      ]
     },
     "execution_count": 210,
     "metadata": {},
     "output_type": "execute_result"
    }
   ],
   "source": [
    "data.tail()"
   ]
  },
  {
   "cell_type": "raw",
   "metadata": {},
   "source": [
    "The data is now tokenized and cleaned. We are ready to feed it in the word2vec model.\n",
    "First, let's define a training set and a test set and manual validation test set."
   ]
  },
  {
   "cell_type": "code",
   "execution_count": 211,
   "metadata": {},
   "outputs": [
    {
     "data": {
      "text/plain": [
       "574555"
      ]
     },
     "execution_count": 211,
     "metadata": {},
     "output_type": "execute_result"
    }
   ],
   "source": [
    "len(data)"
   ]
  },
  {
   "cell_type": "code",
   "execution_count": 212,
   "metadata": {},
   "outputs": [],
   "source": [
    "data = data.reset_index(drop=True)"
   ]
  },
  {
   "cell_type": "code",
   "execution_count": 213,
   "metadata": {},
   "outputs": [
    {
     "data": {
      "text/html": [
       "<div>\n",
       "<table border=\"1\" class=\"dataframe\">\n",
       "  <thead>\n",
       "    <tr style=\"text-align: right;\">\n",
       "      <th></th>\n",
       "      <th>Sentiment</th>\n",
       "      <th>SentimentText</th>\n",
       "      <th>tokens</th>\n",
       "    </tr>\n",
       "  </thead>\n",
       "  <tbody>\n",
       "    <tr>\n",
       "      <th>574550</th>\n",
       "      <td>1</td>\n",
       "      <td>pol is getting closer to blowing the macronga...</td>\n",
       "      <td>[pol, is, getting, closer, to, blowing, the, m...</td>\n",
       "    </tr>\n",
       "    <tr>\n",
       "      <th>574551</th>\n",
       "      <td>-1</td>\n",
       "      <td>macron ne veut pas se donner les moyens de lu...</td>\n",
       "      <td>[macron, ne, veut, pas, se, donner, les, moyen...</td>\n",
       "    </tr>\n",
       "    <tr>\n",
       "      <th>574552</th>\n",
       "      <td>1</td>\n",
       "      <td>because he hasn t backed enough losers over t...</td>\n",
       "      <td>[because, he, hasn, backed, enough, losers, ov...</td>\n",
       "    </tr>\n",
       "    <tr>\n",
       "      <th>574553</th>\n",
       "      <td>1</td>\n",
       "      <td>the kiss of death for macron obama</td>\n",
       "      <td>[the, kiss, of, death, for, macron, obama]</td>\n",
       "    </tr>\n",
       "    <tr>\n",
       "      <th>574554</th>\n",
       "      <td>1</td>\n",
       "      <td>concernant les propos de macron sur la refonda...</td>\n",
       "      <td>[concernant, les, propos, de, macron, sur, la,...</td>\n",
       "    </tr>\n",
       "  </tbody>\n",
       "</table>\n",
       "</div>"
      ],
      "text/plain": [
       "        Sentiment                                      SentimentText  \\\n",
       "574550          1   pol is getting closer to blowing the macronga...   \n",
       "574551         -1   macron ne veut pas se donner les moyens de lu...   \n",
       "574552          1   because he hasn t backed enough losers over t...   \n",
       "574553          1                 the kiss of death for macron obama   \n",
       "574554          1  concernant les propos de macron sur la refonda...   \n",
       "\n",
       "                                                   tokens  \n",
       "574550  [pol, is, getting, closer, to, blowing, the, m...  \n",
       "574551  [macron, ne, veut, pas, se, donner, les, moyen...  \n",
       "574552  [because, he, hasn, backed, enough, losers, ov...  \n",
       "574553         [the, kiss, of, death, for, macron, obama]  \n",
       "574554  [concernant, les, propos, de, macron, sur, la,...  "
      ]
     },
     "execution_count": 213,
     "metadata": {},
     "output_type": "execute_result"
    }
   ],
   "source": [
    "data.tail()"
   ]
  },
  {
   "cell_type": "code",
   "execution_count": 214,
   "metadata": {},
   "outputs": [],
   "source": [
    "d1=data.head(500)"
   ]
  },
  {
   "cell_type": "code",
   "execution_count": 215,
   "metadata": {},
   "outputs": [],
   "source": [
    "d2=data.tail(500)"
   ]
  },
  {
   "cell_type": "code",
   "execution_count": 118,
   "metadata": {},
   "outputs": [],
   "source": [
    "# Exporting Data For Manual Validation:\n",
    "writer = pd.ExcelWriter('vld.xlsx')\n",
    "d1.to_excel(writer,'Sheet1')\n",
    "d2.to_excel(writer,'Sheet2')\n",
    "writer.save()"
   ]
  },
  {
   "cell_type": "code",
   "execution_count": 216,
   "metadata": {},
   "outputs": [],
   "source": [
    "data=data[500:574054]"
   ]
  },
  {
   "cell_type": "code",
   "execution_count": 217,
   "metadata": {},
   "outputs": [
    {
     "data": {
      "text/html": [
       "<div>\n",
       "<table border=\"1\" class=\"dataframe\">\n",
       "  <thead>\n",
       "    <tr style=\"text-align: right;\">\n",
       "      <th></th>\n",
       "      <th>Sentiment</th>\n",
       "      <th>SentimentText</th>\n",
       "      <th>tokens</th>\n",
       "    </tr>\n",
       "  </thead>\n",
       "  <tbody>\n",
       "    <tr>\n",
       "      <th>574049</th>\n",
       "      <td>1</td>\n",
       "      <td>l escroquerie du vote macron via</td>\n",
       "      <td>[escroquerie, du, vote, macron, via]</td>\n",
       "    </tr>\n",
       "    <tr>\n",
       "      <th>574050</th>\n",
       "      <td>-1</td>\n",
       "      <td>jevotepour macron car je fais partie des crét...</td>\n",
       "      <td>[jevotepour, macron, car, je, fais, partie, de...</td>\n",
       "    </tr>\n",
       "    <tr>\n",
       "      <th>574051</th>\n",
       "      <td>1</td>\n",
       "      <td>les soutiens de m macron agissent dans la vio...</td>\n",
       "      <td>[les, soutiens, de, macron, agissent, dans, la...</td>\n",
       "    </tr>\n",
       "    <tr>\n",
       "      <th>574052</th>\n",
       "      <td>1</td>\n",
       "      <td>macron liberalisme pas gauche xtreme droite a...</td>\n",
       "      <td>[macron, liberalisme, pas, gauche, xtreme, dro...</td>\n",
       "    </tr>\n",
       "    <tr>\n",
       "      <th>574053</th>\n",
       "      <td>1</td>\n",
       "      <td>as obama implored nigerians to vote right as ...</td>\n",
       "      <td>[as, obama, implored, nigerians, to, vote, rig...</td>\n",
       "    </tr>\n",
       "  </tbody>\n",
       "</table>\n",
       "</div>"
      ],
      "text/plain": [
       "        Sentiment                                      SentimentText  \\\n",
       "574049          1                  l escroquerie du vote macron via    \n",
       "574050         -1   jevotepour macron car je fais partie des crét...   \n",
       "574051          1   les soutiens de m macron agissent dans la vio...   \n",
       "574052          1   macron liberalisme pas gauche xtreme droite a...   \n",
       "574053          1   as obama implored nigerians to vote right as ...   \n",
       "\n",
       "                                                   tokens  \n",
       "574049               [escroquerie, du, vote, macron, via]  \n",
       "574050  [jevotepour, macron, car, je, fais, partie, de...  \n",
       "574051  [les, soutiens, de, macron, agissent, dans, la...  \n",
       "574052  [macron, liberalisme, pas, gauche, xtreme, dro...  \n",
       "574053  [as, obama, implored, nigerians, to, vote, rig...  "
      ]
     },
     "execution_count": 217,
     "metadata": {},
     "output_type": "execute_result"
    }
   ],
   "source": [
    "data.tail()"
   ]
  },
  {
   "cell_type": "code",
   "execution_count": 218,
   "metadata": {},
   "outputs": [],
   "source": [
    "n=1000000\n",
    "x_train, x_test, y_train, y_test = train_test_split(np.array(data.head(n).tokens),np.array(data.head(n).Sentiment), test_size=0.2)"
   ]
  },
  {
   "cell_type": "code",
   "execution_count": 219,
   "metadata": {},
   "outputs": [
    {
     "data": {
      "text/plain": [
       "array([ list(['malgr', 'son', 'retrait', 'de', 'la', 'vie', 'politique', 'barack', 'obama', 'affich', 'officiellement', 'sa', 'confiance', 'emmanuel', 'macron', 'dans']),\n",
       "       list(['neelie', 'kroes', 'la', 'dirigeante', 'une', 'entreprise', 'offshore', 'aux', 'bahamas', 'rencontr', 'macron', 'lasvegas', 'en', 'ja']),\n",
       "       list(['macron']), ...,\n",
       "       list(['attali', 'le', 'mentor', 'de', 'macron', 'vous', 'explique', 'son', 'projet', 'pour', 'la', 'france']),\n",
       "       list(['macron', 'rothschild', 'banker', 'bilderberg', 'member', 'bureaucrat', 'in', 'hollande', 'government', 'media', 'he', 'an', 'outsider', 'this', 'is', 'lite']),\n",
       "       list(['mme', 'lepen', 'que', 'proposez', 'vous', 'pour', 'duire', 'le', 'ch', 'mage', 'regardez', 'est', 'le', 'score', 'sur', 'candy', 'crush', 'de', 'monsieur', 'macron'])], dtype=object)"
      ]
     },
     "execution_count": 219,
     "metadata": {},
     "output_type": "execute_result"
    }
   ],
   "source": [
    "x_train"
   ]
  },
  {
   "cell_type": "raw",
   "metadata": {},
   "source": [
    "Before feeding lists of tokens into the word2vec model, we must turn them into LabeledSentence objects beforehand."
   ]
  },
  {
   "cell_type": "code",
   "execution_count": 220,
   "metadata": {},
   "outputs": [
    {
     "name": "stderr",
     "output_type": "stream",
     "text": [
      "458843it [00:02, 156452.57it/s]\n",
      "114711it [00:01, 70520.78it/s]\n"
     ]
    }
   ],
   "source": [
    "def labelizeTweets(tweets, label_type):\n",
    "    labelized = []\n",
    "    for i,v in tqdm(enumerate(tweets)):\n",
    "        label = '%s_%s'%(label_type,i)\n",
    "        labelized.append(LabeledSentence(v, [label]))\n",
    "    return labelized\n",
    "\n",
    "x_train = labelizeTweets(x_train, 'TRAIN')\n",
    "x_test = labelizeTweets(x_test, 'TEST')"
   ]
  },
  {
   "cell_type": "raw",
   "metadata": {},
   "source": [
    "first element from x_train"
   ]
  },
  {
   "cell_type": "code",
   "execution_count": 221,
   "metadata": {},
   "outputs": [
    {
     "data": {
      "text/plain": [
       "TaggedDocument(words=['malgr', 'son', 'retrait', 'de', 'la', 'vie', 'politique', 'barack', 'obama', 'affich', 'officiellement', 'sa', 'confiance', 'emmanuel', 'macron', 'dans'], tags=['TRAIN_0'])"
      ]
     },
     "execution_count": 221,
     "metadata": {},
     "output_type": "execute_result"
    }
   ],
   "source": [
    "x_train[0]"
   ]
  },
  {
   "cell_type": "markdown",
   "metadata": {},
   "source": [
    "### build the word2vec model from x_train i.e. the corpus"
   ]
  },
  {
   "cell_type": "code",
   "execution_count": 222,
   "metadata": {},
   "outputs": [
    {
     "name": "stderr",
     "output_type": "stream",
     "text": [
      "2017-08-24 11:29:59,988 : INFO : loading projection weights from frWiki.bin\n",
      "2017-08-24 11:30:05,740 : INFO : loaded (66274, 1000) matrix from frWiki.bin\n"
     ]
    }
   ],
   "source": [
    "frenchW2V = gensim.models.KeyedVectors.load_word2vec_format('frWiki.bin', binary=True)"
   ]
  },
  {
   "cell_type": "code",
   "execution_count": 223,
   "metadata": {},
   "outputs": [
    {
     "data": {
      "text/plain": [
       "(66274, 1000)"
      ]
     },
     "execution_count": 223,
     "metadata": {},
     "output_type": "execute_result"
    }
   ],
   "source": [
    "frenchW2V.wv.syn0.shape"
   ]
  },
  {
   "cell_type": "raw",
   "metadata": {},
   "source": [
    "* On the first line the model is initialized with the dimension of the vector space (we set it to 200) and min_count (a threshold for filtering words that appear less)\n",
    "* On the second line the vocabulary is created.\n",
    "* On the third line the model is trained i.e. its weights are updated."
   ]
  },
  {
   "cell_type": "raw",
   "metadata": {},
   "source": [
    "Once the model is built and trained on the corpus of tweets, we can use it to convert words to vectors. \n",
    "Here's an example:"
   ]
  },
  {
   "cell_type": "code",
   "execution_count": 224,
   "metadata": {},
   "outputs": [
    {
     "data": {
      "text/plain": [
       "array([  3.92278284e-02,  -1.21879382e-02,  -5.50427884e-02,\n",
       "         5.55902123e-02,   6.10539652e-02,   9.64832902e-02,\n",
       "        -1.28307529e-02,  -1.15820607e-02,  -2.21761074e-02,\n",
       "        -9.99968778e-03,   2.94949394e-04,  -1.47818178e-02,\n",
       "        -7.75420740e-02,   2.75168717e-02,   3.78509611e-02,\n",
       "        -1.96574461e-02,   5.44788241e-02,   5.37251383e-02,\n",
       "        -2.15995288e-03,   2.10342873e-02,  -1.45163193e-01,\n",
       "         9.81824193e-03,   8.27191770e-02,   2.56233085e-02,\n",
       "        -1.69443563e-02,   6.22188821e-02,  -4.27901261e-02,\n",
       "         8.07462446e-03,  -1.06191412e-01,  -2.75264215e-03,\n",
       "        -1.54654197e-02,   4.38642316e-03,  -1.45791203e-01,\n",
       "        -9.34110880e-02,  -4.71170284e-02,  -1.21728517e-02,\n",
       "        -4.58486751e-02,   6.07920513e-02,   1.63038164e-01,\n",
       "         3.35928723e-02,   1.49394006e-01,   1.34771377e-01,\n",
       "        -1.79264750e-02,   3.60278673e-02,  -3.77434725e-03,\n",
       "         2.10834350e-02,  -4.23749583e-03,  -3.64756063e-02,\n",
       "        -4.60192896e-02,  -5.76168895e-02,  -7.01192245e-02,\n",
       "         5.21208867e-02,   6.78243041e-02,   7.22004101e-02,\n",
       "        -3.28047946e-02,  -6.06874898e-02,  -1.22067975e-02,\n",
       "        -1.93073470e-02,   3.21823768e-02,   1.37511820e-01,\n",
       "        -8.27789865e-03,  -7.22372532e-02,  -1.60604626e-01,\n",
       "        -6.55319691e-02,  -1.50955960e-01,   7.34641030e-02,\n",
       "         1.84534248e-02,   2.55324189e-02,   9.48419794e-02,\n",
       "         7.82123059e-02,  -1.39938220e-02,  -7.57576823e-02,\n",
       "         4.24897224e-02,  -4.59360033e-02,   1.49139641e-02,\n",
       "         2.57849246e-02,  -5.89758046e-02,  -9.66574326e-02,\n",
       "         1.31776661e-01,   5.93681401e-03,  -6.53983057e-02,\n",
       "        -7.10526556e-02,  -3.72632705e-02,   7.07472907e-03,\n",
       "         1.62621126e-01,  -1.14018554e-02,   7.35496804e-02,\n",
       "         2.56747603e-02,   1.18240923e-01,   1.90525837e-02,\n",
       "         1.21983863e-01,   3.68161052e-02,   1.05869219e-01,\n",
       "         6.45870566e-02,  -1.82846151e-02,   3.63117903e-02,\n",
       "        -8.97489190e-02,  -5.92630133e-02,   6.87214956e-02,\n",
       "        -9.42867398e-02,  -4.76896279e-02,   3.14430818e-02,\n",
       "        -5.22435233e-02,  -9.85907614e-02,   1.37446802e-02,\n",
       "         9.66615602e-02,   2.18511701e-01,  -5.27995713e-02,\n",
       "         3.22069116e-02,  -3.25473808e-02,  -5.62668964e-02,\n",
       "         6.49344400e-02,  -6.60499856e-02,   1.15520507e-02,\n",
       "         8.79575014e-02,  -4.72655408e-02,  -3.53231952e-02,\n",
       "         3.61930430e-02,   1.20160431e-02,   4.76020388e-02,\n",
       "        -4.68063168e-02,   3.15476879e-02,   1.21243052e-01,\n",
       "        -1.04036637e-01,  -7.76884332e-02,   5.52882366e-02,\n",
       "        -4.82102856e-03,   1.63221546e-02,  -2.54790559e-02,\n",
       "         9.14469883e-02,   1.03040016e-03,  -9.11871642e-02,\n",
       "         6.89760447e-02,   1.13181315e-01,   2.91878767e-02,\n",
       "         3.89869628e-03,  -4.08063494e-02,  -4.01813313e-02,\n",
       "         3.70011553e-02,  -4.91641760e-02,  -3.01259030e-02,\n",
       "        -2.81722490e-02,  -9.96442288e-02,   2.97166547e-03,\n",
       "         1.93110332e-02,   1.78735517e-02,  -1.17939688e-01,\n",
       "        -1.02207743e-01,  -4.43975739e-02,  -5.38259596e-02,\n",
       "        -2.27126852e-02,  -1.38049936e-02,  -3.68979461e-02,\n",
       "        -1.12308534e-02,   4.03565280e-02,  -7.54779801e-02,\n",
       "        -8.40805694e-02,   1.05692916e-01,  -3.54767442e-02,\n",
       "        -4.75577004e-02,   1.49553921e-03,   6.84962347e-02,\n",
       "         1.85688399e-02,   4.75362055e-02,   5.36197051e-03,\n",
       "        -7.71963745e-02,   6.79854155e-02,  -1.43395126e-01,\n",
       "         4.52873483e-02,  -3.13938148e-02,   1.39682470e-02,\n",
       "        -6.02465235e-02,  -7.34171197e-02,  -4.39507477e-02,\n",
       "        -4.58600000e-02,   9.78204757e-02,   4.84564528e-02,\n",
       "         4.78256717e-02,   1.49167562e-02,   3.55610773e-02,\n",
       "        -3.46979313e-02,  -2.37834267e-02,  -2.31771227e-02,\n",
       "        -1.36171401e-01,  -4.59429994e-02,  -1.80344693e-02,\n",
       "        -4.85934392e-02,  -5.20868264e-02,   6.06265962e-02,\n",
       "        -9.62787122e-02,  -7.92014822e-02,  -8.52134302e-02,\n",
       "        -4.53556888e-03,   5.45462631e-02,   2.24914607e-02,\n",
       "         9.19513777e-02,   1.72429085e-02,   1.96965914e-02,\n",
       "        -3.66387442e-02,  -2.26891581e-02,   3.23706828e-02,\n",
       "         1.37283444e-01,   5.26048616e-02,   2.39045452e-02,\n",
       "         5.85155822e-02,   2.27122419e-02,  -9.30899940e-03,\n",
       "        -4.15919572e-02,  -4.55048010e-02,  -1.32525921e-01,\n",
       "        -1.07138008e-02,  -3.89869176e-02,   1.01103541e-02,\n",
       "        -1.74836516e-02,   4.99146059e-02,   2.11929455e-02,\n",
       "         8.28798767e-03,  -3.04640532e-02,   1.66848805e-02,\n",
       "         9.97605845e-02,   1.09704696e-02,   1.11513743e-02,\n",
       "        -4.27357992e-03,  -6.71085939e-02,   3.17034987e-03,\n",
       "        -1.18099395e-02,  -1.82736535e-02,  -5.45159206e-02,\n",
       "        -3.18062678e-02,  -7.18997419e-02,   8.75279158e-02,\n",
       "         7.32531846e-02,  -7.01265261e-02,  -2.39021257e-02,\n",
       "         1.05219118e-01,   2.07719598e-02,  -4.83080260e-02,\n",
       "        -1.58745260e-03,   1.95276402e-02,   5.26552200e-02,\n",
       "        -5.18756025e-02,  -1.03811219e-01,  -1.21241175e-02,\n",
       "        -3.52475271e-02,  -9.00550373e-03,  -4.03381623e-02,\n",
       "         4.40594852e-02,   5.39913513e-02,   8.60852003e-02,\n",
       "         3.96796539e-02,   2.43511405e-02,   3.84999737e-02,\n",
       "         6.09433874e-02,   8.66630897e-02,   4.75610867e-02,\n",
       "         3.21740359e-02,   8.09636414e-02,   7.34686926e-02,\n",
       "        -6.47209957e-03,  -4.22690138e-02,  -2.46785618e-02,\n",
       "         7.11507201e-02,   3.17811733e-03,   2.54076347e-02,\n",
       "         3.98191363e-02,   2.40494963e-02,  -2.16478016e-02,\n",
       "        -8.62513576e-03,  -5.72306029e-02,  -2.43059848e-03,\n",
       "        -1.00325890e-01,   2.65087411e-02,   2.90225502e-02,\n",
       "         2.32944023e-02,  -4.34934385e-02,  -1.29058864e-02,\n",
       "        -2.52370108e-02,  -1.13080861e-02,   2.10992042e-02,\n",
       "         2.77687665e-02,  -3.71489264e-02,  -9.26610455e-02,\n",
       "         5.60180992e-02,  -4.11562854e-03,   8.88162665e-03,\n",
       "        -5.70102409e-02,  -9.02568549e-02,  -4.40246193e-03,\n",
       "        -1.15494899e-01,  -9.77286026e-02,   1.51504368e-01,\n",
       "         5.00757853e-03,  -4.37813699e-02,   7.23337242e-03,\n",
       "        -3.75039713e-03,  -4.13145460e-02,   4.02996093e-02,\n",
       "         4.35652100e-02,   4.08869535e-02,   4.09772545e-02,\n",
       "         1.29782200e-01,  -9.03824791e-02,  -6.89216107e-02,\n",
       "        -1.13002598e-01,   2.67846510e-02,   4.91591543e-03,\n",
       "        -6.57603983e-03,  -3.32410767e-04,   5.82518205e-02,\n",
       "        -6.33950830e-02,   3.51845585e-02,  -6.37796754e-03,\n",
       "         7.39068836e-02,   3.58140394e-02,  -5.24394587e-02,\n",
       "        -1.43602034e-02,   3.88179868e-02,  -7.32924491e-02,\n",
       "         3.89966518e-02,   1.38006695e-02,  -8.60432312e-02,\n",
       "        -3.19591537e-02,  -3.02759465e-02,  -3.36452536e-02,\n",
       "        -1.69905405e-02,   1.53491810e-01,  -2.72360425e-02,\n",
       "        -3.04034855e-02,  -5.62655032e-02,   9.14093703e-02,\n",
       "         6.36586696e-02,  -8.55968893e-02,  -1.37009555e-02,\n",
       "        -3.68029885e-02,   6.60487413e-02,  -6.50365055e-02,\n",
       "         8.83524790e-02,   1.00454763e-01,  -5.82752973e-02,\n",
       "        -2.91989613e-02,  -3.23060304e-02,   5.92289120e-02,\n",
       "        -1.94671971e-03,   3.34085748e-02,   3.48880216e-02,\n",
       "         3.88915986e-02,   2.46743523e-02,   2.12595221e-02,\n",
       "         2.17764005e-02,   6.61620796e-02,  -4.56394143e-02,\n",
       "         4.08956856e-02,  -7.47020394e-02,   1.47116790e-03,\n",
       "        -3.82044003e-03,  -5.15350550e-02,   1.95950828e-03,\n",
       "        -5.22590093e-02,   1.08239271e-01,  -5.67937493e-02,\n",
       "         6.01920635e-02,  -8.34945515e-02,  -7.88083076e-02,\n",
       "         2.54023317e-02,   4.98742536e-02,  -6.18844246e-03,\n",
       "         5.83011545e-02,   2.95358454e-03,  -1.17041476e-01,\n",
       "         4.70459647e-03,   1.70685500e-01,  -6.56123385e-02,\n",
       "         3.75999650e-03,   1.07128963e-01,   9.76599678e-02,\n",
       "        -1.74354110e-02,  -1.42381378e-02,   2.83699967e-02,\n",
       "         1.00093685e-01,   7.28092194e-02,   3.68355657e-03,\n",
       "         5.52370176e-02,   6.17053993e-02,  -5.67469895e-02,\n",
       "         2.45664977e-02,   4.47092205e-02,   4.53702770e-02,\n",
       "        -4.05497989e-03,  -7.49259349e-03,   1.84519701e-02,\n",
       "        -2.23185346e-02,   7.31545985e-02,   4.49304469e-02,\n",
       "         6.25200421e-02,  -9.15722698e-02,   6.20569848e-02,\n",
       "        -1.67054422e-02,   1.07530996e-01,   8.85084271e-02,\n",
       "        -5.68394288e-02,  -1.54375406e-02,   3.89316492e-02,\n",
       "        -1.34081328e-02,   4.26429510e-02,  -3.71403433e-02,\n",
       "         6.52274117e-02,   6.70932457e-02,  -1.04239471e-01,\n",
       "         1.95730161e-02,  -8.59865993e-02,  -3.08056381e-02,\n",
       "         5.18757328e-02,  -1.24064572e-02,  -1.32072479e-01,\n",
       "         1.12743974e-02,   4.02677432e-02,  -1.51786670e-01,\n",
       "         1.05861820e-01,  -9.70311910e-02,   1.32468957e-02,\n",
       "         3.90164740e-03,  -2.28638556e-02,  -8.93788263e-02,\n",
       "         2.14859601e-02,   8.43923092e-02,  -5.35159446e-02,\n",
       "        -1.79220170e-01,   1.98485181e-02,   2.90329959e-02,\n",
       "        -5.43098012e-03,  -1.14447571e-01,  -2.14308649e-02,\n",
       "         9.65253487e-02,  -8.23709369e-02,  -1.73156172e-01,\n",
       "         2.32566539e-02,   2.55151419e-03,   9.80864018e-02,\n",
       "        -1.78243697e-01,  -1.49945375e-02,   6.76475465e-02,\n",
       "         1.07409090e-01,   5.67482300e-02,  -1.56656485e-02,\n",
       "         2.79527251e-02,  -4.69184853e-02,   1.28213480e-01,\n",
       "        -9.32300836e-02,   6.10402320e-04,  -4.29119542e-02,\n",
       "        -6.36665802e-03,  -4.21965867e-02,   4.33073603e-02,\n",
       "         6.72652647e-02,   2.23526452e-02,   4.31573503e-02,\n",
       "         3.43929976e-02,  -7.66830519e-02,  -4.00870666e-02,\n",
       "         3.30801234e-02,  -3.01707461e-02,  -8.15262496e-02,\n",
       "         7.08192810e-02,  -9.26138982e-02,  -6.75996989e-02,\n",
       "         7.88059272e-03,  -1.98200271e-02,  -1.99262857e-01,\n",
       "        -1.86466053e-01,   4.03886661e-02,  -8.97997394e-02,\n",
       "         3.22730988e-02,   1.31101578e-01,  -1.09601365e-02,\n",
       "         7.58855790e-02,  -9.07023624e-03,  -5.18578812e-02,\n",
       "         1.12119995e-01,  -8.12914222e-03,  -3.38170342e-02,\n",
       "        -9.01480541e-02,  -5.69725037e-02,   8.49739555e-03,\n",
       "         2.59825718e-02,   1.24760464e-01,  -3.20391133e-02,\n",
       "         8.30915123e-02,   7.96777010e-02,  -4.57263812e-02,\n",
       "         1.51204048e-02,   7.61255175e-02,   4.95562367e-02,\n",
       "        -5.19720539e-02,   3.63458693e-02,  -4.79294062e-02,\n",
       "         4.53895256e-02,   2.21041143e-02,   1.16093591e-01,\n",
       "        -7.01349601e-02,   4.52102125e-02,  -2.61992938e-03,\n",
       "         3.81872989e-02,  -3.19106281e-02,  -7.49604851e-02,\n",
       "        -1.49373086e-02,   2.79787369e-02,  -1.03231696e-02,\n",
       "         9.14983824e-02,  -3.58918775e-03,   5.56202792e-02,\n",
       "        -5.38781434e-02,  -1.10785589e-02,  -1.83128938e-02,\n",
       "        -1.79675911e-02,  -4.49799523e-02,   1.03089251e-01,\n",
       "        -1.51833119e-02,   3.63299847e-02,  -2.15609111e-02,\n",
       "        -9.57430005e-02,  -4.32135798e-02,   1.00862365e-02,\n",
       "        -1.27213905e-02,   6.23016758e-03,  -1.63204630e-03,\n",
       "        -6.60525560e-02,  -2.83950998e-04,  -2.07037646e-02,\n",
       "        -1.21290982e-02,   6.55819252e-02,   5.84300421e-02,\n",
       "         9.94559750e-03,  -1.04749374e-01,   1.59412641e-02,\n",
       "        -3.30231935e-02,  -4.08307500e-02,  -6.23369776e-03,\n",
       "        -2.27735681e-03,   9.54739079e-02,   6.90527027e-03,\n",
       "        -8.59968364e-02,   6.74364865e-02,  -1.00668101e-02,\n",
       "         3.66066471e-02,  -2.56750155e-02,  -3.32948682e-03,\n",
       "        -5.76843433e-02,  -1.41730055e-01,  -5.13792597e-02,\n",
       "         1.76766198e-02,  -1.64140407e-02,   4.61266413e-02,\n",
       "         2.22204309e-02,   1.24150254e-01,   1.85276523e-01,\n",
       "         9.27937124e-03,   3.25459391e-02,  -1.19409911e-01,\n",
       "         3.48396748e-02,   1.60069913e-02,  -4.28065062e-02,\n",
       "         4.74685654e-02,   8.53237975e-03,   2.78203897e-02,\n",
       "         8.81002098e-03,   2.67470023e-03,   7.46859387e-02,\n",
       "         3.96451466e-02,   4.59050760e-02,   1.45570695e-01,\n",
       "         1.97918564e-02,  -6.10547066e-02,   2.84774248e-02,\n",
       "        -1.88701358e-02,  -1.91202424e-02,   1.70453247e-02,\n",
       "        -6.26782477e-02,  -3.97139825e-02,   1.08168758e-01,\n",
       "         2.76686754e-02,  -1.23113900e-01,  -8.01577326e-03,\n",
       "         1.25835175e-02,   3.39015499e-02,   2.97406577e-02,\n",
       "         1.34538993e-01,  -1.02463461e-01,  -1.92660931e-02,\n",
       "         1.40661389e-01,   1.21968374e-01,   5.47416955e-02,\n",
       "         2.92322319e-02,   2.96813957e-02,   2.00752579e-02,\n",
       "        -4.75969799e-02,  -1.63475156e-01,   3.66086587e-02,\n",
       "        -4.53663468e-02,  -5.64101487e-02,   2.45775352e-03,\n",
       "         2.27523595e-02,   2.28450075e-02,  -4.76916581e-02,\n",
       "         5.05441800e-02,   2.07732599e-02,   1.02421939e-02,\n",
       "         7.48222396e-02,  -2.61904020e-02,   9.53938216e-02,\n",
       "         3.29866186e-02,  -5.47599569e-02,   1.56301935e-03,\n",
       "         3.82115431e-02,   5.82279451e-03,   2.46687233e-02,\n",
       "         1.25354066e-01,  -5.46214618e-02,   8.38535726e-02,\n",
       "         6.35111006e-03,   4.82186396e-03,   1.17905661e-01,\n",
       "        -7.98089877e-02,  -7.40831643e-02,   6.66028485e-02,\n",
       "        -9.43199173e-02,   4.62392420e-02,   4.39159870e-02,\n",
       "         6.27595857e-02,  -6.83563799e-02,  -9.30626132e-03,\n",
       "        -1.05103524e-02,   7.91137218e-02,   1.57165211e-02,\n",
       "         5.56945875e-02,   5.84712811e-03,   1.50026958e-02,\n",
       "        -1.13853268e-01,  -9.55067500e-02,  -1.03334278e-01,\n",
       "        -1.96146518e-02,  -1.49616292e-02,   1.81347539e-04,\n",
       "        -8.84015858e-02,  -7.81434327e-02,   3.96284014e-02,\n",
       "         1.38468938e-02,   5.62418764e-03,  -3.11080720e-02,\n",
       "        -9.41440091e-03,  -8.50022398e-03,   5.74442819e-02,\n",
       "         8.14076960e-02,  -3.62089439e-03,   4.92821969e-02,\n",
       "         4.57677990e-02,  -1.36096962e-02,   2.42830925e-02,\n",
       "         2.33129002e-02,   2.35944055e-02,  -6.97415248e-02,\n",
       "         2.54962910e-02,   4.80165146e-02,  -1.90509465e-02,\n",
       "        -5.99239469e-02,  -1.28424661e-02,  -4.36503738e-02,\n",
       "         6.83674738e-02,   5.30378073e-02,   1.44694611e-01,\n",
       "        -6.23575225e-02,  -8.90865773e-02,  -4.02439237e-02,\n",
       "        -2.06628218e-02,   1.61948055e-01,   3.96691896e-02,\n",
       "         2.96270549e-02,  -2.28325166e-02,  -7.90856555e-02,\n",
       "         1.30321041e-01,   8.46751109e-02,   3.13368477e-02,\n",
       "         7.32486621e-02,   3.84858213e-02,  -4.30912636e-02,\n",
       "        -4.26176451e-02,  -1.30430991e-02,  -3.71295623e-02,\n",
       "        -2.88008824e-02,   1.94201946e-01,  -3.86790894e-02,\n",
       "         2.33671609e-02,  -1.37227207e-01,  -3.79416766e-03,\n",
       "        -5.85510209e-03,  -4.04221453e-02,  -4.05625477e-02,\n",
       "         8.39164704e-02,   2.89317835e-02,  -1.33754998e-01,\n",
       "         8.75207782e-02,  -1.23293195e-02,  -1.91334647e-03,\n",
       "        -2.06910726e-02,   2.17145924e-02,   1.91025659e-02,\n",
       "         4.41481546e-02,   3.93687375e-02,   4.15013731e-03,\n",
       "        -2.09624525e-02,   4.32396233e-02,  -3.31139155e-02,\n",
       "        -5.52762579e-03,   1.78534184e-02,  -2.60880664e-02,\n",
       "        -4.83804122e-02,  -1.26382485e-02,   3.75093892e-02,\n",
       "        -3.27125266e-02,  -2.75921486e-02,   9.25027858e-03,\n",
       "        -8.73976722e-02,  -5.47009967e-02,   1.76140755e-01,\n",
       "         3.52531411e-02,  -9.92835835e-02,  -1.31610468e-01,\n",
       "         2.52186414e-02,   1.79740526e-02,   1.35655347e-02,\n",
       "         1.43760871e-02,   7.21597597e-02,  -1.20249540e-01,\n",
       "        -1.48497624e-02,   5.28645441e-02,   1.10533953e-01,\n",
       "         1.79703999e-02,  -3.79603952e-02,  -4.22572792e-02,\n",
       "        -3.71766579e-03,   2.28689401e-03,   3.95486467e-02,\n",
       "         7.63300359e-02,  -1.06703021e-01,  -1.37694748e-02,\n",
       "         5.74833974e-02,   4.05516801e-03,  -2.95937620e-03,\n",
       "         4.10623327e-02,  -9.21738073e-02,  -4.86463383e-02,\n",
       "         7.71367550e-02,  -1.69994030e-02,  -2.53908932e-02,\n",
       "        -1.76934730e-02,  -7.74437264e-02,   3.73487286e-02,\n",
       "         1.68459993e-02,  -9.14084837e-02,   3.14687192e-02,\n",
       "        -6.34455457e-02,   1.00618660e-01,  -5.90840690e-02,\n",
       "         4.57061082e-02,   1.01604667e-02,   1.28325403e-01,\n",
       "        -5.22046126e-02,   7.27732405e-02,   9.25005898e-02,\n",
       "         8.30214377e-03,  -2.59517003e-02,   3.36906477e-03,\n",
       "        -4.34864964e-03,   4.87807766e-02,  -1.79915786e-01,\n",
       "         3.32015902e-02,  -7.32086450e-02,   3.60612161e-02,\n",
       "         5.26994001e-03,  -2.06268951e-02,   1.12699740e-01,\n",
       "        -2.70597753e-03,  -3.36667076e-02,  -3.38765979e-02,\n",
       "        -1.85481347e-02,   6.63165152e-02,  -6.76674908e-03,\n",
       "         3.87451635e-03,  -1.57038763e-01,  -1.26600474e-01,\n",
       "        -7.97324106e-02,   3.62651609e-02,  -8.93671904e-03,\n",
       "        -5.77721335e-02,  -7.68194646e-02,   2.12427340e-02,\n",
       "         8.55780169e-02,   5.61571196e-02,   3.44274677e-02,\n",
       "        -1.72613971e-02,   5.58637530e-02,   6.80561513e-02,\n",
       "         1.84967928e-02,  -2.68534236e-02,  -5.86445257e-02,\n",
       "         2.81999949e-02,   6.23091124e-02,   2.12934725e-02,\n",
       "         9.12088454e-02,  -1.33634016e-01,   3.81767750e-02,\n",
       "         3.48444358e-02,   5.06025814e-02,   4.94861491e-02,\n",
       "         1.15964964e-01,   7.65616372e-02,  -8.46867114e-02,\n",
       "        -2.56883390e-02,   1.02719136e-01,  -4.13589738e-03,\n",
       "        -2.56452523e-02,  -1.69742741e-02,  -2.81852428e-02,\n",
       "        -9.11602601e-02,   2.96309032e-02,  -1.02624997e-01,\n",
       "         7.40024168e-03,   1.65557619e-02,  -2.45338604e-02,\n",
       "        -1.17890902e-01,  -2.52864826e-02,  -8.41538832e-02,\n",
       "        -7.75295570e-02,   3.98649536e-02,   4.94574308e-02,\n",
       "         9.61793179e-04,   5.34676462e-02,   1.56366974e-01,\n",
       "        -7.80105740e-02,  -4.36066911e-02,   5.69092929e-02,\n",
       "         4.31900136e-02,  -6.96267709e-02,  -1.04108928e-02,\n",
       "         2.17547510e-02,  -9.94285941e-03,  -2.76953783e-02,\n",
       "         8.07660222e-02,   9.63634700e-02,   5.53117283e-02,\n",
       "        -6.52518868e-02,   4.00099754e-02,  -5.84285036e-02,\n",
       "        -2.56264769e-03,  -2.94849575e-02,  -2.51241885e-02,\n",
       "         3.10615525e-02,   7.64318779e-02,  -2.17061453e-02,\n",
       "         1.81497373e-02,   3.92123312e-02,   2.76888590e-02,\n",
       "         3.91689092e-02,  -5.27603477e-02,   1.22981116e-01,\n",
       "         5.22178449e-02,   5.89990318e-02,   1.01681035e-02,\n",
       "         6.64729625e-02,   4.10759822e-02,   3.02489623e-02,\n",
       "         9.50959325e-02,   1.49612082e-02,  -1.48022279e-01,\n",
       "         1.05787233e-01,  -3.81440111e-02,   4.66250256e-02,\n",
       "         6.62510917e-02,   6.09028526e-02,  -4.02918868e-02,\n",
       "         9.25607905e-02,  -6.48859665e-02,  -1.35482952e-01,\n",
       "         1.51395714e-02,  -6.87583312e-02,   1.20740114e-02,\n",
       "        -5.99207096e-02,   3.04517858e-02,   2.99817454e-02,\n",
       "        -6.68322295e-02,  -6.17168881e-02,  -2.07524821e-02,\n",
       "        -1.50126785e-01,   8.15106779e-02,  -2.16601193e-02,\n",
       "         7.22772395e-03,  -6.21988103e-02,  -2.54315007e-02,\n",
       "         9.55514684e-02,   2.18628850e-02,  -2.30988357e-02,\n",
       "         4.42302749e-02,   3.50625031e-02,  -1.38994604e-02,\n",
       "        -1.10227928e-01,  -7.70911500e-02,   1.20042019e-01,\n",
       "        -1.01550832e-01,  -7.29815289e-02,  -1.69299599e-02,\n",
       "         2.39854329e-03,  -1.59807550e-03,   5.82459942e-02,\n",
       "        -4.90854234e-02,  -3.48853320e-02,  -2.92216334e-02,\n",
       "        -4.52678464e-02,   6.98715970e-02,   3.14552635e-02,\n",
       "         3.44348811e-02,   5.93056604e-02,  -3.81521396e-02,\n",
       "         4.91837300e-02,   7.54177338e-03,  -2.63246652e-02,\n",
       "         5.86738400e-02,  -5.04541658e-02,  -8.82639736e-02,\n",
       "         8.79784673e-02,   4.26625013e-02,   6.42572343e-02,\n",
       "         1.61026008e-02,   6.52121007e-03,  -2.74103694e-02,\n",
       "         4.93352721e-03,   4.38257232e-02,  -6.14512190e-02,\n",
       "         1.31153911e-01,   5.05853146e-02,  -1.14456691e-01,\n",
       "        -5.43775000e-02,   1.61384761e-01,  -1.11732773e-01,\n",
       "        -2.17607189e-02,  -6.97092935e-02,   1.06261363e-02,\n",
       "        -6.92907944e-02,  -5.74194677e-02,   5.82792424e-02,\n",
       "        -5.69625869e-02,   1.37002751e-01,   4.59370539e-02,\n",
       "        -1.12145953e-02,   4.30621356e-02,  -5.35798371e-02,\n",
       "         1.52644631e-03,  -9.07993466e-02,  -7.56890997e-02,\n",
       "         8.58703405e-02,   5.15090786e-02,   2.11906247e-03,\n",
       "         5.18877199e-03,   9.39424988e-03,  -1.92852356e-02,\n",
       "        -4.85813543e-02,  -4.78060208e-02,   4.46362533e-02,\n",
       "         3.31387594e-02,  -4.95980354e-03,   1.17088351e-02,\n",
       "        -8.52207914e-02,   2.44174153e-02,   5.09181730e-02,\n",
       "         1.70764178e-02,  -1.49676437e-02,  -3.64723131e-02,\n",
       "         4.52402756e-02,   6.56954944e-02,  -1.36063360e-02,\n",
       "         8.15650523e-02,  -2.38218401e-02,  -3.01242210e-02,\n",
       "        -1.92704163e-02,   2.45141406e-02,  -2.91793253e-02,\n",
       "         3.95579785e-02,   5.27153164e-02,  -1.84912290e-02,\n",
       "         3.94477025e-02,   1.31131127e-01,   5.78168146e-02,\n",
       "        -1.32876202e-01,   1.51480604e-02,  -2.91022211e-02,\n",
       "        -5.20155579e-03,   1.38493344e-01,   2.90229004e-02,\n",
       "         1.35978237e-02,   5.94120063e-02,  -9.10976902e-02,\n",
       "         9.43460129e-03], dtype=float32)"
      ]
     },
     "execution_count": 224,
     "metadata": {},
     "output_type": "execute_result"
    }
   ],
   "source": [
    "frenchW2V['bien']"
   ]
  },
  {
   "cell_type": "raw",
   "metadata": {},
   "source": [
    "this method returns the top n similar ones. This is an interesting feature. Let's try it on some words:"
   ]
  },
  {
   "cell_type": "code",
   "execution_count": 225,
   "metadata": {},
   "outputs": [
    {
     "name": "stderr",
     "output_type": "stream",
     "text": [
      "2017-08-24 11:30:16,387 : INFO : precomputing L2-norms of word weight vectors\n"
     ]
    },
    {
     "data": {
      "text/plain": [
       "[(u'bien', 0.5377739667892456),\n",
       " (u'mieux', 0.4622610807418823),\n",
       " (u'pourquoi', 0.3916780352592468),\n",
       " (u'peur', 0.3831149637699127),\n",
       " (u'pourtant', 0.3812871277332306),\n",
       " (u'foutu', 0.3798130452632904),\n",
       " (u'compliqu\\xe9', 0.37696385383605957),\n",
       " (u'intentionn\\xe9s', 0.36648163199424744),\n",
       " (u'comprendre', 0.36104655265808105),\n",
       " (u'trop', 0.3609797954559326)]"
      ]
     },
     "execution_count": 225,
     "metadata": {},
     "output_type": "execute_result"
    }
   ],
   "source": [
    "frenchW2V.most_similar('mal')"
   ]
  },
  {
   "cell_type": "code",
   "execution_count": 229,
   "metadata": {},
   "outputs": [
    {
     "data": {
      "text/html": [
       "\n",
       "    <div class=\"bk-root\">\n",
       "        <a href=\"http://bokeh.pydata.org\" target=\"_blank\" class=\"bk-logo bk-logo-small bk-logo-notebook\"></a>\n",
       "        <span id=\"379a2d33-0e73-4572-8258-2d90af11fbb4\">Loading BokehJS ...</span>\n",
       "    </div>"
      ]
     },
     "metadata": {},
     "output_type": "display_data"
    },
    {
     "data": {
      "application/javascript": [
       "\n",
       "(function(global) {\n",
       "  function now() {\n",
       "    return new Date();\n",
       "  }\n",
       "\n",
       "  var force = true;\n",
       "\n",
       "  if (typeof (window._bokeh_onload_callbacks) === \"undefined\" || force === true) {\n",
       "    window._bokeh_onload_callbacks = [];\n",
       "    window._bokeh_is_loading = undefined;\n",
       "  }\n",
       "\n",
       "\n",
       "  \n",
       "  if (typeof (window._bokeh_timeout) === \"undefined\" || force === true) {\n",
       "    window._bokeh_timeout = Date.now() + 5000;\n",
       "    window._bokeh_failed_load = false;\n",
       "  }\n",
       "\n",
       "  var NB_LOAD_WARNING = {'data': {'text/html':\n",
       "     \"<div style='background-color: #fdd'>\\n\"+\n",
       "     \"<p>\\n\"+\n",
       "     \"BokehJS does not appear to have successfully loaded. If loading BokehJS from CDN, this \\n\"+\n",
       "     \"may be due to a slow or bad network connection. Possible fixes:\\n\"+\n",
       "     \"</p>\\n\"+\n",
       "     \"<ul>\\n\"+\n",
       "     \"<li>re-rerun `output_notebook()` to attempt to load from CDN again, or</li>\\n\"+\n",
       "     \"<li>use INLINE resources instead, as so:</li>\\n\"+\n",
       "     \"</ul>\\n\"+\n",
       "     \"<code>\\n\"+\n",
       "     \"from bokeh.resources import INLINE\\n\"+\n",
       "     \"output_notebook(resources=INLINE)\\n\"+\n",
       "     \"</code>\\n\"+\n",
       "     \"</div>\"}};\n",
       "\n",
       "  function display_loaded() {\n",
       "    if (window.Bokeh !== undefined) {\n",
       "      var el = document.getElementById(\"379a2d33-0e73-4572-8258-2d90af11fbb4\");\n",
       "      el.textContent = \"BokehJS \" + Bokeh.version + \" successfully loaded.\";\n",
       "    } else if (Date.now() < window._bokeh_timeout) {\n",
       "      setTimeout(display_loaded, 100)\n",
       "    }\n",
       "  }\n",
       "\n",
       "  function run_callbacks() {\n",
       "    try {\n",
       "      window._bokeh_onload_callbacks.forEach(function(callback) { callback() });\n",
       "    }\n",
       "    finally {\n",
       "      delete window._bokeh_onload_callbacks\n",
       "    }\n",
       "    console.info(\"Bokeh: all callbacks have finished\");\n",
       "  }\n",
       "\n",
       "  function load_libs(js_urls, callback) {\n",
       "    window._bokeh_onload_callbacks.push(callback);\n",
       "    if (window._bokeh_is_loading > 0) {\n",
       "      console.log(\"Bokeh: BokehJS is being loaded, scheduling callback at\", now());\n",
       "      return null;\n",
       "    }\n",
       "    if (js_urls == null || js_urls.length === 0) {\n",
       "      run_callbacks();\n",
       "      return null;\n",
       "    }\n",
       "    console.log(\"Bokeh: BokehJS not loaded, scheduling load and callback at\", now());\n",
       "    window._bokeh_is_loading = js_urls.length;\n",
       "    for (var i = 0; i < js_urls.length; i++) {\n",
       "      var url = js_urls[i];\n",
       "      var s = document.createElement('script');\n",
       "      s.src = url;\n",
       "      s.async = false;\n",
       "      s.onreadystatechange = s.onload = function() {\n",
       "        window._bokeh_is_loading--;\n",
       "        if (window._bokeh_is_loading === 0) {\n",
       "          console.log(\"Bokeh: all BokehJS libraries loaded\");\n",
       "          run_callbacks()\n",
       "        }\n",
       "      };\n",
       "      s.onerror = function() {\n",
       "        console.warn(\"failed to load library \" + url);\n",
       "      };\n",
       "      console.log(\"Bokeh: injecting script tag for BokehJS library: \", url);\n",
       "      document.getElementsByTagName(\"head\")[0].appendChild(s);\n",
       "    }\n",
       "  };var element = document.getElementById(\"379a2d33-0e73-4572-8258-2d90af11fbb4\");\n",
       "  if (element == null) {\n",
       "    console.log(\"Bokeh: ERROR: autoload.js configured with elementid '379a2d33-0e73-4572-8258-2d90af11fbb4' but no matching script tag was found. \")\n",
       "    return false;\n",
       "  }\n",
       "\n",
       "  var js_urls = [\"https://cdn.pydata.org/bokeh/release/bokeh-0.12.6.min.js\", \"https://cdn.pydata.org/bokeh/release/bokeh-widgets-0.12.6.min.js\"];\n",
       "\n",
       "  var inline_js = [\n",
       "    function(Bokeh) {\n",
       "      Bokeh.set_log_level(\"info\");\n",
       "    },\n",
       "    \n",
       "    function(Bokeh) {\n",
       "      \n",
       "    },\n",
       "    \n",
       "    function(Bokeh) {\n",
       "      \n",
       "      document.getElementById(\"379a2d33-0e73-4572-8258-2d90af11fbb4\").textContent = \"BokehJS is loading...\";\n",
       "    },\n",
       "    function(Bokeh) {\n",
       "      console.log(\"Bokeh: injecting CSS: https://cdn.pydata.org/bokeh/release/bokeh-0.12.6.min.css\");\n",
       "      Bokeh.embed.inject_css(\"https://cdn.pydata.org/bokeh/release/bokeh-0.12.6.min.css\");\n",
       "      console.log(\"Bokeh: injecting CSS: https://cdn.pydata.org/bokeh/release/bokeh-widgets-0.12.6.min.css\");\n",
       "      Bokeh.embed.inject_css(\"https://cdn.pydata.org/bokeh/release/bokeh-widgets-0.12.6.min.css\");\n",
       "    }\n",
       "  ];\n",
       "\n",
       "  function run_inline_js() {\n",
       "    \n",
       "    if ((window.Bokeh !== undefined) || (force === true)) {\n",
       "      for (var i = 0; i < inline_js.length; i++) {\n",
       "        inline_js[i](window.Bokeh);\n",
       "      }if (force === true) {\n",
       "        display_loaded();\n",
       "      }} else if (Date.now() < window._bokeh_timeout) {\n",
       "      setTimeout(run_inline_js, 100);\n",
       "    } else if (!window._bokeh_failed_load) {\n",
       "      console.log(\"Bokeh: BokehJS failed to load within specified timeout.\");\n",
       "      window._bokeh_failed_load = true;\n",
       "    } else if (force !== true) {\n",
       "      var cell = $(document.getElementById(\"379a2d33-0e73-4572-8258-2d90af11fbb4\")).parents('.cell').data().cell;\n",
       "      cell.output_area.append_execute_result(NB_LOAD_WARNING)\n",
       "    }\n",
       "\n",
       "  }\n",
       "\n",
       "  if (window._bokeh_is_loading === 0) {\n",
       "    console.log(\"Bokeh: BokehJS loaded, going straight to plotting\");\n",
       "    run_inline_js();\n",
       "  } else {\n",
       "    load_libs(js_urls, function() {\n",
       "      console.log(\"Bokeh: BokehJS plotting callback run at\", now());\n",
       "      run_inline_js();\n",
       "    });\n",
       "  }\n",
       "}(this));"
      ]
     },
     "metadata": {},
     "output_type": "display_data"
    },
    {
     "name": "stdout",
     "output_type": "stream",
     "text": [
      "[t-SNE] Computing pairwise distances...\n",
      "[t-SNE] Computing 91 nearest neighbors...\n",
      "[t-SNE] Computed conditional probabilities for sample 150 / 150\n",
      "[t-SNE] Mean sigma: 1.467537\n",
      "[t-SNE] KL divergence after 100 iterations with early exaggeration: 1.296409\n",
      "[t-SNE] Error after 150 iterations: 1.296409\n"
     ]
    },
    {
     "data": {
      "text/html": [
       "\n",
       "\n",
       "    <div class=\"bk-root\">\n",
       "        <div class=\"bk-plotdiv\" id=\"b2c9c9cc-35e3-4d7a-9c00-56b107f84549\"></div>\n",
       "    </div>\n",
       "<script type=\"text/javascript\">\n",
       "  \n",
       "  (function(global) {\n",
       "    function now() {\n",
       "      return new Date();\n",
       "    }\n",
       "  \n",
       "    var force = false;\n",
       "  \n",
       "    if (typeof (window._bokeh_onload_callbacks) === \"undefined\" || force === true) {\n",
       "      window._bokeh_onload_callbacks = [];\n",
       "      window._bokeh_is_loading = undefined;\n",
       "    }\n",
       "  \n",
       "  \n",
       "    \n",
       "    if (typeof (window._bokeh_timeout) === \"undefined\" || force === true) {\n",
       "      window._bokeh_timeout = Date.now() + 0;\n",
       "      window._bokeh_failed_load = false;\n",
       "    }\n",
       "  \n",
       "    var NB_LOAD_WARNING = {'data': {'text/html':\n",
       "       \"<div style='background-color: #fdd'>\\n\"+\n",
       "       \"<p>\\n\"+\n",
       "       \"BokehJS does not appear to have successfully loaded. If loading BokehJS from CDN, this \\n\"+\n",
       "       \"may be due to a slow or bad network connection. Possible fixes:\\n\"+\n",
       "       \"</p>\\n\"+\n",
       "       \"<ul>\\n\"+\n",
       "       \"<li>re-rerun `output_notebook()` to attempt to load from CDN again, or</li>\\n\"+\n",
       "       \"<li>use INLINE resources instead, as so:</li>\\n\"+\n",
       "       \"</ul>\\n\"+\n",
       "       \"<code>\\n\"+\n",
       "       \"from bokeh.resources import INLINE\\n\"+\n",
       "       \"output_notebook(resources=INLINE)\\n\"+\n",
       "       \"</code>\\n\"+\n",
       "       \"</div>\"}};\n",
       "  \n",
       "    function display_loaded() {\n",
       "      if (window.Bokeh !== undefined) {\n",
       "        var el = document.getElementById(\"b2c9c9cc-35e3-4d7a-9c00-56b107f84549\");\n",
       "        el.textContent = \"BokehJS \" + Bokeh.version + \" successfully loaded.\";\n",
       "      } else if (Date.now() < window._bokeh_timeout) {\n",
       "        setTimeout(display_loaded, 100)\n",
       "      }\n",
       "    }\n",
       "  \n",
       "    function run_callbacks() {\n",
       "      try {\n",
       "        window._bokeh_onload_callbacks.forEach(function(callback) { callback() });\n",
       "      }\n",
       "      finally {\n",
       "        delete window._bokeh_onload_callbacks\n",
       "      }\n",
       "      console.info(\"Bokeh: all callbacks have finished\");\n",
       "    }\n",
       "  \n",
       "    function load_libs(js_urls, callback) {\n",
       "      window._bokeh_onload_callbacks.push(callback);\n",
       "      if (window._bokeh_is_loading > 0) {\n",
       "        console.log(\"Bokeh: BokehJS is being loaded, scheduling callback at\", now());\n",
       "        return null;\n",
       "      }\n",
       "      if (js_urls == null || js_urls.length === 0) {\n",
       "        run_callbacks();\n",
       "        return null;\n",
       "      }\n",
       "      console.log(\"Bokeh: BokehJS not loaded, scheduling load and callback at\", now());\n",
       "      window._bokeh_is_loading = js_urls.length;\n",
       "      for (var i = 0; i < js_urls.length; i++) {\n",
       "        var url = js_urls[i];\n",
       "        var s = document.createElement('script');\n",
       "        s.src = url;\n",
       "        s.async = false;\n",
       "        s.onreadystatechange = s.onload = function() {\n",
       "          window._bokeh_is_loading--;\n",
       "          if (window._bokeh_is_loading === 0) {\n",
       "            console.log(\"Bokeh: all BokehJS libraries loaded\");\n",
       "            run_callbacks()\n",
       "          }\n",
       "        };\n",
       "        s.onerror = function() {\n",
       "          console.warn(\"failed to load library \" + url);\n",
       "        };\n",
       "        console.log(\"Bokeh: injecting script tag for BokehJS library: \", url);\n",
       "        document.getElementsByTagName(\"head\")[0].appendChild(s);\n",
       "      }\n",
       "    };var element = document.getElementById(\"b2c9c9cc-35e3-4d7a-9c00-56b107f84549\");\n",
       "    if (element == null) {\n",
       "      console.log(\"Bokeh: ERROR: autoload.js configured with elementid 'b2c9c9cc-35e3-4d7a-9c00-56b107f84549' but no matching script tag was found. \")\n",
       "      return false;\n",
       "    }\n",
       "  \n",
       "    var js_urls = [];\n",
       "  \n",
       "    var inline_js = [\n",
       "      function(Bokeh) {\n",
       "        (function() {\n",
       "          var fn = function() {\n",
       "            var docs_json = {\"7710659b-daa5-4e17-9128-f9074f88dc14\":{\"roots\":{\"references\":[{\"attributes\":{\"callback\":null,\"column_names\":[\"y\",\"x\",\"words\",\"index\"],\"data\":{\"index\":[0,1,2,3,4,5,6,7,8,9,10,11,12,13,14,15,16,17,18,19,20,21,22,23,24,25,26,27,28,29,30,31,32,33,34,35,36,37,38,39,40,41,42,43,44,45,46,47,48,49,50,51,52,53,54,55,56,57,58,59,60,61,62,63,64,65,66,67,68,69,70,71,72,73,74,75,76,77,78,79,80,81,82,83,84,85,86,87,88,89,90,91,92,93,94,95,96,97,98,99,100,101,102,103,104,105,106,107,108,109,110,111,112,113,114,115,116,117,118,119,120,121,122,123,124,125,126,127,128,129,130,131,132,133,134,135,136,137,138,139,140,141,142,143,144,145,146,147,148,149],\"words\":[\"fawn\",\"\\u00e9difie\",\"bouddhisme\",\"anxieuse\",\"sonja\",\"huileux\",\"m\\u00e9thodologies\",\"accueille\",\"spiders\",\"francesco\",\"francesca\",\"suzana\",\"r\\u00e9volutions\",\"accueilli\",\"isaia\",\"canet\",\"rectangulaires\",\"yougoslavie\",\"orthographier\",\"lib\\u00e9r\\u00e9s\",\"repartira\",\"embl\\u00e9matiques\",\"toise\",\"hermann\",\"lib\\u00e9r\\u00e9e\",\"erratiques\",\"goutti\\u00e8res\",\"\\u00e9lectrodes\",\"enseveli\",\"aveuglante\",\"obligeance\",\"d\\u00e9verser\",\"savaient\",\"adrianna\",\"grenadiers\",\"bratislava\",\"manade\",\"touristes\",\"adoptent\",\"fractal\",\"encrier\",\"sexu\\u00e9\",\"consid\\u00e9rable\",\"gerbille\",\"liaisons\",\"ratifie\",\"pr\\u00e9c\\u00e9d\\u00e9\",\"pioches\",\"piocher\",\"douilles\",\"paup\\u00e9risation\",\"assignats\",\"ferrants\",\"controvers\\u00e9\",\"chaussure\",\"thrace\",\"ouvr\\u00e9s\",\"concr\\u00e9tion\",\"digrammes\",\"audimat\",\"diversifi\\u00e9es\",\"miniatures\",\"renon\\u00e7ait\",\"\\u00e9toff\\u00e9e\",\"woody\",\"resserrement\",\"pr\\u00e9ludes\",\"originalit\\u00e9\",\"d\\u00e9jections\",\"revisit\\u00e9e\",\"empi\\u00e9ter\",\"voilures\",\"recyclage\",\"r\\u00e9fugiant\",\"noisetiers\",\"familles\",\"brid\\u00e9s\",\"st\\u00e9r\\u00e9otypes\",\"\\u00e9coula\",\"hazebrouck\",\"trap\\u00e8ze\",\"creully\",\"taquine\",\"abr\\u00e9viations\",\"pourparlers\",\"cumulent\",\"chine\",\"clarinettes\",\"comm\\u00e9rages\",\"china\",\"shura\",\"rorquals\",\"incarnant\",\"entach\\u00e9es\",\"mestres\",\"pr\\u00e9c\\u00e9da\",\"\\u00e9lut\",\"chalamont\",\"volantes\",\"m\\u00e9tabolisme\",\"naturel\",\"woogie\",\"a\\u00e9riens\",\"renflement\",\"d\\u00e9corent\",\"controverse\",\"\\u00e9piphyse\",\"nomades\",\"natures\",\"sebkha\",\"catabolisme\",\"antillaise\",\"golden\",\"rythm\\u00e9\",\"projection\",\"malles\",\"d\\u00e9sert\\u00e9\",\"comp\\u00e9titives\",\"badois\",\"modifi\\u00e9s\",\"reuel\",\"abandonnent\",\"h\\u00e9riss\\u00e9\",\"informels\",\"modifi\\u00e9e\",\"battista\",\"allumette\",\"sensibilisation\",\"topographe\",\"rythment\",\"r\\u00e9trocession\",\"transport\\u00e9e\",\"grahame\",\"constitutif\",\"ba\\u00efonnettes\",\"cadenc\\u00e9\",\"houdain\",\"catche\",\"jumelages\",\"\\u00e9panouit\",\"voyageur\",\"comp\\u00e9titions\",\"contentera\",\"glan\\u00e9es\",\"pegmatites\",\"benedikt\",\"sem\\u00e9e\",\"populations\",\"albumen\",\"gijs\"],\"x\":{\"__ndarray__\":\"qR5KJUNLSEAYkiulLX/yP0U1UbUMKDBAI5YbAA2DOUBJUmmFgSlKwA/407cevBxAtzRuJRCwSED7LO/BrpQswAL2vcj4MirAm5HPBldQUkBvDtebfkhQwGJHqhc1WUfAv2jxfm/s5j9hX83kJZIzwNEeAj1s90xAOU1+sxkxRcBtX4W7ITdLQMaxaFTZ1kHAa/yyQ9+8J8C8IHE99r9AQDHDvHrNtBrA7r8H0gzfScCN+yse/30NQBvxY3nArf2/edmhb8GyP0DezhQwmYzXP6/IKV4EFBVAVwZPkLZPTECTmc8g8d4ywF+y2XtK2DHAJn+atSUIMED6dJleWcIZQPHzos1Ve0JArO6X4TqcUcAnr2dTim8pwEwYwPpV9CrA+0X/isMvVECWWRuADDxUwFESQHJyrjBArkoFj+bYTsBpUQ0Gg4tJwJccEh6lAwpAHRFZCcwLBUA+QeRsEzoxwNcf3N5c7z7AlF2WoQoARUBf1hRR2Og2QLXzsMdmVlhAfDongrPuUED8uHS9ugxDwOyf7n/8FFFA1nMJlL66OUCBo352V4hTwCrSNtiuDRhAdq7B+EG1PcA7f8bCBplEwFBlOjs8ODXAKUYSnHzB6795rP90WAc6QJjBEXTGG0VAcyw/VlfDSECRt1dwcgU0QGdTlvIIIzlAJUG+MkyeLcBJaTktfV84wGjiuGT6+TVAxQdmYh9jOcDcQHzi3jbwvwQySIDwm0lAq3DF2BWMRsA6fTUlA2A0QC4SNB88BhLA45IE3tQMRkBAKkijvJxEQMVa4eHofRzA1K2DexHuQUAcFnanTKk+wNSX4NNg5UVA5yWHwcwSLECahkcmN9crQFE+DtOqpFHAPjVVsQjuRMDp0XZT3ehOwJVP+6VuDCPAaFvcIAoGR0DewWSStZBPwOCTf4tBkk9Ai3eC+6wzPcBJvjy+7zwcQIGd5+OmdVFAp1J05oWWLkAzha/dh49PQLDgGY+pjEHALlrCuqsALkDLdjCbuGQ2wL24y3pztTxAvhu8pF2nJED4/mHOwGFJQHWIe96LQyNAuIwB75lHQkBbdAcp92I1QAmiaCk1/EzAP61SxTx0O0CduaVzocopwAgoGgqad0BAiRoCTk9sHkBkrLj5GgtCwEFZ3XeLDEXAHscjX0hvQ0DEgfOb+RwwQP6oY7Mpjj5A8RV5nbb5BMAsgYHeMCpKwJjZ3e6XNiJAoVm+oF6dJEB8vk0Uy3ZLwA1Piz6cGiLALfbSgDdaTEABmmRFQhY5QILTr3vTbSTARLjNnJBhPcBZ2QdR35A0QGmGp5evvDDAWrnl9+voLsD/r/oZ1ioZwFDGlkxFklJArg/QM9EhH8Dv3xBcxhhCQDB05YIsXxlABFTLhPm5OUB6fytnoAE5wMViXLaEnkBAVyyJc5gpUMDjoQ5aAylCQFquqDW3aDLA3+Qgl3sNEMD+P8IzEKtKwCwtZ+xUAFFAmw6vZb2pH8AhPPADoKlDwI/2vtzykSVAKK3YV8pNOcBbbfvSAFwhQLkDHrCJDkrAioTixIwl2T9tReBkuMVSwPBQdoXz6TNAz1huW1IHRUDPyIsjoqwhQAuh21YhJT/A\",\"dtype\":\"float64\",\"shape\":[150]},\"y\":{\"__ndarray__\":\"53UsFf/aKkAOSv0KuS4owKcZRQzzdBFASG0AWzNcTEB5RTDhAlg8wLkBxe2JtlJAkOV9KKvISEDh2OhdxuXdv7IBwucRflLAXuyHd4vLDcCJR2+JPugwwIAzqsQkl0HA8C1s3eADNcCZstsDohbmPwf2ZqcxDQxA5SKPIxxzH0DPt8Wd9+cvwMgY99+yUybAK8jT6L72QcCuvCcttlFBwB/z1rpdHBXAWkvShHYJHkAxzBqxSudQwFF1oDPEcz7AWGv7mf+aRMCMdlanl2UnQFkAE3l+K1TAdyCYE3mXO8ACfxVWmk81wCKatUdC7iVA/pfYP1BWNkDIWVDIae5ZQLEsN0X5wTrAXf7sU4+mSMAtOCMjiepNQAkYPRVAc1bA3meQtCL5NcAuMT32UFM8wHyYeiVEGynAagAZkaSLTkBmQ/f0kD0QwERZ79/EKETA74btImV2EcDLDd+YXEVIwAHHGLfkAz5AHP6BJh2pIsCUceND6BlGQHC5ER+tFSzA0MLMyeYsSUCEnFCiw+87wG6eTxDm6iBA8bZR5xNuQEAB5iPl/8gkwI7MCj53fvg/fMGES8hZLkCUakCTHVFTQKfYdV6lBjVAPa4kL0YeNUCFBbo0SFM2QNrhLXjQEU9ATYk5RwLNOkCIervKRzgMwB/9m9LbgFHAfFYfyKQ7JMDpQchkf2E+wDZlZaKFg0nAOjHe4OSMIcDS9sIjwkP4Pz81eixUsRPAP84Snx3qK8Cui5Q2lR0nQAuzA76qT03ATwGsyxUcUMDtMc/icywzwDEEu7E32VJAyPy/4M4EE0Aldtc2RGBKwGmI0EpbykJAguYRL9V9QUA7FUzBb1ROwKpTBW8KCzJAajC3ezsSQ0D/mkk6RdNLwHXz/+GQnzBAQYkg+nJ3QsCCglvXIDXhP0uxrqh7QjRAyp+Kt1AEE0CcDt4cPU06QBPrbBG/EjdAebO0ErHzXcCOd+IM92NTwEvPCZWYQvi/IOiRKw/jN8C0BcNl4n9LQOISkZP/ZTPAdf9sb78mLkCKFm/RxidJwGPhw8sM7UZAgHfX5LK3UkCOOL9atdhRQMEEKvGFLUBABAf9+tEe9z9nD3zKV1NFQHwAndkqbSPAgHn5nSrsGUDZsijjZSBOQIQteM/oLU7Aey2hGKrtMkCQz4In7zZAwJtm0jFOOSxA//WJz9KfSUAPDb7JR8FGwPn0qr8xXDLAIMG4Ix0eSMB36bb1/HszwCINoa8vRTnAf9x0iEiLQECOvML0heA7wPWy/B7dZjHA88MAykU6RMD+HBp7V/IwwHX43x19I03AAJTVXhctPUCsRzrhJ6MrwEsrPDaYLSHAQ+U11h0MGkD2ndvB8AxHQIdejjcogT7AyjQHPM6II8CjXTzZGeZQwHtHdtJ5NUjA9P45IJ3PPsD8OcDwIno9QBB91kA/gFBAOdXnDW+OR8B+Pi3RvsRHQOqKMPauFELAL1IK3QPLPUAIv1sgLyg0QEWVRpRo+wvA7oBWkHs1REApV305vfskwBLzQADzfTRAbMBHhGsOQkDqzk0ZPa9CQH4A7kfjNkTAzDzbYspnAUDVDlC3wGxNQHTr/t/GjTTA\",\"dtype\":\"float64\",\"shape\":[150]}}},\"id\":\"e9cec89a-212d-4940-90d8-284a16ffd550\",\"type\":\"ColumnDataSource\"},{\"attributes\":{\"overlay\":{\"id\":\"5fa476e8-1b94-4b0f-91d0-74a9f031890a\",\"type\":\"BoxAnnotation\"},\"plot\":{\"id\":\"214776b1-066e-45f6-96a6-d387c888cf98\",\"subtype\":\"Figure\",\"type\":\"Plot\"}},\"id\":\"b7f9df26-9372-4cb1-8793-e97b01581472\",\"type\":\"BoxZoomTool\"},{\"attributes\":{\"callback\":null,\"plot\":{\"id\":\"214776b1-066e-45f6-96a6-d387c888cf98\",\"subtype\":\"Figure\",\"type\":\"Plot\"}},\"id\":\"b0e7d624-603a-405f-822e-a5c8dca4c07c\",\"type\":\"HoverTool\"},{\"attributes\":{\"data_source\":{\"id\":\"b993bf1d-3b87-4fab-acd0-2e98f0b397e7\",\"type\":\"ColumnDataSource\"},\"glyph\":{\"id\":\"e4afec46-1c87-42cc-afbd-20c000a4b3d5\",\"type\":\"Circle\"},\"hover_glyph\":null,\"muted_glyph\":null,\"nonselection_glyph\":{\"id\":\"10d4702c-4f2d-475a-8324-1d9b266671ae\",\"type\":\"Circle\"},\"selection_glyph\":null},\"id\":\"6924545b-db02-4173-9cb1-b74b96e9ce1c\",\"type\":\"GlyphRenderer\"},{\"attributes\":{\"plot\":{\"id\":\"214776b1-066e-45f6-96a6-d387c888cf98\",\"subtype\":\"Figure\",\"type\":\"Plot\"}},\"id\":\"066bfbfd-e99a-4b8b-b3e3-2c0a01799072\",\"type\":\"PanTool\"},{\"attributes\":{\"callback\":null,\"column_names\":[\"y\",\"x\",\"words\",\"index\"],\"data\":{\"index\":[0,1,2,3,4,5,6,7,8,9,10,11,12,13,14,15,16,17,18,19,20,21,22,23,24,25,26,27,28,29,30,31,32,33,34,35,36,37,38,39,40,41,42,43,44,45,46,47,48,49,50,51,52,53,54,55,56,57,58,59,60,61,62,63,64,65,66,67,68,69,70,71,72,73,74,75,76,77,78,79,80,81,82,83,84,85,86,87,88,89,90,91,92,93,94,95,96,97,98,99,100,101,102,103,104,105,106,107,108,109,110,111,112,113,114,115,116,117,118,119,120,121,122,123,124,125,126,127,128,129,130,131,132,133,134,135,136,137,138,139,140,141,142,143,144,145,146,147,148,149],\"words\":[\"fawn\",\"\\u00e9difie\",\"bouddhisme\",\"anxieuse\",\"sonja\",\"huileux\",\"m\\u00e9thodologies\",\"accueille\",\"spiders\",\"francesco\",\"francesca\",\"suzana\",\"r\\u00e9volutions\",\"accueilli\",\"isaia\",\"canet\",\"rectangulaires\",\"yougoslavie\",\"orthographier\",\"lib\\u00e9r\\u00e9s\",\"repartira\",\"embl\\u00e9matiques\",\"toise\",\"hermann\",\"lib\\u00e9r\\u00e9e\",\"erratiques\",\"goutti\\u00e8res\",\"\\u00e9lectrodes\",\"enseveli\",\"aveuglante\",\"obligeance\",\"d\\u00e9verser\",\"savaient\",\"adrianna\",\"grenadiers\",\"bratislava\",\"manade\",\"touristes\",\"adoptent\",\"fractal\",\"encrier\",\"sexu\\u00e9\",\"consid\\u00e9rable\",\"gerbille\",\"liaisons\",\"ratifie\",\"pr\\u00e9c\\u00e9d\\u00e9\",\"pioches\",\"piocher\",\"douilles\",\"paup\\u00e9risation\",\"assignats\",\"ferrants\",\"controvers\\u00e9\",\"chaussure\",\"thrace\",\"ouvr\\u00e9s\",\"concr\\u00e9tion\",\"digrammes\",\"audimat\",\"diversifi\\u00e9es\",\"miniatures\",\"renon\\u00e7ait\",\"\\u00e9toff\\u00e9e\",\"woody\",\"resserrement\",\"pr\\u00e9ludes\",\"originalit\\u00e9\",\"d\\u00e9jections\",\"revisit\\u00e9e\",\"empi\\u00e9ter\",\"voilures\",\"recyclage\",\"r\\u00e9fugiant\",\"noisetiers\",\"familles\",\"brid\\u00e9s\",\"st\\u00e9r\\u00e9otypes\",\"\\u00e9coula\",\"hazebrouck\",\"trap\\u00e8ze\",\"creully\",\"taquine\",\"abr\\u00e9viations\",\"pourparlers\",\"cumulent\",\"chine\",\"clarinettes\",\"comm\\u00e9rages\",\"china\",\"shura\",\"rorquals\",\"incarnant\",\"entach\\u00e9es\",\"mestres\",\"pr\\u00e9c\\u00e9da\",\"\\u00e9lut\",\"chalamont\",\"volantes\",\"m\\u00e9tabolisme\",\"naturel\",\"woogie\",\"a\\u00e9riens\",\"renflement\",\"d\\u00e9corent\",\"controverse\",\"\\u00e9piphyse\",\"nomades\",\"natures\",\"sebkha\",\"catabolisme\",\"antillaise\",\"golden\",\"rythm\\u00e9\",\"projection\",\"malles\",\"d\\u00e9sert\\u00e9\",\"comp\\u00e9titives\",\"badois\",\"modifi\\u00e9s\",\"reuel\",\"abandonnent\",\"h\\u00e9riss\\u00e9\",\"informels\",\"modifi\\u00e9e\",\"battista\",\"allumette\",\"sensibilisation\",\"topographe\",\"rythment\",\"r\\u00e9trocession\",\"transport\\u00e9e\",\"grahame\",\"constitutif\",\"ba\\u00efonnettes\",\"cadenc\\u00e9\",\"houdain\",\"catche\",\"jumelages\",\"\\u00e9panouit\",\"voyageur\",\"comp\\u00e9titions\",\"contentera\",\"glan\\u00e9es\",\"pegmatites\",\"benedikt\",\"sem\\u00e9e\",\"populations\",\"albumen\",\"gijs\"],\"x\":{\"__ndarray__\":\"qR5KJUNLSEAYkiulLX/yP0U1UbUMKDBAI5YbAA2DOUBJUmmFgSlKwA/407cevBxAtzRuJRCwSED7LO/BrpQswAL2vcj4MirAm5HPBldQUkBvDtebfkhQwGJHqhc1WUfAv2jxfm/s5j9hX83kJZIzwNEeAj1s90xAOU1+sxkxRcBtX4W7ITdLQMaxaFTZ1kHAa/yyQ9+8J8C8IHE99r9AQDHDvHrNtBrA7r8H0gzfScCN+yse/30NQBvxY3nArf2/edmhb8GyP0DezhQwmYzXP6/IKV4EFBVAVwZPkLZPTECTmc8g8d4ywF+y2XtK2DHAJn+atSUIMED6dJleWcIZQPHzos1Ve0JArO6X4TqcUcAnr2dTim8pwEwYwPpV9CrA+0X/isMvVECWWRuADDxUwFESQHJyrjBArkoFj+bYTsBpUQ0Gg4tJwJccEh6lAwpAHRFZCcwLBUA+QeRsEzoxwNcf3N5c7z7AlF2WoQoARUBf1hRR2Og2QLXzsMdmVlhAfDongrPuUED8uHS9ugxDwOyf7n/8FFFA1nMJlL66OUCBo352V4hTwCrSNtiuDRhAdq7B+EG1PcA7f8bCBplEwFBlOjs8ODXAKUYSnHzB6795rP90WAc6QJjBEXTGG0VAcyw/VlfDSECRt1dwcgU0QGdTlvIIIzlAJUG+MkyeLcBJaTktfV84wGjiuGT6+TVAxQdmYh9jOcDcQHzi3jbwvwQySIDwm0lAq3DF2BWMRsA6fTUlA2A0QC4SNB88BhLA45IE3tQMRkBAKkijvJxEQMVa4eHofRzA1K2DexHuQUAcFnanTKk+wNSX4NNg5UVA5yWHwcwSLECahkcmN9crQFE+DtOqpFHAPjVVsQjuRMDp0XZT3ehOwJVP+6VuDCPAaFvcIAoGR0DewWSStZBPwOCTf4tBkk9Ai3eC+6wzPcBJvjy+7zwcQIGd5+OmdVFAp1J05oWWLkAzha/dh49PQLDgGY+pjEHALlrCuqsALkDLdjCbuGQ2wL24y3pztTxAvhu8pF2nJED4/mHOwGFJQHWIe96LQyNAuIwB75lHQkBbdAcp92I1QAmiaCk1/EzAP61SxTx0O0CduaVzocopwAgoGgqad0BAiRoCTk9sHkBkrLj5GgtCwEFZ3XeLDEXAHscjX0hvQ0DEgfOb+RwwQP6oY7Mpjj5A8RV5nbb5BMAsgYHeMCpKwJjZ3e6XNiJAoVm+oF6dJEB8vk0Uy3ZLwA1Piz6cGiLALfbSgDdaTEABmmRFQhY5QILTr3vTbSTARLjNnJBhPcBZ2QdR35A0QGmGp5evvDDAWrnl9+voLsD/r/oZ1ioZwFDGlkxFklJArg/QM9EhH8Dv3xBcxhhCQDB05YIsXxlABFTLhPm5OUB6fytnoAE5wMViXLaEnkBAVyyJc5gpUMDjoQ5aAylCQFquqDW3aDLA3+Qgl3sNEMD+P8IzEKtKwCwtZ+xUAFFAmw6vZb2pH8AhPPADoKlDwI/2vtzykSVAKK3YV8pNOcBbbfvSAFwhQLkDHrCJDkrAioTixIwl2T9tReBkuMVSwPBQdoXz6TNAz1huW1IHRUDPyIsjoqwhQAuh21YhJT/A\",\"dtype\":\"float64\",\"shape\":[150]},\"y\":{\"__ndarray__\":\"53UsFf/aKkAOSv0KuS4owKcZRQzzdBFASG0AWzNcTEB5RTDhAlg8wLkBxe2JtlJAkOV9KKvISEDh2OhdxuXdv7IBwucRflLAXuyHd4vLDcCJR2+JPugwwIAzqsQkl0HA8C1s3eADNcCZstsDohbmPwf2ZqcxDQxA5SKPIxxzH0DPt8Wd9+cvwMgY99+yUybAK8jT6L72QcCuvCcttlFBwB/z1rpdHBXAWkvShHYJHkAxzBqxSudQwFF1oDPEcz7AWGv7mf+aRMCMdlanl2UnQFkAE3l+K1TAdyCYE3mXO8ACfxVWmk81wCKatUdC7iVA/pfYP1BWNkDIWVDIae5ZQLEsN0X5wTrAXf7sU4+mSMAtOCMjiepNQAkYPRVAc1bA3meQtCL5NcAuMT32UFM8wHyYeiVEGynAagAZkaSLTkBmQ/f0kD0QwERZ79/EKETA74btImV2EcDLDd+YXEVIwAHHGLfkAz5AHP6BJh2pIsCUceND6BlGQHC5ER+tFSzA0MLMyeYsSUCEnFCiw+87wG6eTxDm6iBA8bZR5xNuQEAB5iPl/8gkwI7MCj53fvg/fMGES8hZLkCUakCTHVFTQKfYdV6lBjVAPa4kL0YeNUCFBbo0SFM2QNrhLXjQEU9ATYk5RwLNOkCIervKRzgMwB/9m9LbgFHAfFYfyKQ7JMDpQchkf2E+wDZlZaKFg0nAOjHe4OSMIcDS9sIjwkP4Pz81eixUsRPAP84Snx3qK8Cui5Q2lR0nQAuzA76qT03ATwGsyxUcUMDtMc/icywzwDEEu7E32VJAyPy/4M4EE0Aldtc2RGBKwGmI0EpbykJAguYRL9V9QUA7FUzBb1ROwKpTBW8KCzJAajC3ezsSQ0D/mkk6RdNLwHXz/+GQnzBAQYkg+nJ3QsCCglvXIDXhP0uxrqh7QjRAyp+Kt1AEE0CcDt4cPU06QBPrbBG/EjdAebO0ErHzXcCOd+IM92NTwEvPCZWYQvi/IOiRKw/jN8C0BcNl4n9LQOISkZP/ZTPAdf9sb78mLkCKFm/RxidJwGPhw8sM7UZAgHfX5LK3UkCOOL9atdhRQMEEKvGFLUBABAf9+tEe9z9nD3zKV1NFQHwAndkqbSPAgHn5nSrsGUDZsijjZSBOQIQteM/oLU7Aey2hGKrtMkCQz4In7zZAwJtm0jFOOSxA//WJz9KfSUAPDb7JR8FGwPn0qr8xXDLAIMG4Ix0eSMB36bb1/HszwCINoa8vRTnAf9x0iEiLQECOvML0heA7wPWy/B7dZjHA88MAykU6RMD+HBp7V/IwwHX43x19I03AAJTVXhctPUCsRzrhJ6MrwEsrPDaYLSHAQ+U11h0MGkD2ndvB8AxHQIdejjcogT7AyjQHPM6II8CjXTzZGeZQwHtHdtJ5NUjA9P45IJ3PPsD8OcDwIno9QBB91kA/gFBAOdXnDW+OR8B+Pi3RvsRHQOqKMPauFELAL1IK3QPLPUAIv1sgLyg0QEWVRpRo+wvA7oBWkHs1REApV305vfskwBLzQADzfTRAbMBHhGsOQkDqzk0ZPa9CQH4A7kfjNkTAzDzbYspnAUDVDlC3wGxNQHTr/t/GjTTA\",\"dtype\":\"float64\",\"shape\":[150]}}},\"id\":\"b993bf1d-3b87-4fab-acd0-2e98f0b397e7\",\"type\":\"ColumnDataSource\"},{\"attributes\":{},\"id\":\"fb9774be-5227-4e49-8b83-2fb2e345abc6\",\"type\":\"LinearScale\"},{\"attributes\":{\"plot\":{\"id\":\"214776b1-066e-45f6-96a6-d387c888cf98\",\"subtype\":\"Figure\",\"type\":\"Plot\"}},\"id\":\"fbc75b80-e551-41f9-882e-054440fa60f7\",\"type\":\"SaveTool\"},{\"attributes\":{\"fill_color\":{\"value\":\"#1f77b4\"},\"line_color\":{\"value\":\"#1f77b4\"},\"x\":{\"field\":\"x\"},\"y\":{\"field\":\"y\"}},\"id\":\"e4afec46-1c87-42cc-afbd-20c000a4b3d5\",\"type\":\"Circle\"},{\"attributes\":{\"callback\":null},\"id\":\"54d29f7d-7d89-4cbd-9d55-c331696685e6\",\"type\":\"DataRange1d\"},{\"attributes\":{\"plot\":{\"id\":\"214776b1-066e-45f6-96a6-d387c888cf98\",\"subtype\":\"Figure\",\"type\":\"Plot\"},\"source\":{\"id\":\"e9cec89a-212d-4940-90d8-284a16ffd550\",\"type\":\"ColumnDataSource\"},\"text\":{\"field\":\"words\"},\"text_align\":\"center\",\"text_color\":{\"value\":\"#555555\"},\"text_font_size\":{\"value\":\"10pt\"},\"x\":{\"field\":\"x\"},\"y\":{\"field\":\"y\"},\"y_offset\":{\"value\":8}},\"id\":\"dd09d847-20c0-4982-b94f-b1003d40a488\",\"type\":\"LabelSet\"},{\"attributes\":{\"min_border\":1,\"plot_width\":700,\"renderers\":[{\"id\":\"5fa476e8-1b94-4b0f-91d0-74a9f031890a\",\"type\":\"BoxAnnotation\"},{\"id\":\"6924545b-db02-4173-9cb1-b74b96e9ce1c\",\"type\":\"GlyphRenderer\"},{\"id\":\"dd09d847-20c0-4982-b94f-b1003d40a488\",\"type\":\"LabelSet\"}],\"title\":{\"id\":\"e9612f87-2750-4394-8feb-ee8ce7ab9022\",\"type\":\"Title\"},\"tool_events\":{\"id\":\"74b93a34-cb89-42b2-bed8-3b19a4211076\",\"type\":\"ToolEvents\"},\"toolbar\":{\"id\":\"d7735d54-ecf4-4d65-8c9c-9d17c2190557\",\"type\":\"Toolbar\"},\"x_range\":{\"id\":\"54d29f7d-7d89-4cbd-9d55-c331696685e6\",\"type\":\"DataRange1d\"},\"x_scale\":{\"id\":\"23786325-e6fb-40e1-80e6-edf20f026ec1\",\"type\":\"LinearScale\"},\"y_range\":{\"id\":\"2ced5c36-f3ef-4968-a547-42643a38dff9\",\"type\":\"DataRange1d\"},\"y_scale\":{\"id\":\"fb9774be-5227-4e49-8b83-2fb2e345abc6\",\"type\":\"LinearScale\"}},\"id\":\"214776b1-066e-45f6-96a6-d387c888cf98\",\"subtype\":\"Figure\",\"type\":\"Plot\"},{\"attributes\":{\"fill_alpha\":{\"value\":0.1},\"fill_color\":{\"value\":\"#1f77b4\"},\"line_alpha\":{\"value\":0.1},\"line_color\":{\"value\":\"#1f77b4\"},\"x\":{\"field\":\"x\"},\"y\":{\"field\":\"y\"}},\"id\":\"10d4702c-4f2d-475a-8324-1d9b266671ae\",\"type\":\"Circle\"},{\"attributes\":{\"bottom_units\":\"screen\",\"fill_alpha\":{\"value\":0.5},\"fill_color\":{\"value\":\"lightgrey\"},\"left_units\":\"screen\",\"level\":\"overlay\",\"line_alpha\":{\"value\":1.0},\"line_color\":{\"value\":\"black\"},\"line_dash\":[4,4],\"line_width\":{\"value\":2},\"plot\":null,\"render_mode\":\"css\",\"right_units\":\"screen\",\"top_units\":\"screen\"},\"id\":\"5fa476e8-1b94-4b0f-91d0-74a9f031890a\",\"type\":\"BoxAnnotation\"},{\"attributes\":{},\"id\":\"74b93a34-cb89-42b2-bed8-3b19a4211076\",\"type\":\"ToolEvents\"},{\"attributes\":{\"callback\":null},\"id\":\"2ced5c36-f3ef-4968-a547-42643a38dff9\",\"type\":\"DataRange1d\"},{\"attributes\":{\"plot\":null,\"text\":\"A map of 300 word vectors\"},\"id\":\"e9612f87-2750-4394-8feb-ee8ce7ab9022\",\"type\":\"Title\"},{\"attributes\":{\"plot\":{\"id\":\"214776b1-066e-45f6-96a6-d387c888cf98\",\"subtype\":\"Figure\",\"type\":\"Plot\"}},\"id\":\"5a94436f-f3f9-4e7c-b96d-01c6044c111c\",\"type\":\"ResetTool\"},{\"attributes\":{\"plot\":{\"id\":\"214776b1-066e-45f6-96a6-d387c888cf98\",\"subtype\":\"Figure\",\"type\":\"Plot\"}},\"id\":\"3e59fe14-a5d6-4d69-9c40-ede67d9bf00c\",\"type\":\"WheelZoomTool\"},{\"attributes\":{\"active_drag\":\"auto\",\"active_inspect\":\"auto\",\"active_scroll\":\"auto\",\"active_tap\":\"auto\",\"tools\":[{\"id\":\"066bfbfd-e99a-4b8b-b3e3-2c0a01799072\",\"type\":\"PanTool\"},{\"id\":\"3e59fe14-a5d6-4d69-9c40-ede67d9bf00c\",\"type\":\"WheelZoomTool\"},{\"id\":\"b7f9df26-9372-4cb1-8793-e97b01581472\",\"type\":\"BoxZoomTool\"},{\"id\":\"5a94436f-f3f9-4e7c-b96d-01c6044c111c\",\"type\":\"ResetTool\"},{\"id\":\"b0e7d624-603a-405f-822e-a5c8dca4c07c\",\"type\":\"HoverTool\"},{\"id\":\"fbc75b80-e551-41f9-882e-054440fa60f7\",\"type\":\"SaveTool\"}]},\"id\":\"d7735d54-ecf4-4d65-8c9c-9d17c2190557\",\"type\":\"Toolbar\"},{\"attributes\":{},\"id\":\"23786325-e6fb-40e1-80e6-edf20f026ec1\",\"type\":\"LinearScale\"}],\"root_ids\":[\"214776b1-066e-45f6-96a6-d387c888cf98\"]},\"title\":\"Bokeh Application\",\"version\":\"0.12.6\"}};\n",
       "            var render_items = [{\"docid\":\"7710659b-daa5-4e17-9128-f9074f88dc14\",\"elementid\":\"b2c9c9cc-35e3-4d7a-9c00-56b107f84549\",\"modelid\":\"214776b1-066e-45f6-96a6-d387c888cf98\"}];\n",
       "            \n",
       "            Bokeh.embed.embed_items(docs_json, render_items);\n",
       "          };\n",
       "          if (document.readyState != \"loading\") fn();\n",
       "          else document.addEventListener(\"DOMContentLoaded\", fn);\n",
       "        })();\n",
       "      },\n",
       "      function(Bokeh) {\n",
       "      }\n",
       "    ];\n",
       "  \n",
       "    function run_inline_js() {\n",
       "      \n",
       "      if ((window.Bokeh !== undefined) || (force === true)) {\n",
       "        for (var i = 0; i < inline_js.length; i++) {\n",
       "          inline_js[i](window.Bokeh);\n",
       "        }if (force === true) {\n",
       "          display_loaded();\n",
       "        }} else if (Date.now() < window._bokeh_timeout) {\n",
       "        setTimeout(run_inline_js, 100);\n",
       "      } else if (!window._bokeh_failed_load) {\n",
       "        console.log(\"Bokeh: BokehJS failed to load within specified timeout.\");\n",
       "        window._bokeh_failed_load = true;\n",
       "      } else if (force !== true) {\n",
       "        var cell = $(document.getElementById(\"b2c9c9cc-35e3-4d7a-9c00-56b107f84549\")).parents('.cell').data().cell;\n",
       "        cell.output_area.append_execute_result(NB_LOAD_WARNING)\n",
       "      }\n",
       "  \n",
       "    }\n",
       "  \n",
       "    if (window._bokeh_is_loading === 0) {\n",
       "      console.log(\"Bokeh: BokehJS loaded, going straight to plotting\");\n",
       "      run_inline_js();\n",
       "    } else {\n",
       "      load_libs(js_urls, function() {\n",
       "        console.log(\"Bokeh: BokehJS plotting callback run at\", now());\n",
       "        run_inline_js();\n",
       "      });\n",
       "    }\n",
       "  }(this));\n",
       "</script>"
      ]
     },
     "metadata": {},
     "output_type": "display_data"
    }
   ],
   "source": [
    "# defining the chart\n",
    "output_notebook()\n",
    "plot_tfidf = bp.figure(plot_width=700, plot_height=600, title=\"A map of 300 word vectors\",\n",
    "    tools=\"pan,wheel_zoom,box_zoom,reset,hover,previewsave\",\n",
    "    x_axis_type=None, y_axis_type=None, min_border=1,)\n",
    "\n",
    "# getting a list of word vectors. limit to 300. each is of 200 dimensions\n",
    "word_vectors = [frenchW2V[w] for w in frenchW2V.wv.vocab.keys()[:150]]\n",
    "\n",
    "# dimensionality reduction. converting the vectors to 2d vectors\n",
    "from sklearn.manifold import TSNE\n",
    "tsne_model = TSNE(n_components=2, verbose=1, random_state=0)\n",
    "tsne_w2v = tsne_model.fit_transform(word_vectors)\n",
    "\n",
    "# putting everything in a dataframe\n",
    "tsne_df = pd.DataFrame(tsne_w2v, columns=['x', 'y'])\n",
    "tsne_df['words'] = frenchW2V.wv.vocab.keys()[:150]\n",
    "\n",
    "# plotting. the corresponding word appears when you hover on the data point.\n",
    "plot_tfidf.scatter(x='x', y='y', source=tsne_df)\n",
    "source = ColumnDataSource(tsne_df)\n",
    "labels = LabelSet(x=\"x\", y=\"y\", text=\"words\", y_offset=8,\n",
    "                  text_font_size=\"10pt\", text_color=\"#555555\",\n",
    "                  source=source, text_align='center')\n",
    "plot_tfidf.add_layout(labels)\n",
    "#hover = plot_tfidf.select(dict(type=HoverTool))\n",
    "#hover.tooltips={\"word\": \"@words\"}\n",
    "show(plot_tfidf)"
   ]
  },
  {
   "cell_type": "code",
   "execution_count": 232,
   "metadata": {},
   "outputs": [
    {
     "data": {
      "text/html": [
       "\n",
       "    <div class=\"bk-root\">\n",
       "        <a href=\"http://bokeh.pydata.org\" target=\"_blank\" class=\"bk-logo bk-logo-small bk-logo-notebook\"></a>\n",
       "        <span id=\"ccdc117d-e83e-4d00-a462-30cf0e32699f\">Loading BokehJS ...</span>\n",
       "    </div>"
      ]
     },
     "metadata": {},
     "output_type": "display_data"
    },
    {
     "data": {
      "application/javascript": [
       "\n",
       "(function(global) {\n",
       "  function now() {\n",
       "    return new Date();\n",
       "  }\n",
       "\n",
       "  var force = true;\n",
       "\n",
       "  if (typeof (window._bokeh_onload_callbacks) === \"undefined\" || force === true) {\n",
       "    window._bokeh_onload_callbacks = [];\n",
       "    window._bokeh_is_loading = undefined;\n",
       "  }\n",
       "\n",
       "\n",
       "  \n",
       "  if (typeof (window._bokeh_timeout) === \"undefined\" || force === true) {\n",
       "    window._bokeh_timeout = Date.now() + 5000;\n",
       "    window._bokeh_failed_load = false;\n",
       "  }\n",
       "\n",
       "  var NB_LOAD_WARNING = {'data': {'text/html':\n",
       "     \"<div style='background-color: #fdd'>\\n\"+\n",
       "     \"<p>\\n\"+\n",
       "     \"BokehJS does not appear to have successfully loaded. If loading BokehJS from CDN, this \\n\"+\n",
       "     \"may be due to a slow or bad network connection. Possible fixes:\\n\"+\n",
       "     \"</p>\\n\"+\n",
       "     \"<ul>\\n\"+\n",
       "     \"<li>re-rerun `output_notebook()` to attempt to load from CDN again, or</li>\\n\"+\n",
       "     \"<li>use INLINE resources instead, as so:</li>\\n\"+\n",
       "     \"</ul>\\n\"+\n",
       "     \"<code>\\n\"+\n",
       "     \"from bokeh.resources import INLINE\\n\"+\n",
       "     \"output_notebook(resources=INLINE)\\n\"+\n",
       "     \"</code>\\n\"+\n",
       "     \"</div>\"}};\n",
       "\n",
       "  function display_loaded() {\n",
       "    if (window.Bokeh !== undefined) {\n",
       "      var el = document.getElementById(\"ccdc117d-e83e-4d00-a462-30cf0e32699f\");\n",
       "      el.textContent = \"BokehJS \" + Bokeh.version + \" successfully loaded.\";\n",
       "    } else if (Date.now() < window._bokeh_timeout) {\n",
       "      setTimeout(display_loaded, 100)\n",
       "    }\n",
       "  }\n",
       "\n",
       "  function run_callbacks() {\n",
       "    try {\n",
       "      window._bokeh_onload_callbacks.forEach(function(callback) { callback() });\n",
       "    }\n",
       "    finally {\n",
       "      delete window._bokeh_onload_callbacks\n",
       "    }\n",
       "    console.info(\"Bokeh: all callbacks have finished\");\n",
       "  }\n",
       "\n",
       "  function load_libs(js_urls, callback) {\n",
       "    window._bokeh_onload_callbacks.push(callback);\n",
       "    if (window._bokeh_is_loading > 0) {\n",
       "      console.log(\"Bokeh: BokehJS is being loaded, scheduling callback at\", now());\n",
       "      return null;\n",
       "    }\n",
       "    if (js_urls == null || js_urls.length === 0) {\n",
       "      run_callbacks();\n",
       "      return null;\n",
       "    }\n",
       "    console.log(\"Bokeh: BokehJS not loaded, scheduling load and callback at\", now());\n",
       "    window._bokeh_is_loading = js_urls.length;\n",
       "    for (var i = 0; i < js_urls.length; i++) {\n",
       "      var url = js_urls[i];\n",
       "      var s = document.createElement('script');\n",
       "      s.src = url;\n",
       "      s.async = false;\n",
       "      s.onreadystatechange = s.onload = function() {\n",
       "        window._bokeh_is_loading--;\n",
       "        if (window._bokeh_is_loading === 0) {\n",
       "          console.log(\"Bokeh: all BokehJS libraries loaded\");\n",
       "          run_callbacks()\n",
       "        }\n",
       "      };\n",
       "      s.onerror = function() {\n",
       "        console.warn(\"failed to load library \" + url);\n",
       "      };\n",
       "      console.log(\"Bokeh: injecting script tag for BokehJS library: \", url);\n",
       "      document.getElementsByTagName(\"head\")[0].appendChild(s);\n",
       "    }\n",
       "  };var element = document.getElementById(\"ccdc117d-e83e-4d00-a462-30cf0e32699f\");\n",
       "  if (element == null) {\n",
       "    console.log(\"Bokeh: ERROR: autoload.js configured with elementid 'ccdc117d-e83e-4d00-a462-30cf0e32699f' but no matching script tag was found. \")\n",
       "    return false;\n",
       "  }\n",
       "\n",
       "  var js_urls = [\"https://cdn.pydata.org/bokeh/release/bokeh-0.12.6.min.js\", \"https://cdn.pydata.org/bokeh/release/bokeh-widgets-0.12.6.min.js\"];\n",
       "\n",
       "  var inline_js = [\n",
       "    function(Bokeh) {\n",
       "      Bokeh.set_log_level(\"info\");\n",
       "    },\n",
       "    \n",
       "    function(Bokeh) {\n",
       "      \n",
       "    },\n",
       "    \n",
       "    function(Bokeh) {\n",
       "      \n",
       "      document.getElementById(\"ccdc117d-e83e-4d00-a462-30cf0e32699f\").textContent = \"BokehJS is loading...\";\n",
       "    },\n",
       "    function(Bokeh) {\n",
       "      console.log(\"Bokeh: injecting CSS: https://cdn.pydata.org/bokeh/release/bokeh-0.12.6.min.css\");\n",
       "      Bokeh.embed.inject_css(\"https://cdn.pydata.org/bokeh/release/bokeh-0.12.6.min.css\");\n",
       "      console.log(\"Bokeh: injecting CSS: https://cdn.pydata.org/bokeh/release/bokeh-widgets-0.12.6.min.css\");\n",
       "      Bokeh.embed.inject_css(\"https://cdn.pydata.org/bokeh/release/bokeh-widgets-0.12.6.min.css\");\n",
       "    }\n",
       "  ];\n",
       "\n",
       "  function run_inline_js() {\n",
       "    \n",
       "    if ((window.Bokeh !== undefined) || (force === true)) {\n",
       "      for (var i = 0; i < inline_js.length; i++) {\n",
       "        inline_js[i](window.Bokeh);\n",
       "      }if (force === true) {\n",
       "        display_loaded();\n",
       "      }} else if (Date.now() < window._bokeh_timeout) {\n",
       "      setTimeout(run_inline_js, 100);\n",
       "    } else if (!window._bokeh_failed_load) {\n",
       "      console.log(\"Bokeh: BokehJS failed to load within specified timeout.\");\n",
       "      window._bokeh_failed_load = true;\n",
       "    } else if (force !== true) {\n",
       "      var cell = $(document.getElementById(\"ccdc117d-e83e-4d00-a462-30cf0e32699f\")).parents('.cell').data().cell;\n",
       "      cell.output_area.append_execute_result(NB_LOAD_WARNING)\n",
       "    }\n",
       "\n",
       "  }\n",
       "\n",
       "  if (window._bokeh_is_loading === 0) {\n",
       "    console.log(\"Bokeh: BokehJS loaded, going straight to plotting\");\n",
       "    run_inline_js();\n",
       "  } else {\n",
       "    load_libs(js_urls, function() {\n",
       "      console.log(\"Bokeh: BokehJS plotting callback run at\", now());\n",
       "      run_inline_js();\n",
       "    });\n",
       "  }\n",
       "}(this));"
      ]
     },
     "metadata": {},
     "output_type": "display_data"
    },
    {
     "name": "stdout",
     "output_type": "stream",
     "text": [
      "[t-SNE] Computing pairwise distances...\n",
      "[t-SNE] Computing 91 nearest neighbors...\n",
      "[t-SNE] Computed conditional probabilities for sample 1000 / 5000\n",
      "[t-SNE] Computed conditional probabilities for sample 2000 / 5000\n",
      "[t-SNE] Computed conditional probabilities for sample 3000 / 5000\n",
      "[t-SNE] Computed conditional probabilities for sample 4000 / 5000\n",
      "[t-SNE] Computed conditional probabilities for sample 5000 / 5000\n",
      "[t-SNE] Mean sigma: 1.070239\n",
      "[t-SNE] KL divergence after 100 iterations with early exaggeration: 1.074742\n",
      "[t-SNE] Error after 325 iterations: 1.074742\n"
     ]
    },
    {
     "data": {
      "text/html": [
       "\n",
       "\n",
       "    <div class=\"bk-root\">\n",
       "        <div class=\"bk-plotdiv\" id=\"5b4fd783-e15f-49e7-8e04-1be21428cf0c\"></div>\n",
       "    </div>\n",
       "<script type=\"text/javascript\">\n",
       "  \n",
       "  (function(global) {\n",
       "    function now() {\n",
       "      return new Date();\n",
       "    }\n",
       "  \n",
       "    var force = false;\n",
       "  \n",
       "    if (typeof (window._bokeh_onload_callbacks) === \"undefined\" || force === true) {\n",
       "      window._bokeh_onload_callbacks = [];\n",
       "      window._bokeh_is_loading = undefined;\n",
       "    }\n",
       "  \n",
       "  \n",
       "    \n",
       "    if (typeof (window._bokeh_timeout) === \"undefined\" || force === true) {\n",
       "      window._bokeh_timeout = Date.now() + 0;\n",
       "      window._bokeh_failed_load = false;\n",
       "    }\n",
       "  \n",
       "    var NB_LOAD_WARNING = {'data': {'text/html':\n",
       "       \"<div style='background-color: #fdd'>\\n\"+\n",
       "       \"<p>\\n\"+\n",
       "       \"BokehJS does not appear to have successfully loaded. If loading BokehJS from CDN, this \\n\"+\n",
       "       \"may be due to a slow or bad network connection. Possible fixes:\\n\"+\n",
       "       \"</p>\\n\"+\n",
       "       \"<ul>\\n\"+\n",
       "       \"<li>re-rerun `output_notebook()` to attempt to load from CDN again, or</li>\\n\"+\n",
       "       \"<li>use INLINE resources instead, as so:</li>\\n\"+\n",
       "       \"</ul>\\n\"+\n",
       "       \"<code>\\n\"+\n",
       "       \"from bokeh.resources import INLINE\\n\"+\n",
       "       \"output_notebook(resources=INLINE)\\n\"+\n",
       "       \"</code>\\n\"+\n",
       "       \"</div>\"}};\n",
       "  \n",
       "    function display_loaded() {\n",
       "      if (window.Bokeh !== undefined) {\n",
       "        var el = document.getElementById(\"5b4fd783-e15f-49e7-8e04-1be21428cf0c\");\n",
       "        el.textContent = \"BokehJS \" + Bokeh.version + \" successfully loaded.\";\n",
       "      } else if (Date.now() < window._bokeh_timeout) {\n",
       "        setTimeout(display_loaded, 100)\n",
       "      }\n",
       "    }\n",
       "  \n",
       "    function run_callbacks() {\n",
       "      try {\n",
       "        window._bokeh_onload_callbacks.forEach(function(callback) { callback() });\n",
       "      }\n",
       "      finally {\n",
       "        delete window._bokeh_onload_callbacks\n",
       "      }\n",
       "      console.info(\"Bokeh: all callbacks have finished\");\n",
       "    }\n",
       "  \n",
       "    function load_libs(js_urls, callback) {\n",
       "      window._bokeh_onload_callbacks.push(callback);\n",
       "      if (window._bokeh_is_loading > 0) {\n",
       "        console.log(\"Bokeh: BokehJS is being loaded, scheduling callback at\", now());\n",
       "        return null;\n",
       "      }\n",
       "      if (js_urls == null || js_urls.length === 0) {\n",
       "        run_callbacks();\n",
       "        return null;\n",
       "      }\n",
       "      console.log(\"Bokeh: BokehJS not loaded, scheduling load and callback at\", now());\n",
       "      window._bokeh_is_loading = js_urls.length;\n",
       "      for (var i = 0; i < js_urls.length; i++) {\n",
       "        var url = js_urls[i];\n",
       "        var s = document.createElement('script');\n",
       "        s.src = url;\n",
       "        s.async = false;\n",
       "        s.onreadystatechange = s.onload = function() {\n",
       "          window._bokeh_is_loading--;\n",
       "          if (window._bokeh_is_loading === 0) {\n",
       "            console.log(\"Bokeh: all BokehJS libraries loaded\");\n",
       "            run_callbacks()\n",
       "          }\n",
       "        };\n",
       "        s.onerror = function() {\n",
       "          console.warn(\"failed to load library \" + url);\n",
       "        };\n",
       "        console.log(\"Bokeh: injecting script tag for BokehJS library: \", url);\n",
       "        document.getElementsByTagName(\"head\")[0].appendChild(s);\n",
       "      }\n",
       "    };var element = document.getElementById(\"5b4fd783-e15f-49e7-8e04-1be21428cf0c\");\n",
       "    if (element == null) {\n",
       "      console.log(\"Bokeh: ERROR: autoload.js configured with elementid '5b4fd783-e15f-49e7-8e04-1be21428cf0c' but no matching script tag was found. \")\n",
       "      return false;\n",
       "    }\n",
       "  \n",
       "    var js_urls = [];\n",
       "  \n",
       "    var inline_js = [\n",
       "      function(Bokeh) {\n",
       "        (function() {\n",
       "          var fn = function() {\n",
       "            var docs_json = {\"5b8a8393-f575-4bdd-bb7c-3a2006d4d263\":{\"roots\":{\"references\":[{\"attributes\":{\"plot\":{\"id\":\"12ff542a-fb9b-4cf5-a8d2-05796de45a13\",\"subtype\":\"Figure\",\"type\":\"Plot\"}},\"id\":\"c23acc45-52ed-45ac-9e54-3f2c9045b601\",\"type\":\"SaveTool\"},{\"attributes\":{\"plot\":{\"id\":\"12ff542a-fb9b-4cf5-a8d2-05796de45a13\",\"subtype\":\"Figure\",\"type\":\"Plot\"}},\"id\":\"b1fb364c-fb8e-4b2b-a623-7f71da37fb01\",\"type\":\"PanTool\"},{\"attributes\":{},\"id\":\"26dd6efb-862c-4ca1-a8e2-9214cfeb06cf\",\"type\":\"LinearScale\"},{\"attributes\":{\"bottom_units\":\"screen\",\"fill_alpha\":{\"value\":0.5},\"fill_color\":{\"value\":\"lightgrey\"},\"left_units\":\"screen\",\"level\":\"overlay\",\"line_alpha\":{\"value\":1.0},\"line_color\":{\"value\":\"black\"},\"line_dash\":[4,4],\"line_width\":{\"value\":2},\"plot\":null,\"render_mode\":\"css\",\"right_units\":\"screen\",\"top_units\":\"screen\"},\"id\":\"48043325-b0ae-44a3-b3db-f39f559f80da\",\"type\":\"BoxAnnotation\"},{\"attributes\":{\"fill_alpha\":{\"value\":0.1},\"fill_color\":{\"value\":\"#1f77b4\"},\"line_alpha\":{\"value\":0.1},\"line_color\":{\"value\":\"#1f77b4\"},\"x\":{\"field\":\"x\"},\"y\":{\"field\":\"y\"}},\"id\":\"bf8af3f5-4d3c-4dc7-9100-4b6db7b1f381\",\"type\":\"Circle\"},{\"attributes\":{\"overlay\":{\"id\":\"48043325-b0ae-44a3-b3db-f39f559f80da\",\"type\":\"BoxAnnotation\"},\"plot\":{\"id\":\"12ff542a-fb9b-4cf5-a8d2-05796de45a13\",\"subtype\":\"Figure\",\"type\":\"Plot\"}},\"id\":\"72f182cb-5b5c-42cc-a2a8-5d52dd077058\",\"type\":\"BoxZoomTool\"},{\"attributes\":{},\"id\":\"bf9d3e5c-6c57-40a9-8120-b95adf080c54\",\"type\":\"LinearScale\"},{\"attributes\":{\"active_drag\":\"auto\",\"active_inspect\":\"auto\",\"active_scroll\":\"auto\",\"active_tap\":\"auto\",\"tools\":[{\"id\":\"b1fb364c-fb8e-4b2b-a623-7f71da37fb01\",\"type\":\"PanTool\"},{\"id\":\"5f03afdb-b83d-4017-b0ea-07e4a621bf00\",\"type\":\"WheelZoomTool\"},{\"id\":\"72f182cb-5b5c-42cc-a2a8-5d52dd077058\",\"type\":\"BoxZoomTool\"},{\"id\":\"07264284-1bc7-4502-ab18-761009790520\",\"type\":\"ResetTool\"},{\"id\":\"0a0650aa-1b2b-45e7-90e4-225b3127f94d\",\"type\":\"HoverTool\"},{\"id\":\"c23acc45-52ed-45ac-9e54-3f2c9045b601\",\"type\":\"SaveTool\"}]},\"id\":\"a6a9b288-2524-4f63-b987-397bb1c310ce\",\"type\":\"Toolbar\"},{\"attributes\":{\"fill_color\":{\"value\":\"#1f77b4\"},\"line_color\":{\"value\":\"#1f77b4\"},\"x\":{\"field\":\"x\"},\"y\":{\"field\":\"y\"}},\"id\":\"ceba5ec2-d404-49cb-b981-df6a1aee48ce\",\"type\":\"Circle\"},{\"attributes\":{\"data_source\":{\"id\":\"2153a753-d4a0-485e-a875-bbe41d08a961\",\"type\":\"ColumnDataSource\"},\"glyph\":{\"id\":\"ceba5ec2-d404-49cb-b981-df6a1aee48ce\",\"type\":\"Circle\"},\"hover_glyph\":null,\"muted_glyph\":null,\"nonselection_glyph\":{\"id\":\"bf8af3f5-4d3c-4dc7-9100-4b6db7b1f381\",\"type\":\"Circle\"},\"selection_glyph\":null},\"id\":\"6934f44f-813e-49ba-97ff-00c14d378e90\",\"type\":\"GlyphRenderer\"},{\"attributes\":{\"callback\":null,\"plot\":{\"id\":\"12ff542a-fb9b-4cf5-a8d2-05796de45a13\",\"subtype\":\"Figure\",\"type\":\"Plot\"},\"tooltips\":[[\"word\",\"@words\"]]},\"id\":\"0a0650aa-1b2b-45e7-90e4-225b3127f94d\",\"type\":\"HoverTool\"},{\"attributes\":{\"callback\":null,\"column_names\":[\"y\",\"x\",\"words\",\"index\"],\"data\":{\"index\":[0,1,2,3,4,5,6,7,8,9,10,11,12,13,14,15,16,17,18,19,20,21,22,23,24,25,26,27,28,29,30,31,32,33,34,35,36,37,38,39,40,41,42,43,44,45,46,47,48,49,50,51,52,53,54,55,56,57,58,59,60,61,62,63,64,65,66,67,68,69,70,71,72,73,74,75,76,77,78,79,80,81,82,83,84,85,86,87,88,89,90,91,92,93,94,95,96,97,98,99,100,101,102,103,104,105,106,107,108,109,110,111,112,113,114,115,116,117,118,119,120,121,122,123,124,125,126,127,128,129,130,131,132,133,134,135,136,137,138,139,140,141,142,143,144,145,146,147,148,149,150,151,152,153,154,155,156,157,158,159,160,161,162,163,164,165,166,167,168,169,170,171,172,173,174,175,176,177,178,179,180,181,182,183,184,185,186,187,188,189,190,191,192,193,194,195,196,197,198,199,200,201,202,203,204,205,206,207,208,209,210,211,212,213,214,215,216,217,218,219,220,221,222,223,224,225,226,227,228,229,230,231,232,233,234,235,236,237,238,239,240,241,242,243,244,245,246,247,248,249,250,251,252,253,254,255,256,257,258,259,260,261,262,263,264,265,266,267,268,269,270,271,272,273,274,275,276,277,278,279,280,281,282,283,284,285,286,287,288,289,290,291,292,293,294,295,296,297,298,299,300,301,302,303,304,305,306,307,308,309,310,311,312,313,314,315,316,317,318,319,320,321,322,323,324,325,326,327,328,329,330,331,332,333,334,335,336,337,338,339,340,341,342,343,344,345,346,347,348,349,350,351,352,353,354,355,356,357,358,359,360,361,362,363,364,365,366,367,368,369,370,371,372,373,374,375,376,377,378,379,380,381,382,383,384,385,386,387,388,389,390,391,392,393,394,395,396,397,398,399,400,401,402,403,404,405,406,407,408,409,410,411,412,413,414,415,416,417,418,419,420,421,422,423,424,425,426,427,428,429,430,431,432,433,434,435,436,437,438,439,440,441,442,443,444,445,446,447,448,449,450,451,452,453,454,455,456,457,458,459,460,461,462,463,464,465,466,467,468,469,470,471,472,473,474,475,476,477,478,479,480,481,482,483,484,485,486,487,488,489,490,491,492,493,494,495,496,497,498,499,500,501,502,503,504,505,506,507,508,509,510,511,512,513,514,515,516,517,518,519,520,521,522,523,524,525,526,527,528,529,530,531,532,533,534,535,536,537,538,539,540,541,542,543,544,545,546,547,548,549,550,551,552,553,554,555,556,557,558,559,560,561,562,563,564,565,566,567,568,569,570,571,572,573,574,575,576,577,578,579,580,581,582,583,584,585,586,587,588,589,590,591,592,593,594,595,596,597,598,599,600,601,602,603,604,605,606,607,608,609,610,611,612,613,614,615,616,617,618,619,620,621,622,623,624,625,626,627,628,629,630,631,632,633,634,635,636,637,638,639,640,641,642,643,644,645,646,647,648,649,650,651,652,653,654,655,656,657,658,659,660,661,662,663,664,665,666,667,668,669,670,671,672,673,674,675,676,677,678,679,680,681,682,683,684,685,686,687,688,689,690,691,692,693,694,695,696,697,698,699,700,701,702,703,704,705,706,707,708,709,710,711,712,713,714,715,716,717,718,719,720,721,722,723,724,725,726,727,728,729,730,731,732,733,734,735,736,737,738,739,740,741,742,743,744,745,746,747,748,749,750,751,752,753,754,755,756,757,758,759,760,761,762,763,764,765,766,767,768,769,770,771,772,773,774,775,776,777,778,779,780,781,782,783,784,785,786,787,788,789,790,791,792,793,794,795,796,797,798,799,800,801,802,803,804,805,806,807,808,809,810,811,812,813,814,815,816,817,818,819,820,821,822,823,824,825,826,827,828,829,830,831,832,833,834,835,836,837,838,839,840,841,842,843,844,845,846,847,848,849,850,851,852,853,854,855,856,857,858,859,860,861,862,863,864,865,866,867,868,869,870,871,872,873,874,875,876,877,878,879,880,881,882,883,884,885,886,887,888,889,890,891,892,893,894,895,896,897,898,899,900,901,902,903,904,905,906,907,908,909,910,911,912,913,914,915,916,917,918,919,920,921,922,923,924,925,926,927,928,929,930,931,932,933,934,935,936,937,938,939,940,941,942,943,944,945,946,947,948,949,950,951,952,953,954,955,956,957,958,959,960,961,962,963,964,965,966,967,968,969,970,971,972,973,974,975,976,977,978,979,980,981,982,983,984,985,986,987,988,989,990,991,992,993,994,995,996,997,998,999,1000,1001,1002,1003,1004,1005,1006,1007,1008,1009,1010,1011,1012,1013,1014,1015,1016,1017,1018,1019,1020,1021,1022,1023,1024,1025,1026,1027,1028,1029,1030,1031,1032,1033,1034,1035,1036,1037,1038,1039,1040,1041,1042,1043,1044,1045,1046,1047,1048,1049,1050,1051,1052,1053,1054,1055,1056,1057,1058,1059,1060,1061,1062,1063,1064,1065,1066,1067,1068,1069,1070,1071,1072,1073,1074,1075,1076,1077,1078,1079,1080,1081,1082,1083,1084,1085,1086,1087,1088,1089,1090,1091,1092,1093,1094,1095,1096,1097,1098,1099,1100,1101,1102,1103,1104,1105,1106,1107,1108,1109,1110,1111,1112,1113,1114,1115,1116,1117,1118,1119,1120,1121,1122,1123,1124,1125,1126,1127,1128,1129,1130,1131,1132,1133,1134,1135,1136,1137,1138,1139,1140,1141,1142,1143,1144,1145,1146,1147,1148,1149,1150,1151,1152,1153,1154,1155,1156,1157,1158,1159,1160,1161,1162,1163,1164,1165,1166,1167,1168,1169,1170,1171,1172,1173,1174,1175,1176,1177,1178,1179,1180,1181,1182,1183,1184,1185,1186,1187,1188,1189,1190,1191,1192,1193,1194,1195,1196,1197,1198,1199,1200,1201,1202,1203,1204,1205,1206,1207,1208,1209,1210,1211,1212,1213,1214,1215,1216,1217,1218,1219,1220,1221,1222,1223,1224,1225,1226,1227,1228,1229,1230,1231,1232,1233,1234,1235,1236,1237,1238,1239,1240,1241,1242,1243,1244,1245,1246,1247,1248,1249,1250,1251,1252,1253,1254,1255,1256,1257,1258,1259,1260,1261,1262,1263,1264,1265,1266,1267,1268,1269,1270,1271,1272,1273,1274,1275,1276,1277,1278,1279,1280,1281,1282,1283,1284,1285,1286,1287,1288,1289,1290,1291,1292,1293,1294,1295,1296,1297,1298,1299,1300,1301,1302,1303,1304,1305,1306,1307,1308,1309,1310,1311,1312,1313,1314,1315,1316,1317,1318,1319,1320,1321,1322,1323,1324,1325,1326,1327,1328,1329,1330,1331,1332,1333,1334,1335,1336,1337,1338,1339,1340,1341,1342,1343,1344,1345,1346,1347,1348,1349,1350,1351,1352,1353,1354,1355,1356,1357,1358,1359,1360,1361,1362,1363,1364,1365,1366,1367,1368,1369,1370,1371,1372,1373,1374,1375,1376,1377,1378,1379,1380,1381,1382,1383,1384,1385,1386,1387,1388,1389,1390,1391,1392,1393,1394,1395,1396,1397,1398,1399,1400,1401,1402,1403,1404,1405,1406,1407,1408,1409,1410,1411,1412,1413,1414,1415,1416,1417,1418,1419,1420,1421,1422,1423,1424,1425,1426,1427,1428,1429,1430,1431,1432,1433,1434,1435,1436,1437,1438,1439,1440,1441,1442,1443,1444,1445,1446,1447,1448,1449,1450,1451,1452,1453,1454,1455,1456,1457,1458,1459,1460,1461,1462,1463,1464,1465,1466,1467,1468,1469,1470,1471,1472,1473,1474,1475,1476,1477,1478,1479,1480,1481,1482,1483,1484,1485,1486,1487,1488,1489,1490,1491,1492,1493,1494,1495,1496,1497,1498,1499,1500,1501,1502,1503,1504,1505,1506,1507,1508,1509,1510,1511,1512,1513,1514,1515,1516,1517,1518,1519,1520,1521,1522,1523,1524,1525,1526,1527,1528,1529,1530,1531,1532,1533,1534,1535,1536,1537,1538,1539,1540,1541,1542,1543,1544,1545,1546,1547,1548,1549,1550,1551,1552,1553,1554,1555,1556,1557,1558,1559,1560,1561,1562,1563,1564,1565,1566,1567,1568,1569,1570,1571,1572,1573,1574,1575,1576,1577,1578,1579,1580,1581,1582,1583,1584,1585,1586,1587,1588,1589,1590,1591,1592,1593,1594,1595,1596,1597,1598,1599,1600,1601,1602,1603,1604,1605,1606,1607,1608,1609,1610,1611,1612,1613,1614,1615,1616,1617,1618,1619,1620,1621,1622,1623,1624,1625,1626,1627,1628,1629,1630,1631,1632,1633,1634,1635,1636,1637,1638,1639,1640,1641,1642,1643,1644,1645,1646,1647,1648,1649,1650,1651,1652,1653,1654,1655,1656,1657,1658,1659,1660,1661,1662,1663,1664,1665,1666,1667,1668,1669,1670,1671,1672,1673,1674,1675,1676,1677,1678,1679,1680,1681,1682,1683,1684,1685,1686,1687,1688,1689,1690,1691,1692,1693,1694,1695,1696,1697,1698,1699,1700,1701,1702,1703,1704,1705,1706,1707,1708,1709,1710,1711,1712,1713,1714,1715,1716,1717,1718,1719,1720,1721,1722,1723,1724,1725,1726,1727,1728,1729,1730,1731,1732,1733,1734,1735,1736,1737,1738,1739,1740,1741,1742,1743,1744,1745,1746,1747,1748,1749,1750,1751,1752,1753,1754,1755,1756,1757,1758,1759,1760,1761,1762,1763,1764,1765,1766,1767,1768,1769,1770,1771,1772,1773,1774,1775,1776,1777,1778,1779,1780,1781,1782,1783,1784,1785,1786,1787,1788,1789,1790,1791,1792,1793,1794,1795,1796,1797,1798,1799,1800,1801,1802,1803,1804,1805,1806,1807,1808,1809,1810,1811,1812,1813,1814,1815,1816,1817,1818,1819,1820,1821,1822,1823,1824,1825,1826,1827,1828,1829,1830,1831,1832,1833,1834,1835,1836,1837,1838,1839,1840,1841,1842,1843,1844,1845,1846,1847,1848,1849,1850,1851,1852,1853,1854,1855,1856,1857,1858,1859,1860,1861,1862,1863,1864,1865,1866,1867,1868,1869,1870,1871,1872,1873,1874,1875,1876,1877,1878,1879,1880,1881,1882,1883,1884,1885,1886,1887,1888,1889,1890,1891,1892,1893,1894,1895,1896,1897,1898,1899,1900,1901,1902,1903,1904,1905,1906,1907,1908,1909,1910,1911,1912,1913,1914,1915,1916,1917,1918,1919,1920,1921,1922,1923,1924,1925,1926,1927,1928,1929,1930,1931,1932,1933,1934,1935,1936,1937,1938,1939,1940,1941,1942,1943,1944,1945,1946,1947,1948,1949,1950,1951,1952,1953,1954,1955,1956,1957,1958,1959,1960,1961,1962,1963,1964,1965,1966,1967,1968,1969,1970,1971,1972,1973,1974,1975,1976,1977,1978,1979,1980,1981,1982,1983,1984,1985,1986,1987,1988,1989,1990,1991,1992,1993,1994,1995,1996,1997,1998,1999,2000,2001,2002,2003,2004,2005,2006,2007,2008,2009,2010,2011,2012,2013,2014,2015,2016,2017,2018,2019,2020,2021,2022,2023,2024,2025,2026,2027,2028,2029,2030,2031,2032,2033,2034,2035,2036,2037,2038,2039,2040,2041,2042,2043,2044,2045,2046,2047,2048,2049,2050,2051,2052,2053,2054,2055,2056,2057,2058,2059,2060,2061,2062,2063,2064,2065,2066,2067,2068,2069,2070,2071,2072,2073,2074,2075,2076,2077,2078,2079,2080,2081,2082,2083,2084,2085,2086,2087,2088,2089,2090,2091,2092,2093,2094,2095,2096,2097,2098,2099,2100,2101,2102,2103,2104,2105,2106,2107,2108,2109,2110,2111,2112,2113,2114,2115,2116,2117,2118,2119,2120,2121,2122,2123,2124,2125,2126,2127,2128,2129,2130,2131,2132,2133,2134,2135,2136,2137,2138,2139,2140,2141,2142,2143,2144,2145,2146,2147,2148,2149,2150,2151,2152,2153,2154,2155,2156,2157,2158,2159,2160,2161,2162,2163,2164,2165,2166,2167,2168,2169,2170,2171,2172,2173,2174,2175,2176,2177,2178,2179,2180,2181,2182,2183,2184,2185,2186,2187,2188,2189,2190,2191,2192,2193,2194,2195,2196,2197,2198,2199,2200,2201,2202,2203,2204,2205,2206,2207,2208,2209,2210,2211,2212,2213,2214,2215,2216,2217,2218,2219,2220,2221,2222,2223,2224,2225,2226,2227,2228,2229,2230,2231,2232,2233,2234,2235,2236,2237,2238,2239,2240,2241,2242,2243,2244,2245,2246,2247,2248,2249,2250,2251,2252,2253,2254,2255,2256,2257,2258,2259,2260,2261,2262,2263,2264,2265,2266,2267,2268,2269,2270,2271,2272,2273,2274,2275,2276,2277,2278,2279,2280,2281,2282,2283,2284,2285,2286,2287,2288,2289,2290,2291,2292,2293,2294,2295,2296,2297,2298,2299,2300,2301,2302,2303,2304,2305,2306,2307,2308,2309,2310,2311,2312,2313,2314,2315,2316,2317,2318,2319,2320,2321,2322,2323,2324,2325,2326,2327,2328,2329,2330,2331,2332,2333,2334,2335,2336,2337,2338,2339,2340,2341,2342,2343,2344,2345,2346,2347,2348,2349,2350,2351,2352,2353,2354,2355,2356,2357,2358,2359,2360,2361,2362,2363,2364,2365,2366,2367,2368,2369,2370,2371,2372,2373,2374,2375,2376,2377,2378,2379,2380,2381,2382,2383,2384,2385,2386,2387,2388,2389,2390,2391,2392,2393,2394,2395,2396,2397,2398,2399,2400,2401,2402,2403,2404,2405,2406,2407,2408,2409,2410,2411,2412,2413,2414,2415,2416,2417,2418,2419,2420,2421,2422,2423,2424,2425,2426,2427,2428,2429,2430,2431,2432,2433,2434,2435,2436,2437,2438,2439,2440,2441,2442,2443,2444,2445,2446,2447,2448,2449,2450,2451,2452,2453,2454,2455,2456,2457,2458,2459,2460,2461,2462,2463,2464,2465,2466,2467,2468,2469,2470,2471,2472,2473,2474,2475,2476,2477,2478,2479,2480,2481,2482,2483,2484,2485,2486,2487,2488,2489,2490,2491,2492,2493,2494,2495,2496,2497,2498,2499,2500,2501,2502,2503,2504,2505,2506,2507,2508,2509,2510,2511,2512,2513,2514,2515,2516,2517,2518,2519,2520,2521,2522,2523,2524,2525,2526,2527,2528,2529,2530,2531,2532,2533,2534,2535,2536,2537,2538,2539,2540,2541,2542,2543,2544,2545,2546,2547,2548,2549,2550,2551,2552,2553,2554,2555,2556,2557,2558,2559,2560,2561,2562,2563,2564,2565,2566,2567,2568,2569,2570,2571,2572,2573,2574,2575,2576,2577,2578,2579,2580,2581,2582,2583,2584,2585,2586,2587,2588,2589,2590,2591,2592,2593,2594,2595,2596,2597,2598,2599,2600,2601,2602,2603,2604,2605,2606,2607,2608,2609,2610,2611,2612,2613,2614,2615,2616,2617,2618,2619,2620,2621,2622,2623,2624,2625,2626,2627,2628,2629,2630,2631,2632,2633,2634,2635,2636,2637,2638,2639,2640,2641,2642,2643,2644,2645,2646,2647,2648,2649,2650,2651,2652,2653,2654,2655,2656,2657,2658,2659,2660,2661,2662,2663,2664,2665,2666,2667,2668,2669,2670,2671,2672,2673,2674,2675,2676,2677,2678,2679,2680,2681,2682,2683,2684,2685,2686,2687,2688,2689,2690,2691,2692,2693,2694,2695,2696,2697,2698,2699,2700,2701,2702,2703,2704,2705,2706,2707,2708,2709,2710,2711,2712,2713,2714,2715,2716,2717,2718,2719,2720,2721,2722,2723,2724,2725,2726,2727,2728,2729,2730,2731,2732,2733,2734,2735,2736,2737,2738,2739,2740,2741,2742,2743,2744,2745,2746,2747,2748,2749,2750,2751,2752,2753,2754,2755,2756,2757,2758,2759,2760,2761,2762,2763,2764,2765,2766,2767,2768,2769,2770,2771,2772,2773,2774,2775,2776,2777,2778,2779,2780,2781,2782,2783,2784,2785,2786,2787,2788,2789,2790,2791,2792,2793,2794,2795,2796,2797,2798,2799,2800,2801,2802,2803,2804,2805,2806,2807,2808,2809,2810,2811,2812,2813,2814,2815,2816,2817,2818,2819,2820,2821,2822,2823,2824,2825,2826,2827,2828,2829,2830,2831,2832,2833,2834,2835,2836,2837,2838,2839,2840,2841,2842,2843,2844,2845,2846,2847,2848,2849,2850,2851,2852,2853,2854,2855,2856,2857,2858,2859,2860,2861,2862,2863,2864,2865,2866,2867,2868,2869,2870,2871,2872,2873,2874,2875,2876,2877,2878,2879,2880,2881,2882,2883,2884,2885,2886,2887,2888,2889,2890,2891,2892,2893,2894,2895,2896,2897,2898,2899,2900,2901,2902,2903,2904,2905,2906,2907,2908,2909,2910,2911,2912,2913,2914,2915,2916,2917,2918,2919,2920,2921,2922,2923,2924,2925,2926,2927,2928,2929,2930,2931,2932,2933,2934,2935,2936,2937,2938,2939,2940,2941,2942,2943,2944,2945,2946,2947,2948,2949,2950,2951,2952,2953,2954,2955,2956,2957,2958,2959,2960,2961,2962,2963,2964,2965,2966,2967,2968,2969,2970,2971,2972,2973,2974,2975,2976,2977,2978,2979,2980,2981,2982,2983,2984,2985,2986,2987,2988,2989,2990,2991,2992,2993,2994,2995,2996,2997,2998,2999,3000,3001,3002,3003,3004,3005,3006,3007,3008,3009,3010,3011,3012,3013,3014,3015,3016,3017,3018,3019,3020,3021,3022,3023,3024,3025,3026,3027,3028,3029,3030,3031,3032,3033,3034,3035,3036,3037,3038,3039,3040,3041,3042,3043,3044,3045,3046,3047,3048,3049,3050,3051,3052,3053,3054,3055,3056,3057,3058,3059,3060,3061,3062,3063,3064,3065,3066,3067,3068,3069,3070,3071,3072,3073,3074,3075,3076,3077,3078,3079,3080,3081,3082,3083,3084,3085,3086,3087,3088,3089,3090,3091,3092,3093,3094,3095,3096,3097,3098,3099,3100,3101,3102,3103,3104,3105,3106,3107,3108,3109,3110,3111,3112,3113,3114,3115,3116,3117,3118,3119,3120,3121,3122,3123,3124,3125,3126,3127,3128,3129,3130,3131,3132,3133,3134,3135,3136,3137,3138,3139,3140,3141,3142,3143,3144,3145,3146,3147,3148,3149,3150,3151,3152,3153,3154,3155,3156,3157,3158,3159,3160,3161,3162,3163,3164,3165,3166,3167,3168,3169,3170,3171,3172,3173,3174,3175,3176,3177,3178,3179,3180,3181,3182,3183,3184,3185,3186,3187,3188,3189,3190,3191,3192,3193,3194,3195,3196,3197,3198,3199,3200,3201,3202,3203,3204,3205,3206,3207,3208,3209,3210,3211,3212,3213,3214,3215,3216,3217,3218,3219,3220,3221,3222,3223,3224,3225,3226,3227,3228,3229,3230,3231,3232,3233,3234,3235,3236,3237,3238,3239,3240,3241,3242,3243,3244,3245,3246,3247,3248,3249,3250,3251,3252,3253,3254,3255,3256,3257,3258,3259,3260,3261,3262,3263,3264,3265,3266,3267,3268,3269,3270,3271,3272,3273,3274,3275,3276,3277,3278,3279,3280,3281,3282,3283,3284,3285,3286,3287,3288,3289,3290,3291,3292,3293,3294,3295,3296,3297,3298,3299,3300,3301,3302,3303,3304,3305,3306,3307,3308,3309,3310,3311,3312,3313,3314,3315,3316,3317,3318,3319,3320,3321,3322,3323,3324,3325,3326,3327,3328,3329,3330,3331,3332,3333,3334,3335,3336,3337,3338,3339,3340,3341,3342,3343,3344,3345,3346,3347,3348,3349,3350,3351,3352,3353,3354,3355,3356,3357,3358,3359,3360,3361,3362,3363,3364,3365,3366,3367,3368,3369,3370,3371,3372,3373,3374,3375,3376,3377,3378,3379,3380,3381,3382,3383,3384,3385,3386,3387,3388,3389,3390,3391,3392,3393,3394,3395,3396,3397,3398,3399,3400,3401,3402,3403,3404,3405,3406,3407,3408,3409,3410,3411,3412,3413,3414,3415,3416,3417,3418,3419,3420,3421,3422,3423,3424,3425,3426,3427,3428,3429,3430,3431,3432,3433,3434,3435,3436,3437,3438,3439,3440,3441,3442,3443,3444,3445,3446,3447,3448,3449,3450,3451,3452,3453,3454,3455,3456,3457,3458,3459,3460,3461,3462,3463,3464,3465,3466,3467,3468,3469,3470,3471,3472,3473,3474,3475,3476,3477,3478,3479,3480,3481,3482,3483,3484,3485,3486,3487,3488,3489,3490,3491,3492,3493,3494,3495,3496,3497,3498,3499,3500,3501,3502,3503,3504,3505,3506,3507,3508,3509,3510,3511,3512,3513,3514,3515,3516,3517,3518,3519,3520,3521,3522,3523,3524,3525,3526,3527,3528,3529,3530,3531,3532,3533,3534,3535,3536,3537,3538,3539,3540,3541,3542,3543,3544,3545,3546,3547,3548,3549,3550,3551,3552,3553,3554,3555,3556,3557,3558,3559,3560,3561,3562,3563,3564,3565,3566,3567,3568,3569,3570,3571,3572,3573,3574,3575,3576,3577,3578,3579,3580,3581,3582,3583,3584,3585,3586,3587,3588,3589,3590,3591,3592,3593,3594,3595,3596,3597,3598,3599,3600,3601,3602,3603,3604,3605,3606,3607,3608,3609,3610,3611,3612,3613,3614,3615,3616,3617,3618,3619,3620,3621,3622,3623,3624,3625,3626,3627,3628,3629,3630,3631,3632,3633,3634,3635,3636,3637,3638,3639,3640,3641,3642,3643,3644,3645,3646,3647,3648,3649,3650,3651,3652,3653,3654,3655,3656,3657,3658,3659,3660,3661,3662,3663,3664,3665,3666,3667,3668,3669,3670,3671,3672,3673,3674,3675,3676,3677,3678,3679,3680,3681,3682,3683,3684,3685,3686,3687,3688,3689,3690,3691,3692,3693,3694,3695,3696,3697,3698,3699,3700,3701,3702,3703,3704,3705,3706,3707,3708,3709,3710,3711,3712,3713,3714,3715,3716,3717,3718,3719,3720,3721,3722,3723,3724,3725,3726,3727,3728,3729,3730,3731,3732,3733,3734,3735,3736,3737,3738,3739,3740,3741,3742,3743,3744,3745,3746,3747,3748,3749,3750,3751,3752,3753,3754,3755,3756,3757,3758,3759,3760,3761,3762,3763,3764,3765,3766,3767,3768,3769,3770,3771,3772,3773,3774,3775,3776,3777,3778,3779,3780,3781,3782,3783,3784,3785,3786,3787,3788,3789,3790,3791,3792,3793,3794,3795,3796,3797,3798,3799,3800,3801,3802,3803,3804,3805,3806,3807,3808,3809,3810,3811,3812,3813,3814,3815,3816,3817,3818,3819,3820,3821,3822,3823,3824,3825,3826,3827,3828,3829,3830,3831,3832,3833,3834,3835,3836,3837,3838,3839,3840,3841,3842,3843,3844,3845,3846,3847,3848,3849,3850,3851,3852,3853,3854,3855,3856,3857,3858,3859,3860,3861,3862,3863,3864,3865,3866,3867,3868,3869,3870,3871,3872,3873,3874,3875,3876,3877,3878,3879,3880,3881,3882,3883,3884,3885,3886,3887,3888,3889,3890,3891,3892,3893,3894,3895,3896,3897,3898,3899,3900,3901,3902,3903,3904,3905,3906,3907,3908,3909,3910,3911,3912,3913,3914,3915,3916,3917,3918,3919,3920,3921,3922,3923,3924,3925,3926,3927,3928,3929,3930,3931,3932,3933,3934,3935,3936,3937,3938,3939,3940,3941,3942,3943,3944,3945,3946,3947,3948,3949,3950,3951,3952,3953,3954,3955,3956,3957,3958,3959,3960,3961,3962,3963,3964,3965,3966,3967,3968,3969,3970,3971,3972,3973,3974,3975,3976,3977,3978,3979,3980,3981,3982,3983,3984,3985,3986,3987,3988,3989,3990,3991,3992,3993,3994,3995,3996,3997,3998,3999,4000,4001,4002,4003,4004,4005,4006,4007,4008,4009,4010,4011,4012,4013,4014,4015,4016,4017,4018,4019,4020,4021,4022,4023,4024,4025,4026,4027,4028,4029,4030,4031,4032,4033,4034,4035,4036,4037,4038,4039,4040,4041,4042,4043,4044,4045,4046,4047,4048,4049,4050,4051,4052,4053,4054,4055,4056,4057,4058,4059,4060,4061,4062,4063,4064,4065,4066,4067,4068,4069,4070,4071,4072,4073,4074,4075,4076,4077,4078,4079,4080,4081,4082,4083,4084,4085,4086,4087,4088,4089,4090,4091,4092,4093,4094,4095,4096,4097,4098,4099,4100,4101,4102,4103,4104,4105,4106,4107,4108,4109,4110,4111,4112,4113,4114,4115,4116,4117,4118,4119,4120,4121,4122,4123,4124,4125,4126,4127,4128,4129,4130,4131,4132,4133,4134,4135,4136,4137,4138,4139,4140,4141,4142,4143,4144,4145,4146,4147,4148,4149,4150,4151,4152,4153,4154,4155,4156,4157,4158,4159,4160,4161,4162,4163,4164,4165,4166,4167,4168,4169,4170,4171,4172,4173,4174,4175,4176,4177,4178,4179,4180,4181,4182,4183,4184,4185,4186,4187,4188,4189,4190,4191,4192,4193,4194,4195,4196,4197,4198,4199,4200,4201,4202,4203,4204,4205,4206,4207,4208,4209,4210,4211,4212,4213,4214,4215,4216,4217,4218,4219,4220,4221,4222,4223,4224,4225,4226,4227,4228,4229,4230,4231,4232,4233,4234,4235,4236,4237,4238,4239,4240,4241,4242,4243,4244,4245,4246,4247,4248,4249,4250,4251,4252,4253,4254,4255,4256,4257,4258,4259,4260,4261,4262,4263,4264,4265,4266,4267,4268,4269,4270,4271,4272,4273,4274,4275,4276,4277,4278,4279,4280,4281,4282,4283,4284,4285,4286,4287,4288,4289,4290,4291,4292,4293,4294,4295,4296,4297,4298,4299,4300,4301,4302,4303,4304,4305,4306,4307,4308,4309,4310,4311,4312,4313,4314,4315,4316,4317,4318,4319,4320,4321,4322,4323,4324,4325,4326,4327,4328,4329,4330,4331,4332,4333,4334,4335,4336,4337,4338,4339,4340,4341,4342,4343,4344,4345,4346,4347,4348,4349,4350,4351,4352,4353,4354,4355,4356,4357,4358,4359,4360,4361,4362,4363,4364,4365,4366,4367,4368,4369,4370,4371,4372,4373,4374,4375,4376,4377,4378,4379,4380,4381,4382,4383,4384,4385,4386,4387,4388,4389,4390,4391,4392,4393,4394,4395,4396,4397,4398,4399,4400,4401,4402,4403,4404,4405,4406,4407,4408,4409,4410,4411,4412,4413,4414,4415,4416,4417,4418,4419,4420,4421,4422,4423,4424,4425,4426,4427,4428,4429,4430,4431,4432,4433,4434,4435,4436,4437,4438,4439,4440,4441,4442,4443,4444,4445,4446,4447,4448,4449,4450,4451,4452,4453,4454,4455,4456,4457,4458,4459,4460,4461,4462,4463,4464,4465,4466,4467,4468,4469,4470,4471,4472,4473,4474,4475,4476,4477,4478,4479,4480,4481,4482,4483,4484,4485,4486,4487,4488,4489,4490,4491,4492,4493,4494,4495,4496,4497,4498,4499,4500,4501,4502,4503,4504,4505,4506,4507,4508,4509,4510,4511,4512,4513,4514,4515,4516,4517,4518,4519,4520,4521,4522,4523,4524,4525,4526,4527,4528,4529,4530,4531,4532,4533,4534,4535,4536,4537,4538,4539,4540,4541,4542,4543,4544,4545,4546,4547,4548,4549,4550,4551,4552,4553,4554,4555,4556,4557,4558,4559,4560,4561,4562,4563,4564,4565,4566,4567,4568,4569,4570,4571,4572,4573,4574,4575,4576,4577,4578,4579,4580,4581,4582,4583,4584,4585,4586,4587,4588,4589,4590,4591,4592,4593,4594,4595,4596,4597,4598,4599,4600,4601,4602,4603,4604,4605,4606,4607,4608,4609,4610,4611,4612,4613,4614,4615,4616,4617,4618,4619,4620,4621,4622,4623,4624,4625,4626,4627,4628,4629,4630,4631,4632,4633,4634,4635,4636,4637,4638,4639,4640,4641,4642,4643,4644,4645,4646,4647,4648,4649,4650,4651,4652,4653,4654,4655,4656,4657,4658,4659,4660,4661,4662,4663,4664,4665,4666,4667,4668,4669,4670,4671,4672,4673,4674,4675,4676,4677,4678,4679,4680,4681,4682,4683,4684,4685,4686,4687,4688,4689,4690,4691,4692,4693,4694,4695,4696,4697,4698,4699,4700,4701,4702,4703,4704,4705,4706,4707,4708,4709,4710,4711,4712,4713,4714,4715,4716,4717,4718,4719,4720,4721,4722,4723,4724,4725,4726,4727,4728,4729,4730,4731,4732,4733,4734,4735,4736,4737,4738,4739,4740,4741,4742,4743,4744,4745,4746,4747,4748,4749,4750,4751,4752,4753,4754,4755,4756,4757,4758,4759,4760,4761,4762,4763,4764,4765,4766,4767,4768,4769,4770,4771,4772,4773,4774,4775,4776,4777,4778,4779,4780,4781,4782,4783,4784,4785,4786,4787,4788,4789,4790,4791,4792,4793,4794,4795,4796,4797,4798,4799,4800,4801,4802,4803,4804,4805,4806,4807,4808,4809,4810,4811,4812,4813,4814,4815,4816,4817,4818,4819,4820,4821,4822,4823,4824,4825,4826,4827,4828,4829,4830,4831,4832,4833,4834,4835,4836,4837,4838,4839,4840,4841,4842,4843,4844,4845,4846,4847,4848,4849,4850,4851,4852,4853,4854,4855,4856,4857,4858,4859,4860,4861,4862,4863,4864,4865,4866,4867,4868,4869,4870,4871,4872,4873,4874,4875,4876,4877,4878,4879,4880,4881,4882,4883,4884,4885,4886,4887,4888,4889,4890,4891,4892,4893,4894,4895,4896,4897,4898,4899,4900,4901,4902,4903,4904,4905,4906,4907,4908,4909,4910,4911,4912,4913,4914,4915,4916,4917,4918,4919,4920,4921,4922,4923,4924,4925,4926,4927,4928,4929,4930,4931,4932,4933,4934,4935,4936,4937,4938,4939,4940,4941,4942,4943,4944,4945,4946,4947,4948,4949,4950,4951,4952,4953,4954,4955,4956,4957,4958,4959,4960,4961,4962,4963,4964,4965,4966,4967,4968,4969,4970,4971,4972,4973,4974,4975,4976,4977,4978,4979,4980,4981,4982,4983,4984,4985,4986,4987,4988,4989,4990,4991,4992,4993,4994,4995,4996,4997,4998,4999],\"words\":[\"fawn\",\"\\u00e9difie\",\"bouddhisme\",\"anxieuse\",\"sonja\",\"huileux\",\"m\\u00e9thodologies\",\"accueille\",\"spiders\",\"francesco\",\"francesca\",\"suzana\",\"r\\u00e9volutions\",\"accueilli\",\"isaia\",\"canet\",\"rectangulaires\",\"yougoslavie\",\"orthographier\",\"lib\\u00e9r\\u00e9s\",\"repartira\",\"embl\\u00e9matiques\",\"toise\",\"hermann\",\"lib\\u00e9r\\u00e9e\",\"erratiques\",\"goutti\\u00e8res\",\"\\u00e9lectrodes\",\"enseveli\",\"aveuglante\",\"obligeance\",\"d\\u00e9verser\",\"savaient\",\"adrianna\",\"grenadiers\",\"bratislava\",\"manade\",\"touristes\",\"adoptent\",\"fractal\",\"encrier\",\"sexu\\u00e9\",\"consid\\u00e9rable\",\"gerbille\",\"liaisons\",\"ratifie\",\"pr\\u00e9c\\u00e9d\\u00e9\",\"pioches\",\"piocher\",\"douilles\",\"paup\\u00e9risation\",\"assignats\",\"ferrants\",\"controvers\\u00e9\",\"chaussure\",\"thrace\",\"ouvr\\u00e9s\",\"concr\\u00e9tion\",\"digrammes\",\"audimat\",\"diversifi\\u00e9es\",\"miniatures\",\"renon\\u00e7ait\",\"\\u00e9toff\\u00e9e\",\"woody\",\"resserrement\",\"pr\\u00e9ludes\",\"originalit\\u00e9\",\"d\\u00e9jections\",\"revisit\\u00e9e\",\"empi\\u00e9ter\",\"voilures\",\"recyclage\",\"r\\u00e9fugiant\",\"noisetiers\",\"familles\",\"brid\\u00e9s\",\"st\\u00e9r\\u00e9otypes\",\"\\u00e9coula\",\"hazebrouck\",\"trap\\u00e8ze\",\"creully\",\"taquine\",\"abr\\u00e9viations\",\"pourparlers\",\"cumulent\",\"chine\",\"clarinettes\",\"comm\\u00e9rages\",\"china\",\"shura\",\"rorquals\",\"incarnant\",\"entach\\u00e9es\",\"mestres\",\"pr\\u00e9c\\u00e9da\",\"\\u00e9lut\",\"chalamont\",\"volantes\",\"m\\u00e9tabolisme\",\"naturel\",\"woogie\",\"a\\u00e9riens\",\"renflement\",\"d\\u00e9corent\",\"controverse\",\"\\u00e9piphyse\",\"nomades\",\"natures\",\"sebkha\",\"catabolisme\",\"antillaise\",\"golden\",\"rythm\\u00e9\",\"projection\",\"malles\",\"d\\u00e9sert\\u00e9\",\"comp\\u00e9titives\",\"badois\",\"modifi\\u00e9s\",\"reuel\",\"abandonnent\",\"h\\u00e9riss\\u00e9\",\"informels\",\"modifi\\u00e9e\",\"battista\",\"allumette\",\"sensibilisation\",\"topographe\",\"rythment\",\"r\\u00e9trocession\",\"transport\\u00e9e\",\"grahame\",\"constitutif\",\"ba\\u00efonnettes\",\"cadenc\\u00e9\",\"houdain\",\"catche\",\"jumelages\",\"\\u00e9panouit\",\"voyageur\",\"comp\\u00e9titions\",\"contentera\",\"glan\\u00e9es\",\"pegmatites\",\"benedikt\",\"sem\\u00e9e\",\"populations\",\"albumen\",\"gijs\",\"sem\\u00e9s\",\"costaricienne\",\"cervicale\",\"duale\",\"\\u00e9rigent\",\"raccorde\",\"brimont\",\"obturation\",\"pectorales\",\"crachat\",\"chloroplastes\",\"capturant\",\"kampala\",\"anachronismes\",\"arndt\",\"commentaire\",\"concert\\u00e9\",\"d\\u00e9lester\",\"s\\u00e9paratisme\",\"gershom\",\"observateurs\",\"friandise\",\"desservira\",\"h\\u00e9ritier\",\"radicalisation\",\"avaient\",\"matilda\",\"refl\\u00e9t\\u00e9\",\"d\\u00e9serta\",\"excusa\",\"d\\u00e9serte\",\"merveilleuses\",\"isidoro\",\"achev\\u00e9es\",\"centuri\",\"reignier\",\"rythme\",\"d\\u00e9serts\",\"bienvenu\",\"prescrivent\",\"contextes\",\"coolus\",\"rayon\",\"insoumise\",\"h\\u00e9risse\",\"minist\\u00e9riels\",\"croquante\",\"critiqu\\u00e9es\",\"construisait\",\"abondantes\",\"propane\",\"vingt_et_un\",\"tisser\",\"traves\",\"vibrantes\",\"encombrement\",\"attelages\",\"cadence\",\"barbra\",\"amen\\u00e9e\",\"\\u00e9chelles\",\"g\\u00e9raud\",\"dinosaure\",\"vibrer\",\"donges\",\"trouvons\",\"balade\",\"soucy\",\"mouflon\",\"festus\",\"modest\",\"gabelles\",\"hydrure\",\"amen\\u00e9s\",\"balayent\",\"pigment\",\"h\\u00e9g\\u00e9monique\",\"souci\",\"\\u00e9quations\",\"pr\\u00e9tends\",\"pr\\u00e9tendu\",\"arch\\u00e9es\",\"gardon\",\"miraculeuses\",\"superficielles\",\"c\\u00e9lesta\",\"caisson\",\"amaya\",\"d\\u00e9masqu\\u00e9s\",\"c\\u00e9leste\",\"invasifs\",\"appropriation\",\"d\\u00e9filer\",\"polychromie\",\"torts\",\"chandon\",\"puncheur\",\"d\\u00e9masqu\\u00e9e\",\"denholm\",\"larrons\",\"d\\u00e9bit\\u00e9\",\"vo\\u00fbte\",\"foliaires\",\"peux\",\"pilotent\",\"interm\\u00e8de\",\"peur\",\"chevauche\",\"concurrence\",\"clapets\",\"autocrate\",\"libertin\",\"peut\",\"jet\\u00e9es\",\"vernaison\",\"peul\",\"rel\\u00e8ve\",\"rabattre\",\"interdira\",\"grzegorz\",\"saut\\u00e9\",\"fis\",\"pluvial\",\"erstein\",\"ligand\",\"fit\",\"noyaux\",\"multim\\u00e9dias\",\"uriah\",\"caract\\u00e8re\",\"reproductibilit\\u00e9\",\"fia\",\"collectionner\",\"fie\",\"furie\",\"menachem\",\"brassempouy\",\"fin\",\"dispos\\u00e9es\",\"fil\",\"barri\\u00e8res\",\"caldeiras\",\"perpendiculaire\",\"enrobage\",\"prop\\u00e9deutique\",\"qualitatifs\",\"\\u00e9loigner\",\"r\\u00e9par\\u00e9\",\"positionn\\u00e9\",\"laban\",\"touchant\",\"\\u00e9vier\",\"hautaine\",\"\\u00e9mergences\",\"hospitalier\",\"r\\u00e9clamations\",\"hindouistes\",\"terroristes\",\"d\\u00e9put\\u00e9\",\"\\u00e9volutions\",\"ensuivront\",\"esp\\u00e8ce\",\"arron\",\"bavures\",\"violences\",\"arrou\",\"averse\",\"ingrid\",\"t\\u00e9l\\u00e9chargeables\",\"pitre\",\"r\\u00e9gulatrice\",\"privent\",\"s\\u00e9parations\",\"s\\u00e9rail\",\"chevauch\\u00e9\",\"concurrenc\\u00e9\",\"stabiliser\",\"promets\",\"vo\\u00fbt\\u00e9\",\"allan\",\"oppos\\u00e9s\",\"parasites\",\"houiller\",\"houilles\",\"devrez\",\"circul\\u00e8rent\",\"antimilitariste\",\"hautains\",\"oppos\\u00e9e\",\"concourut\",\"scarab\\u00e9es\",\"hautbois\",\"oisifs\",\"macro\\u00e9conomiques\",\"oprah\",\"m\\u00e9chants\",\"foissy\",\"faisceau\",\"gradation\",\"mason\",\"toute\",\"encourage\",\"d\\u00e9cennie\",\"taquin\",\"m\\u00e9chante\",\"correcte\",\"engouement\",\"strate\",\"surnoms\",\"emprisonner\",\"corrects\",\"th\\u00e8mes\",\"positionne\",\"instructif\",\"clamer\",\"leela\",\"cinq_cent\",\"subdiviser\",\"bimestrielle\",\"carottes\",\"chiara\",\"d\\u00e9clenchent\",\"n\\u00e9gative\",\"d\\u00e9ferlante\",\"liasse\",\"mast\\u00e8res\",\"martijn\",\"barbouzes\",\"miaou\",\"\\u00e9tanche\",\"mis\\u00e9ricordes\",\"popularise\",\"oullins\",\"fr\\u00eale\",\"popularisa\",\"\\u00e9nerg\\u00e9tiques\",\"repoussa\",\"garrick\",\"agit\\u00e9e\",\"repousse\",\"maladies\",\"long\\u00e9\",\"philologue\",\"rejouer\",\"chevron\",\"\\u00e9bullition\",\"antilles\",\"agit\\u00e9s\",\"risqu\\u00e9es\",\"\\u00e9voluent\",\"aigles\",\"service\",\"dissuasion\",\"cambriolage\",\"r\\u00e9arrangement\",\"bourse\",\"d\\u00e9chiffrement\",\"master\",\"mousseline\",\"genesis\",\"cannel\\u00e9e\",\"maquill\\u00e9s\",\"parterres\",\"jurisconsultes\",\"emp\\u00eatr\\u00e9\",\"baptisera\",\"viticoles\",\"acharnement\",\"oingt\",\"indiscutables\",\"maquill\\u00e9e\",\"saccag\\u00e9\",\"apathique\",\"balises\",\"baliser\",\"baleini\\u00e8res\",\"\\u00e9vaporent\",\"ahmed\",\"asaph\",\"m\\u00fbrs\",\"pr\\u00e9occupants\",\"f\\u00e9lins\",\"officialisant\",\"constructibles\",\"batracien\",\"carrossier\",\"ahmet\",\"m\\u00fbre\",\"varambon\",\"chalets\",\"lucarnes\",\"fr\\u00f4lant\",\"f\\u00e9line\",\"similaires\",\"intercommunaux\",\"trotskyste\",\"similitude\",\"longs\",\"nola\",\"supprimait\",\"popularis\\u00e9\",\"tachet\\u00e9e\",\"reliquaires\",\"spacieux\",\"allou\\u00e9es\",\"grin\\u00e7ant\",\"longe\",\"surnomm\\u00e9es\",\"marolles\",\"courier\",\"hymen\",\"socioprofessionnelle\",\"affaire\",\"coulisser\",\"coulisses\",\"canc\\u00e9reuses\",\"incompr\\u00e9hensibles\",\"kremlin\",\"ophtalmologiste\",\"l\\u00e8vera\",\"descendit\",\"param\\u00e9triques\",\"ormonde\",\"e\\u00fbt\",\"briquettes\",\"disjointes\",\"machinistes\",\"attach\\u00e9e\",\"cristallisation\",\"h\\u00e9mostase\",\"gouarec\",\"officiait\",\"min\\u00e9ralogique\",\"gallagher\",\"volkan\",\"noeuds\",\"moucherons\",\"attach\\u00e9s\",\"bradford\",\"treize\",\"singer\",\"singes\",\"thanatos\",\"intrins\\u00e8que\",\"officielles\",\"purger\",\"calquer\",\"maja\",\"chanceuse\",\"ranulph\",\"pompeux\",\"endur\\u00e9es\",\"raisonn\\u00e9e\",\"teck\",\"purgea\",\"homophone\",\"interpr\\u00e9teur\",\"bouddha\",\"trompe\",\"instigateur\",\"ut\\u00e9rine\",\"franklyn\",\"minimale\",\"thad\",\"teresa\",\"qualifi\\u00e8rent\",\"\\u00e9chang\\u00e9\",\"affermissement\",\"chaillevette\",\"rencontreront\",\"r\\u00e9actualiser\",\"ethnique\",\"orleans\",\"ploubalay\",\"sceptres\",\"dreux\",\"chevillon\",\"gustative\",\"carthaginois\",\"tent\\u00e9e\",\"apach\",\"kinase\",\"nordique\",\"rico\",\"ferment\\u00e9es\",\"pustules\",\"rick\",\"rich\",\"mardyck\",\"bocag\\u00e8re\",\"mandibules\",\"tent\\u00e9s\",\"rica\",\"d\\u00e9partag\\u00e9s\",\"plate\",\"formerets\",\"t\\u00e9nor\",\"c\\u00e9sium\",\"autorouti\\u00e8res\",\"cartigny\",\"plato\",\"valident\",\"firenze\",\"baffes\",\"savetier\",\"bisexuelle\",\"imp\\u00f4t\",\"excitant\",\"ulc\\u00e9r\\u00e9\",\"radioscopie\",\"am\\u00e9liore\",\"kanta\",\"ex\\u00e9cut\\u00e9s\",\"optimise\",\"am\\u00e9liora\",\"rectal\",\"braies\",\"groupie\",\"statua\",\"\\u00e9mettaient\",\"dormance\",\"\\u00e9corch\\u00e9\",\"dominait\",\"ex\\u00e9cut\\u00e9e\",\"porquerolles\",\"guengat\",\"prolongements\",\"postiche\",\"revendu\",\"d\\u00e9marchage\",\"\\u00e9change\",\"cohan\",\"pinon\",\"ivoiriennes\",\"tromp\\u00e9\",\"concurrenc\\u00e9e\",\"pinot\",\"saign\\u00e9es\",\"secourt\",\"all\\u00e8gement\",\"quarante\",\"concurrenc\\u00e9s\",\"ha\\u00efr\",\"musicales\",\"clarifier\",\"d\\u00e9signer\",\"lots\",\"humoristique\",\"p\\u00e9plum\",\"coulmiers\",\"sherpa\",\"loti\",\"radiophonique\",\"loto\",\"r\\u00e9v\\u00e8lent\",\"feucherolles\",\"ira\",\"sto\\u00efcien\",\"ire\",\"corcy\",\"cosm\\u00e9tologie\",\"discipline\",\"inflig\\u00e8rent\",\"nature\",\"hydrog\\u00e8ne\",\"excentrique\",\"paissent\",\"gwyn\",\"tendons\",\"nettoyages\",\"gisbert\",\"inflorescence\",\"miyako\",\"gr\\u00e9seux\",\"davantage\",\"perp\\u00e9tua\",\"homosexuels\",\"halog\\u00e8ne\",\"d\\u00e9finies\",\"labellis\\u00e9\",\"plongeon\",\"am\\u00e9lior\\u00e9\",\"hikaru\",\"percuter\",\"\\u00e9courter\",\"welche\",\"copr\\u00e9sente\",\"\\u00e9parchies\",\"assi\\u00e9g\\u00e9e\",\"transalpin\",\"disiez\",\"benzylique\",\"ang\\u00e9lus\",\"r\\u00e9citant\",\"sc\\u00e8nes\",\"tympans\",\"sym\\u00e9triques\",\"d\\u00e9clarations\",\"fissures\",\"repr\\u00e9sentait\",\"innombrable\",\"basque\",\"escalade\",\"bipolaire\",\"blonde\",\"f\\u00e2cheuse\",\"solaire\",\"d\\u00e9coupent\",\"bouteville\",\"surpression\",\"sinologue\",\"mesurerait\",\"mentionn\\u00e9\",\"z\\u00e9br\\u00e9e\",\"union\",\"ac\\u00e9tique\",\"accr\\u00e9tion\",\"rameur\",\"sommelier\",\"encyclop\\u00e9dies\",\"distinctif\",\"dilu\\u00e9\",\"fry\",\"culs\",\"tutoyer\",\"zooplancton\",\"premier\",\"h\\u00e9sitaient\",\"diabolisation\",\"barque\",\"impassible\",\"davy\",\"sauta\",\"dave\",\"empattement\",\"phlox\",\"pr\\u00e9judiciables\",\"ansgar\",\"spin\",\"jarrie\",\"emploi\",\"traitent\",\"zalman\",\"confiance\",\"windsurf\",\"occidentalisation\",\"plaqu\\u00e9\",\"ramassis\",\"bourdonnement\",\"loudun\",\"chapelets\",\"moraines\",\"basaltique\",\"baptismaux\",\"verges\",\"verger\",\"pancrazio\",\"alister\",\"elmira\",\"mirabella\",\"escalad\\u00e9\",\"druidique\",\"mirabelle\",\"hygrom\\u00e9trie\",\"breakfast\",\"informatives\",\"alimentation\",\"hitl\\u00e9rienne\",\"sommation\",\"mentionne\",\"estimera\",\"mentionna\",\"principale\",\"synth\\u00e9tique\",\"provinciale\",\"peindra\",\"peindre\",\"cons\\u00e9quentes\",\"trivialit\\u00e9\",\"licenciements\",\"inconstante\",\"artilleries\",\"skieurs\",\"navarrais\",\"gasparo\",\"indiquant\",\"n\\u00e9ons\",\"holographique\",\"gardaient\",\"marches\",\"marcher\",\"vivien\",\"qualifications\",\"refit\",\"freney\",\"richebourg\",\"cloques\",\"pr\\u00e9f\\u00e9rez\",\"coiff\\u00e9es\",\"cr\\u00e9anciers\",\"d\\u00e9tectives\",\"vivier\",\"anoblit\",\"remuant\",\"bouleau\",\"aimant\",\"algue\",\"rebut\",\"phylact\\u00e8re\",\"venant\",\"corrig\\u00e9es\",\"tatou\\u00e9e\",\"mentors\",\"erp\\u00e9tologie\",\"cabaretier\",\"ressemblant\",\"aimerai\",\"fourmis\",\"corporate\",\"plaque\",\"bellot\",\"virant\",\"arbois\",\"tromp\\u00e9e\",\"lysosomes\",\"lexicographique\",\"r\\u00e9parable\",\"pullulations\",\"connell\",\"arrachement\",\"bouleverse\",\"belloy\",\"ciboire\",\"strapontins\",\"protectionnistes\",\"lasse\",\"belloc\",\"prolong\\u00e8rent\",\"aboutissant\",\"captiv\\u00e9\",\"tigernach\",\"tavernier\",\"hai\",\"controvers\\u00e9s\",\"hal\",\"ham\",\"han\",\"malfaisants\",\"festivit\\u00e9s\",\"rustiques\",\"dimensionnelles\",\"sieste\",\"pr\\u00e9tendent\",\"cations\",\"contest\\u00e9e\",\"izernore\",\"cimeti\\u00e8res\",\"m\\u00e9taphores\",\"accumul\\u00e9es\",\"synth\\u00e8ses\",\"p\\u00e9cheur\",\"avrilly\",\"municipal\",\"osman\",\"disons\",\"p\\u00e9ninsulaire\",\"confection\",\"traumatisme\",\"glandon\",\"ksenia\",\"guinevere\",\"indicative\",\"berna\",\"soumission\",\"replace\",\"d\\u00e9sinfecter\",\"d\\u00eener\",\"auditeurs\",\"baronnie\",\"accueillant\",\"fournir\",\"fournis\",\"forc\\u00e8rent\",\"froids\",\"fournit\",\"imagin\\u00e9s\",\"tent\\u00e8rent\",\"baskets\",\"roquebrune\",\"arbitre\",\"thermiques\",\"imagin\\u00e9e\",\"louches\",\"froide\",\"fournie\",\"boulevers\\u00e9\",\"effusion\",\"attorney\",\"repart\",\"\\u00e9cr\\u00e9m\\u00e9\",\"h\\u00e9r\\u00e9sie\",\"collaborait\",\"d\\u00e9volus\",\"th\\u00e9orie\",\"captive\",\"potentiom\\u00e8tres\",\"caponni\\u00e8re\",\"lass\\u00e9\",\"franquistes\",\"chantier\",\"d\\u00e9volue\",\"transcrits\",\"caract\\u00e9riel\",\"communicantes\",\"ha\\u00ef\",\"lact\\u00e9e\",\"magdebourg\",\"ecstasy\",\"congolaises\",\"r\\u00e9pugne\",\"syphilis\",\"escarp\\u00e9es\",\"art\\u00e9rielle\",\"rameuse\",\"descendre\",\"m\\u00e9prisante\",\"archon\",\"rondeaux\",\"galopante\",\"boulevers\\u00e9es\",\"corrig\\u00e9s\",\"eduard\",\"orthographi\\u00e9s\",\"chavigny\",\"amadeo\",\"brigades\",\"m\\u00e9prisants\",\"inquiet\",\"d\\u00e9fenseur\",\"composites\",\"symbolis\\u00e9e\",\"hitte\",\"rep\\u00e9r\\u00e9es\",\"poss\\u00e9d\\u00e9\",\"d\\u00e9confiture\",\"culan\",\"invert\\u00e9br\\u00e9\",\"barchetta\",\"amalgam\\u00e9e\",\"collets\",\"adel\",\"adem\",\"aden\",\"m\\u00e9kong\",\"lemmings\",\"zarzuelas\",\"ginevra\",\"pr\\u00e9serv\\u00e9e\",\"paillasse\",\"maxwell\",\"marshall\",\"dissoci\\u00e9\",\"bonsoir\",\"am\\u00e9liorent\",\"lieber\",\"perch\\u00e9es\",\"pr\\u00e9serv\\u00e9s\",\"parlais\",\"parlait\",\"plouvien\",\"phylact\\u00e8res\",\"mettront\",\"mondiaux\",\"compar\\u00e9s\",\"germaniste\",\"tami\",\"promulgua\",\"d\\u00e9lib\\u00e8re\",\"conduisant\",\"\\u00e9mail\",\"altitude\",\"rapatrie\",\"pat\\u00e8ne\",\"conserv\\u00e9es\",\"compar\\u00e9e\",\"proposerait\",\"singulier\",\"h\\u00eatre\",\"tuyaux\",\"s\\u00e9quentiel\",\"altan\",\"tinrent\",\"normales\",\"reconnaisse\",\"r\\u00e9utilis\\u00e9es\",\"redans\",\"breuvage\",\"ceintur\\u00e9e\",\"blaireaux\",\"paysagiste\",\"chauff\\u00e9e\",\"foliaire\",\"duel\",\"chatelais\",\"all\\u00e9geance\",\"transport\\u00e9s\",\"ceyrat\",\"embolie\",\"anales\",\"\\u00e9loignant\",\"humbles\",\"complications\",\"op\\u00e9r\\u00e9es\",\"pesos\",\"z\\u00e9ros\",\"dues\",\"chatelain\",\"creuser\",\"creuses\",\"creuset\",\"moderne\",\"z\\u00e9l\\u00e9\",\"dissocie\",\"d\\u00e9masquer\",\"civilis\\u00e9e\",\"fix\\u00e9es\",\"compterait\",\"assi\\u00e8gent\",\"complex\\u00e9\",\"fanzine\",\"bats\",\"aram\\u00e9ennes\",\"signification\",\"m\\u00e9dersas\",\"civilis\\u00e9s\",\"accidentelles\",\"triangles\",\"effusions\",\"rapatri\\u00e9\",\"comportent\",\"sandales\",\"pli\\u00e9es\",\"datura\",\"douaire\",\"gauloise\",\"courb\\u00e9es\",\"verona\",\"rolf\",\"\\u00e9paissir\",\"patates\",\"r\\u00e9cr\\u00e9atives\",\"foyers\",\"pierreux\",\"f\\u00e9erie\",\"p\\u00e8res\",\"arrangeur\",\"diurne\",\"dispos\\u00e9s\",\"ga\\u00e9lique\",\"palme\",\"longueur\",\"r\\u00e9glementaire\",\"palma\",\"\\u00e9voquais\",\"variable\",\"transporter\",\"aragorn\",\"explosions\",\"tivoli\",\"annequin\",\"armori\\u00e9\",\"leucocytes\",\"d\\u00e9bloqu\\u00e9es\",\"fronsac\",\"louveciennes\",\"d\\u00e9sabus\\u00e9e\",\"affrontaient\",\"empar\\u00e8rent\",\"\\u00e9voquait\",\"polym\\u00e9risation\",\"dot\\u00e8rent\",\"faisait\",\"acqu\\u00eats\",\"chaim\",\"corps\",\"faisais\",\"machination\",\"ost\",\"acc\\u00e9l\\u00e9ration\",\"bailleurs\",\"coude\",\"bandits\",\"exp\\u00e9rimentaux\",\"chair\",\"chais\",\"\\u00e9tape\",\"th\\u00e9ologiens\",\"r\\u00e9it\\u00e9rant\",\"vaudoise\",\"ballet\",\"amplification\",\"d\\u00e9rober\",\"balles\",\"gorgone\",\"angevines\",\"mitigation\",\"freelance\",\"substitut\",\"r\\u00e9glement\\u00e9\",\"mol\\u00e9culaires\",\"emballage\",\"crible\",\"truquer\",\"d\\u00e9tritiques\",\"ventil\\u00e9e\",\"cass\\u00e9\",\"macho\",\"alluviaux\",\"caillouteuses\",\"ordalie\",\"roulent\",\"insulaire\",\"r\\u00e9it\\u00e8re\",\"conqu\\u00eate\",\"jerk\",\"jere\",\"d\\u00e9trempe\",\"mobilise\",\"chaloupes\",\"esches\",\"d\\u00e9roulait\",\"automnes\",\"minuta\",\"consolid\\u00e9\",\"exact\",\"minute\",\"talbot\",\"administraient\",\"saveuse\",\"isobare\",\"broy\\u00e9\",\"venise\",\"minnie\",\"influ\\u00e9\",\"thales\",\"sauvagnac\",\"caricaturistes\",\"habillage\",\"papesse\",\"cambrioleurs\",\"meadow\",\"boutonneux\",\"resserrent\",\"cameraman\",\"agoniste\",\"caniculaire\",\"os\\u00e9\",\"shirts\",\"obs\\u00e9dante\",\"lignages\",\"coud\\u00e9\",\"bovin\",\"pr\\u00e9servatif\",\"secr\\u00e9taire\",\"formater\",\"ionis\\u00e9\",\"landrecies\",\"abdullah\",\"syndiquer\",\"polygonal\",\"cassa\",\"pr\\u00f4ner\",\"paradoxes\",\"casse\",\"cribl\\u00e9\",\"ground\",\"performant\",\"rationalit\\u00e9\",\"honour\",\"contrevenir\",\"flottaison\",\"lescun\",\"r\\u00e9enregistr\\u00e9\",\"gladys\",\"lib\\u00e9raux\",\"survivantes\",\"vendredis\",\"c\\u00e2bl\\u00e9es\",\"gauchistes\",\"transmet\",\"annales\",\"mobilis\\u00e9\",\"benson\",\"broye\",\"mafioso\",\"appartint\",\"influe\",\"mafiosi\",\"inconv\\u00e9nients\",\"rosac\\u00e9es\",\"cette\",\"contemporaines\",\"queue\",\"velout\\u00e9e\",\"annalisa\",\"colonne\",\"pollyanna\",\"digamma\",\"ardues\",\"influx\",\"\\u00e2nes\",\"redescendent\",\"instar\",\"serpentes\",\"notons\",\"\\u00e9puisant\",\"tzigane\",\"commensale\",\"barcus\",\"buccal\",\"kimiko\",\"campaniforme\",\"connaissiez\",\"recoins\",\"diminu\\u00e9\",\"parachut\\u00e9\",\"sociologue\",\"prodiguer\",\"darnell\",\"opposer\",\"elijah\",\"aine\",\"luthier\",\"sommaire\",\"alimentaire\",\"th\\u00e8se\",\"chiffr\\u00e9e\",\"assailli\",\"h\\u00e9molytique\",\"mijoux\",\"primula\",\"etude\",\"signal\\u00e9s\",\"assaille\",\"aina\",\"chelle\",\"volont\\u00e9\",\"alastair\",\"varient\",\"salaire\",\"g\\u00e9nois\",\"assimilation\",\"microm\\u00e9t\\u00e9orites\",\"enlumineurs\",\"consoles\",\"feuillages\",\"arable\",\"quiers\",\"retenons\",\"taquiner\",\"domicili\\u00e9es\",\"opuscule\",\"micaela\",\"aino\",\"sem\\u00e9\",\"sibyl\",\"ladite\",\"lexicale\",\"\\u00e9cout\\u00e9s\",\"atrophi\\u00e9es\",\"favorables\",\"tinamou\",\"contant\",\"mang\\u00e9\",\"rangement\",\"moultes\",\"incoh\\u00e9rences\",\"bio\\u00e9thique\",\"cascadeur\",\"rebaptis\\u00e9e\",\"munroe\",\"nettoyer\",\"d\\u00e9marrent\",\"calas\",\"acad\\u00e9mie\",\"\\u00e9rig\\u00e9e\",\"apostat\",\"parachute\",\"coordonner\",\"diminua\",\"d\\u00e9truisait\",\"appropriant\",\"diminue\",\"admirer\",\"listent\",\"\\u00e9rig\\u00e9s\",\"fosses\",\"litre\",\"r\\u00e9am\\u00e9nag\\u00e9\",\"girondin\",\"bielles\",\"th\\u00e9odolite\",\"yangts\\u00e9\",\"d\\u00e9daign\\u00e9\",\"quadruples\",\"notariale\",\"fauniques\",\"traduis\",\"restitutions\",\"traduit\",\"lumineuse\",\"parkings\",\"transparences\",\"r\\u00e9exposition\",\"d\\u00e9cembre\",\"t\\u00e9l\\u00e9diffus\\u00e9e\",\"harmon\",\"indiqueraient\",\"commettant\",\"jurer\",\"endormi\",\"my\\u00e9line\",\"oculus\",\"coupures\",\"tiquer\",\"pornographiques\",\"plomeur\",\"maquiller\",\"quadrant\",\"auges\",\"subdivisions\",\"glynis\",\"normaux\",\"mange\",\"largueur\",\"manga\",\"d\\u00e9pos\\u00e9es\",\"yangon\",\"cartilages\",\"supr\\u00eame\",\"belettes\",\"h\\u00e9rons\",\"leticia\",\"montauban\",\"trahissant\",\"r\\u00e9examiner\",\"episodes\",\"cantines\",\"volumiques\",\"axelle\",\"sanatoriums\",\"pr\\u00e9fets\",\"cordill\\u00e8re\",\"abdominales\",\"rougon\",\"disparaissent\",\"rajeunie\",\"reconstitu\\u00e9s\",\"armoriaux\",\"immatriculation\",\"jin\",\"assassin\\u00e9s\",\"jim\",\"troubles\",\"troubler\",\"inquisiteur\",\"leuc\\u00e9mies\",\"m\\u00e9diterran\\u00e9ens\",\"ovale\",\"reformuler\",\"suspension\",\"bougre\",\"callahan\",\"assassin\\u00e9e\",\"\\u00e9pilepsie\",\"sortez\",\"vocalise\",\"voilier\",\"gasconne\",\"cr\\u00e9dits\",\"sortes\",\"thalia\",\"roseli\\u00e8res\",\"circonstanci\\u00e9e\",\"aboli\",\"d\\u00e9filement\",\"cr\\u00e9dite\",\"adviendra\",\"intertropicale\",\"r\\u00e9v\\u00e9lera\",\"prostituer\",\"d\\u00e9vast\\u00e9es\",\"pendre\",\"radiologiques\",\"dido\",\"d\\u00e9calogue\",\"didi\",\"potier\",\"m\\u00e9lodique\",\"d\\u00e9sengage\",\"raifort\",\"brassard\",\"abyssales\",\"atroce\",\"cavaillon\",\"pleines\",\"prophylaxie\",\"quartet\",\"pr\\u00e9par\\u00e8rent\",\"corr\\u00e9l\\u00e9e\",\"honduras\",\"prisme\",\"assi\\u00e9ger\",\"salade\",\"matriarcat\",\"\\u00e2tre\",\"abstraction\",\"sponsor\",\"distribuait\",\"assi\\u00e9gea\",\"couvreur\",\"fix\\u00e8rent\",\"d\\u00e9savantage\",\"g\\u00e9ode\",\"troll\",\"surplombant\",\"subtils\",\"r\\u00e9activit\\u00e9\",\"montain\",\"assuraient\",\"grethe\",\"internes\",\"interner\",\"trauma\",\"subtile\",\"\\u00e9picurisme\",\"internet\",\"verglas\",\"scarification\",\"apocryphe\",\"s\\u00e9datif\",\"columbarium\",\"calembours\",\"tranchent\",\"trottinette\",\"touchent\",\"\\u00e9limin\\u00e9e\",\"brennus\",\"cr\\u00e9dit\\u00e9\",\"byte\",\"eliezer\",\"rajouter\",\"repli\\u00e9es\",\"marla\",\"g\\u00e9notypes\",\"inh\\u00e9rente\",\"marle\",\"prot\\u00e9gea\",\"laurentius\",\"instabilit\\u00e9\",\"hamel\",\"femelles\",\"troubl\\u00e9s\",\"montville\",\"gordon\",\"prot\\u00e9ger\",\"cent_millions\",\"marly\",\"tourti\\u00e8re\",\"approuvant\",\"inqui\\u00e8tent\",\"r\\u00e9\\u00e9difi\\u00e9e\",\"sp\\u00e9cifique\",\"autobiographiques\",\"conductrice\",\"b\\u00e8gue\",\"rouvre\",\"ormes\",\"ona\",\"savino\",\"tableaux\",\"banderoles\",\"enroulements\",\"mignon\",\"tamara\",\"profonde\",\"irrationnels\",\"ont\",\"onu\",\"tourment\\u00e9\",\"benedito\",\"cot\\u00e9s\",\"zo\\u00e9\",\"zo\\u00eb\",\"cot\\u00e9e\",\"p\\u00e9nicillines\",\"constants\",\"magnifique\",\"biliaires\",\"liquidateurs\",\"raillerie\",\"r\\u00e9gleur\",\"d\\u00e9sign\\u00e9s\",\"montfuron\",\"hippiques\",\"cherbourg\",\"parodient\",\"shawn\",\"absorba\",\"absorbe\",\"aborder\",\"d\\u00e9faillance\",\"d\\u00e9sign\\u00e9e\",\"rouleur\",\"baladant\",\"mena\\u00e7antes\",\"m\\u00ealer\",\"anesth\\u00e9sie\",\"irr\\u00e9aliste\",\"m\\u00e8nera\",\"sourde\",\"ascendance\",\"langoiran\",\"guerlesquin\",\"malsaines\",\"r\\u00e9invention\",\"bannir\",\"bannis\",\"m\\u00e9t\\u00e9orologue\",\"m\\u00e9ditation\",\"sourds\",\"franchirent\",\"touch\\u00e9\",\"entraves\",\"entraver\",\"additionnels\",\"aberrantes\",\"abattre\",\"contr\\u00f4l\\u00e9\",\"r\\u00e9ductrices\",\"miction\",\"veauche\",\"cosaques\",\"ferm\\u00e9es\",\"transformable\",\"reviews\",\"expuls\\u00e9s\",\"transitoire\",\"kasimir\",\"jewell\",\"additif\",\"prononc\\u00e8rent\",\"impuissantes\",\"burundi\",\"balsac\",\"expuls\\u00e9e\",\"mara\\u00eechers\",\"hypnose\",\"goudron\",\"translate\",\"yosef\",\"dilutions\",\"tourmente\",\"zoo\",\"ev\\u00e9nement\",\"bagasse\",\"perdre\",\"perdra\",\"tourments\",\"r\\u00e9pugnance\",\"r\\u00e9unira\",\"mayet\",\"gobelets\",\"saintes\",\"absorb\\u00e9\",\"recouvrance\",\"opposite\",\"lopin\",\"actant\",\"wisigothe\",\"buffet\",\"emprunt\\u00e8rent\",\"filiations\",\"pittoresques\",\"verveine\",\"martiales\",\"brillera\",\"caduques\",\"fioritures\",\"radicelles\",\"avares\",\"s\\u00e9vissait\",\"correspondrait\",\"joujou\",\"dio\\u00efques\",\"marijke\",\"phil\",\"r\\u00e9alisatrice\",\"toucha\",\"rivalisent\",\"haguenau\",\"contr\\u00f4le\",\"touche\",\"cachait\",\"bellefontaine\",\"pl\\u00e9ni\\u00e8res\",\"afflig\\u00e9e\",\"d\\u00e9port\",\"trottoir\",\"imaginez\",\"lib\\u00e9r\\u00e8rent\",\"wynn\",\"chargerai\",\"sp\\u00e9culative\",\"anomie\",\"willard\",\"imaginer\",\"imagines\",\"op\\u00e9rationnel\",\"bar\\u00e8me\",\"friction\",\"bizutage\",\"elan\",\"\\u00e9meutiers\",\"nontron\",\"soviets\",\"volcanisme\",\"signets\",\"intracellulaires\",\"quierzy\",\"ensembles\",\"hospitalis\\u00e9s\",\"incendi\\u00e9s\",\"com\\u00e9dies\",\"incorpor\\u00e9es\",\"appr\\u00e9cient\",\"hospitalis\\u00e9e\",\"presse\",\"louve\",\"portsall\",\"regardaient\",\"capituler\",\"capitules\",\"\\u00e9luder\",\"acquitte\",\"bassesse\",\"congr\\u00e9gation\",\"mena\\u00e7aient\",\"lib\\u00e9r\\u00e9es\",\"ravitailler\",\"marqueuse\",\"litige\",\"\\u00e9tablit\",\"\\u00e9tablir\",\"\\u00e9tablis\",\"thalassoth\\u00e9rapie\",\"jaillissant\",\"monde\",\"a\\u00eenesse\",\"\\u00e9tablie\",\"retraits\",\"sch\\u00e9matiser\",\"contredite\",\"refinancement\",\"fraudeur\",\"collonges\",\"mastaba\",\"pr\\u00e9venus\",\"volatilit\\u00e9\",\"rudimentaires\",\"officialis\\u00e9es\",\"int\\u00e9grateurs\",\"vision\",\"cl\\u00f4t\",\"m\\u00e9latonine\",\"affaires\",\"\\u00e9piphanie\",\"marnie\",\"hi\\u00e9roglyphes\",\"notice\",\"masquage\",\"s\\u00e9n\\u00e9galaise\",\"fraises\",\"ferez\",\"all\\u00e9gu\\u00e9\",\"lycanthrope\",\"impressions\",\"shimon\",\"compositeur\",\"conciliante\",\"bahman\",\"dexter\",\"liqu\\u00e9fier\",\"vendel\",\"arraisonn\\u00e9\",\"croisade\",\"fondamentalistes\",\"pr\\u00e9figuration\",\"harvey\",\"custode\",\"fautif\",\"interjections\",\"acquitt\\u00e9\",\"vacciner\",\"humoriste\",\"sigeberht\",\"press\\u00e9\",\"m\\u00e9dite\",\"lessiv\\u00e9s\",\"lapidaire\",\"audierne\",\"t\\u00e9l\\u00e9charg\\u00e9e\",\"retrait\\u00e9\",\"reconnue\",\"d\\u00e9mentira\",\"\\u00e9conomique\",\"marietta\",\"awards\",\"eccl\\u00e9siastiques\",\"mariette\",\"distrait\",\"attirante\",\"pronon\\u00e7ant\",\"raismes\",\"compress\\u00e9es\",\"vitreux\",\"rhodes\",\"gouvernance\",\"quadriennale\",\"\\u00e9crouler\",\"perspicacit\\u00e9\",\"laques\",\"abzac\",\"flipper\",\"hiverne\",\"chlorhydrique\",\"plaignit\",\"fendant\",\"surtensions\",\"t\\u00e9l\\u00e9film\",\"b\\u00e2ches\",\"provocante\",\"admettent\",\"diff\\u00e9renciation\",\"wassigny\",\"baden\",\"sifflets\",\"introduisit\",\"moyenne\",\"assujettie\",\"d\\u00e9centralis\\u00e9e\",\"article\",\"constant\",\"passionnante\",\"eider\",\"leander\",\"d\\u00e9tenir\",\"persane\",\"schizophr\\u00e9nie\",\"t\\u00e9l\\u00e9command\\u00e9\",\"ardents\",\"incubation\",\"anticipations\",\"victorine\",\"cartographi\\u00e9\",\"motiver\",\"ardente\",\"souhaiterions\",\"chitry\",\"victorino\",\"persans\",\"\\u00e9corch\\u00e9e\",\"formel\",\"soutirage\",\"contestaient\",\"entrammes\",\"photon\",\"barzan\",\"photos\",\"oligarque\",\"vue\",\"sophisme\",\"unifient\",\"formes\",\"former\",\"seclin\",\"assign\\u00e9\",\"fleuret\",\"australes\",\"vignolles\",\"naseaux\",\"dissolutions\",\"blanchis\",\"blanchir\",\"blanchit\",\"royle\",\"fleurey\",\"ives\",\"antagonistes\",\"encourag\\u00e9\",\"absorbants\",\"d\\u00e9fensives\",\"situation\",\"heurtait\",\"blanchie\",\"transi\",\"bi\\u00e9lorusses\",\"basait\",\"supercherie\",\"h\\u00e9rauts\",\"oc\\u00e9ane\",\"engagea\",\"bordures\",\"num\\u00e9rot\\u00e9es\",\"dagues\",\"lavaur\",\"graphes\",\"d\\u00e9plorable\",\"engager\",\"glissements\",\"t\\u00e9l\\u00e9commande\",\"inscrit\",\"poussif\",\"sold\\u00e9e\",\"kegan\",\"cuire\",\"nuptiale\",\"souvenez\",\"otto\",\"jessalyn\",\"ressentent\",\"sold\\u00e9s\",\"soumissions\",\"collectionneur\",\"crottes\",\"impesanteur\",\"\\u00e9quatorial\",\"elina\",\"juteux\",\"neuf_millions\",\"ocres\",\"arre\",\"axiomes\",\"haraucourt\",\"d'o\\u00f9\",\"marabouts\",\"brasser\",\"poissonneuses\",\"fermi\\u00e8re\",\"cano\\u00ebs\",\"p\\u00e9dalo\",\"saturninus\",\"astucieuse\",\"concentrer\",\"effor\\u00e7ait\",\"ininterrompues\",\"d\\u00e9pla\\u00e7ant\",\"glyc\\u00e9rol\",\"colorants\",\"pl\\u00e9istoc\\u00e8ne\",\"dimension\",\"diminu\\u00e8rent\",\"charrons\",\"math\\u00e9maticiens\",\"pr\\u00e9f\\u00e8te\",\"sp\\u00e9cialis\\u00e9s\",\"recycler\",\"beine\",\"pr\\u00e9sidents\",\"sp\\u00e9cialis\\u00e9e\",\"enclaves\",\"steamer\",\"figuier\",\"mitochondries\",\"b\\u00e9atitude\",\"pr\\u00e9sidente\",\"ngoc\",\"conflictuelle\",\"reposant\",\"contiendra\",\"creus\\u00e9s\",\"camoufle\",\"contrescarpe\",\"ressortant\",\"fragilis\\u00e9es\",\"r\\u00e9solutions\",\"pr\\u00eataient\",\"creus\\u00e9e\",\"arrosant\",\"spectateur\",\"polonais\",\"plumes\",\"silicones\",\"bourgneuf\",\"ogres\",\"repassent\",\"hypersensibilit\\u00e9\",\"zion\",\"av\\u00e8re\",\"go\\u00e9lette\",\"tamaris\",\"nageuse\",\"parution\",\"fourniront\",\"sumo\",\"recrudescence\",\"yasmine\",\"pente\",\"rompu\",\"rompt\",\"souscripteur\",\"unesco\",\"arbitr\\u00e9e\",\"positifs\",\"tombez\",\"r\\u00e9f\\u00e9rence\",\"levure\",\"tombes\",\"tomber\",\"mykola\",\"sonorit\\u00e9\",\"anses\",\"maximo\",\"normalit\\u00e9\",\"mienne\",\"m\\u00e9t\\u00e9ores\",\"ponctuel\",\"topologie\",\"d\\u00e9cernent\",\"grue\",\"vouloir\",\"artimon\",\"macario\",\"d\\u00e9laissa\",\"coupleur\",\"provoqu\\u00e8rent\",\"sursauts\",\"divins\",\"diogenes\",\"magma\",\"vesce\",\"d\\u00e9chirer\",\"lastours\",\"clelia\",\"kenrick\",\"pointillisme\",\"divine\",\"tva\",\"divina\",\"bongos\",\"attendus\",\"gasconnes\",\"r\\u00e9pandre\",\"scottie\",\"gouvernaient\",\"gonfl\\u00e9es\",\"cyanures\",\"attendue\",\"rh\\u00e9sus\",\"pentathlon\",\"ouvrier\",\"eliott\",\"transmutation\",\"permissivit\\u00e9\",\"surrepr\\u00e9sentation\",\"positionn\\u00e9es\",\"arables\",\"\\u00e9normit\\u00e9\",\"dyslexie\",\"ressens\",\"v\\u00e9tust\\u00e9\",\"t\\u00e9l\\u00e9viseur\",\"br\\u00e9sil\",\"emball\\u00e9e\",\"gauloises\",\"jahan\",\"leadership\",\"reconqu\\u00e9rir\",\"renfermait\",\"h\\u00e9lice\",\"topologique\",\"vein\\u00e9es\",\"lucey\",\"microscopiques\",\"lamarque\",\"quadrilat\\u00e8res\",\"exclusifs\",\"lou\\u00e9s\",\"r\\u00e9f\\u00e9renc\\u00e9\",\"stationnaire\",\"commissionn\\u00e9s\",\"bouture\",\"retracer\",\"financera\",\"niall\",\"saturer\",\"ing\\u00e9r\\u00e9es\",\"herp\\u00e8s\",\"autel\",\"r\\u00e9calcitrant\",\"upsilon\",\"lou\\u00e9e\",\"clarice\",\"carex\",\"antidote\",\"odes\",\"fractionn\\u00e9e\",\"ineffable\",\"perturber\",\"rossa\",\"dynamisme\",\"pivot\",\"g\\u00e9n\\u00e9alogie\",\"pensif\",\"biches\",\"interpelle\",\"allemand\",\"document\\u00e9es\",\"confiture\",\"presle\",\"gianmaria\",\"gotique\",\"ganagobie\",\"regard\\u00e9e\",\"cerises\",\"v\\u00e9n\\u00e9r\\u00e9es\",\"recourir\",\"\\u00e9chouer\",\"ing\\u00e9nierie\",\"missy\",\"franchir\",\"avoriaz\",\"na\\u00eet\",\"chilien\",\"fayence\",\"dormir\",\"vends\",\"continents\",\"foul\\u00e9e\",\"encadrent\",\"fonctionnaire\",\"d\\u00e9faveur\",\"gigantesque\",\"incrust\\u00e9s\",\"hattstatt\",\"infirmit\\u00e9\",\"batilly\",\"h\\u00e9g\\u00e9lienne\",\"expressionnistes\",\"lanc\\u00e9es\",\"grincheux\",\"inqui\\u00e9ter\",\"fondera\",\"conclut\",\"l\\u00e9ser\",\"incrust\\u00e9e\",\"conclus\",\"inqui\\u00e9tez\",\"pull\",\"rush\",\"paroissiaux\",\"rage\",\"asse\",\"claustral\",\"ruse\",\"oiseau\",\"boulazac\",\"dall\\u00e9e\",\"sym\\u00e9trique\",\"murales\",\"russ\",\"monopole\",\"servirait\",\"burnand\",\"biochimique\",\"patois\",\"d\\u00e9peuplement\",\"abus\\u00e9e\",\"amani\",\"quenelle\",\"op\\u00e9rateur\",\"bernaville\",\"contrecoup\",\"interpell\\u00e9\",\"savoureux\",\"hypertension\",\"haspres\",\"formulation\",\"furets\",\"jargon\",\"tremble\",\"fonctionnera\",\"tombola\",\"croyons\",\"yoga\",\"s\\u00e9lectionner\",\"cisel\\u00e9\",\"ensoleill\\u00e9es\",\"violoncelles\",\"yogi\",\"peluches\",\"endett\\u00e9e\",\"introspection\",\"tueront\",\"apolitiques\",\"gardons\",\"moisissures\",\"endett\\u00e9s\",\"d\\u00e9pendra\",\"manom\\u00e8tre\",\"hominid\\u00e9\",\"d\\u00e9pendre\",\"grillades\",\"d\\u00e9fricheurs\",\"d\\u00e9connect\\u00e9\",\"c\\u00e9sure\",\"caritatif\",\"redessin\\u00e9\",\"wincenty\",\"exmes\",\"l\\u00e9gitim\\u00e9\",\"alban\",\"albas\",\"iwo\",\"scolaris\\u00e9\",\"d\\u00e9couvraient\",\"gillis\",\"fermetures\",\"ill\\u00e9galit\\u00e9\",\"myriades\",\"natalie\",\"d\\u00e9nigrement\",\"natalia\",\"omnibus\",\"caribou\",\"tricks\",\"madrigal\",\"senteur\",\"raccroche\",\"mikl\\u00f3s\",\"enchanteurs\",\"cecilio\",\"pol\\u00e9miques\",\"ergonomiques\",\"thors\",\"valves\",\"mixtes\",\"facultative\",\"r\\u00e9solurent\",\"senne\",\"r\\u00e9gla\",\"lavoirs\",\"craignant\",\"mut\\u00e9es\",\"consciences\",\"tiroir\",\"calife\",\"\\u00e9lectromagn\\u00e9tiques\",\"caullery\",\"ry\",\"extermine\",\"attestations\",\"\\u00f4t\\u00e9e\",\"intelligibilit\\u00e9\",\"varices\",\"\\u00e9labor\\u00e9\",\"pouvoirs\",\"infiltrant\",\"causes\",\"causer\",\"sympa\",\"f\\u00e9d\\u00e9rateur\",\"bienveillantes\",\"bismarck\",\"hypoth\\u00e9tiques\",\"d\\u00e9tr\\u00f4nant\",\"cheney\",\"assimil\\u00e9e\",\"tridimensionnel\",\"nora\",\"d\\u00e9coupage\",\"cinqui\\u00e8mes\",\"\\u00e9puiser\",\"nord\",\"nori\",\"occasionnant\",\"carters\",\"norm\",\"cr\\u00e9matorium\",\"transversales\",\"imprim\\u00e9\",\"criminalit\\u00e9\",\"naturaliser\",\"remarie\",\"rl\",\"remaria\",\"surp\\u00e2turage\",\"isolantes\",\"nivernais\",\"limpides\",\"examens\",\"moines\",\"subissait\",\"sans\",\"relogement\",\"endom\\u00e8tre\",\"adina\",\"r\\u00e9habilite\",\"cloison\",\"sang\",\"sand\",\"tong\",\"linguiste\",\"sana\",\"sani\",\"accidentologie\",\"r\\u00e9gl\\u00e9\",\"mondain\",\"milord\",\"sarbacane\",\"rachet\\u00e9\",\"r\\u00e9agissait\",\"habit\\u00e9es\",\"bletterans\",\"\\u00e9labore\",\"pass\",\"landivy\",\"zapp\\u00e9\",\"exposaient\",\"extermin\\u00e9\",\"inesp\\u00e9r\\u00e9e\",\"int\\u00e9ressent\",\"physioth\\u00e9rapie\",\"pacifi\\u00e9e\",\"ralli\\u00e9e\",\"concern\\u00e9es\",\"pallie\",\"didascalies\",\"d\\u00e9termin\\u00e8rent\",\"leia\",\"leif\",\"ambrosien\",\"ran\\u00e7ons\",\"imprima\",\"full\",\"b\\u00e2tons\",\"actualise\",\"reformul\\u00e9e\",\"sylvestre\",\"naphtal\\u00e8ne\",\"maryann\",\"hast\",\"heber\",\"remari\\u00e9\",\"troubl\\u00e9e\",\"khmers\",\"jans\\u00e9niste\",\"talonn\\u00e9\",\"b\\u00e9la\",\"comportementales\",\"blessent\",\"paimpol\",\"cordelia\",\"d\\u00e9c.\",\"xyl\\u00e8ne\",\"procurant\",\"richelle\",\"cessation\",\"enduire\",\"indignes\",\"pr\\u00eat\\u00e9s\",\"picardie\",\"\\u00e9clairement\",\"norville\",\"boyards\",\"r\\u00e9sorber\",\"montlignon\",\"trouille\",\"mohandas\",\"mauricienne\",\"trafiquant\",\"confondent\",\"compteur\",\"poignard\",\"mory\",\"abus\\u00e9s\",\"dravidienne\",\"mors\",\"mortifications\",\"mort\",\"pictogrammes\",\"andro\",\"fourmille\",\"mang\\u00e9e\",\"automate\",\"r\\u00e9ponses\",\"zootechnie\",\"mora\",\"beatriz\",\"chapelles\",\"beatrix\",\"more\",\"consacre\",\"nuages\",\"franchissent\",\"consacra\",\"nourrissait\",\"substances\",\"g\\u00e9n\\u00e9alogies\",\"r\\u00e9digeait\",\"levent\",\"regarderai\",\"levens\",\"profitaient\",\"garos\",\"pourvoit\",\"\\u00e9crivez\",\"correctes\",\"letton\",\"pratiqu\\u00e8rent\",\"pourvoir\",\"\\u00e9coli\\u00e8re\",\"ambulants\",\"voulaient\",\"\\u00e9volutionniste\",\"guin\\u00e9enne\",\"souillac\",\"brutaux\",\"microbienne\",\"bancal\",\"sociale\",\"in\\u00e8s\",\"militait\",\"ambulante\",\"cosnac\",\"adalberto\",\"barclay\",\"archa\\u00efques\",\"allegra\",\"ponta\",\"ponte\",\"maladroites\",\"bestial\",\"forgeage\",\"allegro\",\"lesotho\",\"embarrasser\",\"vignobles\",\"monoxyde\",\"kenya\",\"strat\\u00e9gies\",\"biotique\",\"respective\",\"oligopole\",\"consistoires\",\"viane\",\"hugo\",\"hugh\",\"co\\u00fbteuse\",\"indiff\\u00e9renci\\u00e9e\",\"engageant\",\"h\\u00e9t\\u00e9rosides\",\"lawrie\",\"remblais\",\"transcodage\",\"f\\u00e9cond\\u00e9s\",\"pressages\",\"alberic\",\"consacr\\u00e9\",\"psychisme\",\"prol\\u00e9tarienne\",\"hipparque\",\"an\\u00e9antissement\",\"amparo\",\"f\\u00e9cond\\u00e9e\",\"pr\\u00e9d\\u00e9cesseurs\",\"conspirateurs\",\"mendel\",\"commentatrice\",\"merlines\",\"tilloloy\",\"liron\",\"jiang\",\"tiraill\\u00e9e\",\"\\u00e9clatants\",\"antarctiques\",\"comprim\\u00e9\",\"accouchement\",\"protestation\",\"tambours\",\"insistant\",\"actionn\\u00e9es\",\"\\u00e9chappement\",\"birmanie\",\"shakespearien\",\"reliures\",\"exclusions\",\"\\u00e9clatante\",\"signe\",\"reconstitu\\u00e9\",\"saillans\",\"\\u00e9nergies\",\"signa\",\"jordana\",\"bagues\",\"papes\",\"scott\",\"replier\",\"installer\",\"allonville\",\"signy\",\"roots\",\"radieuse\",\"reverra\",\"papillon\",\"brillait\",\"floraisons\",\"civette\",\"filons\",\"disparaissaient\",\"positons\",\"meneau\",\"am\\u00e9nage\",\"cr\\u00e9dibles\",\"isaac\",\"sauce\",\"z\\u00e9landais\",\"dilu\\u00e9es\",\"ajoutons\",\"martyrologe\",\"constitutionnels\",\"juda\\u00efsme\",\"eschau\",\"rajendra\",\"gadget\",\"hu\\u00eetrier\",\"chant\\u00e8rent\",\"idole\",\"pentagone\",\"giverny\",\"trois_cent\",\"poutrelles\",\"tracteur\",\"p\\u00e9nal\",\"irait\",\"dermatoses\",\"mandarins\",\"hom\\u00e9ostasie\",\"vorace\",\"denny\",\"homomorphisme\",\"courses\",\"arrangerait\",\"apprivois\\u00e9\",\"amoncellement\",\"corina\",\"nahal\",\"redescendant\",\"associer\",\"esclaves\",\"assurerait\",\"escrimeuse\",\"amphith\\u00e9\\u00e2tres\",\"spinnaker\",\"recevra\",\"nombres\",\"reconstitua\",\"houari\",\"sign\\u00e9\",\"reconstitue\",\"gilberto\",\"chrissy\",\"altier\",\"chansonni\\u00e8re\",\"terrassement\",\"gilberte\",\"calligraphes\",\"veillait\",\"coteau\",\"autrui\",\"m\\u00eal\\u00e9es\",\"ernie\",\"molac\",\"scoops\",\"langueur\",\"valeurs\",\"n\\u00e9cessitent\",\"embruns\",\"abominables\",\"p\\u00e9tales\",\"japonaise\",\"d\\u00e9couvrent\",\"appartements\",\"granulaire\",\"am\\u00e9nag\\u00e9\",\"chambray\",\"olfactifs\",\"invit\\u00e8rent\",\"hagondange\",\"cl\\u00f4turent\",\"fondation\",\"rejoignant\",\"comprendra\",\"g\\u00e9n\\u00e9rait\",\"restreignant\",\"comprendre\",\"universalit\\u00e9\",\"coulanges\",\"maisoncelles\",\"pacifisme\",\"contient\",\"ravitaill\\u00e9s\",\"pairs\",\"retracent\",\"faon\",\"ininterrompu\",\"tib\\u00e9taine\",\"abritera\",\"v\\u00e9rification\",\"ljubomir\",\"paire\",\"thiago\",\"monotones\",\"ravitaill\\u00e9e\",\"tib\\u00e9tains\",\"clerg\\u00e9s\",\"tournent\",\"montcenis\",\"for\\u00eat\",\"soul\\u00e8vement\",\"alt\\u00e9rit\\u00e9\",\"limitait\",\"prosp\\u00e9r\\u00e9\",\"cor\\u00e9ennes\",\"nikola\\u00ef\",\"demanderont\",\"ravageaient\",\"wassim\",\"reuben\",\"santenay\",\"compliquant\",\"d\\u00e9sastres\",\"principes\",\"codons\",\"am\\u00e9thyste\",\"narcissus\",\"gibelin\",\"inoubliables\",\"cuill\\u00e8re\",\"topographiques\",\"aven\",\"n\\u00e9gocient\",\"nome\",\"essaya\",\"avec\",\"interpr\\u00e8tent\",\"essaye\",\"leighton\",\"avez\",\"noms\",\"empir\\u00e9\",\"r\\u00e9gnant\",\"saint\",\"costum\\u00e9e\",\"jenlain\",\"s\\u00e9quoias\",\"exc\\u00e9dent\",\"d\\u00e9mographique\",\"contract\\u00e9e\",\"aveu\",\"ainsi\",\"\\u00e9maill\\u00e9s\",\"rassembler\",\"cr\\u00eates\",\"p\\u00e9tale\",\"\\u00e9paulement\",\"mont\\u00e9n\\u00e9grine\",\"pil\\u00e9e\",\"chapelle\",\"saverio\",\"interviewer\",\"pectine\",\"\\u00e9maill\\u00e9e\",\"d\\u00e9placement\",\"polysaccharides\",\"niklas\",\"cervicales\",\"bailleul\",\"bailleur\",\"charges\",\"pr\\u00e9paration\",\"emm\\u00e9nagent\",\"shlomo\",\"dorsaux\",\"montcornet\",\"cercl\\u00e9es\",\"nikolai\",\"majestueux\",\"charnu\",\"diriez\",\"incombant\",\"charny\",\"concentr\\u00e9s\",\"amor\\u00e7a\",\"organisations\",\"refoule\",\"fluctuer\",\"vigeois\",\"servitude\",\"blond\",\"a\\u00e9ronef\",\"nikolas\",\"bustanico\",\"concentr\\u00e9e\",\"diversifiant\",\"situent\",\"essay\\u00e9\",\"conf\\u00e9r\\u00e9\",\"ali\\u00e9na\",\"astres\",\"blanzac\",\"self\",\"sela\",\"panoramique\",\"r\\u00e9viseur\",\"sebastiano\",\"ut\\u00e9rus\",\"conscription\",\"enivrer\",\"souks\",\"stoppeuse\",\"sels\",\"echelle\",\"un_million\",\"conduisit\",\"dangeau\",\"farfelu\",\"singles\",\"r\\u00e9cepteurs\",\"st\\u00e9ro\\u00efdes\",\"r\\u00e9fection\",\"virus\",\"\\u00e9pouvantails\",\"mende\",\"intr\\u00e9pidit\\u00e9\",\"organique\",\"innerve\",\"barret\",\"barrer\",\"barres\",\"seize\",\"b\\u00e2tonnets\",\"manquants\",\"s\\u00e9natorial\",\"propice\",\"fillettes\",\"barrel\",\"favela\",\"amusements\",\"bulletin\",\"huronne\",\"simplistes\",\"frisonne\",\"rh\\u00e9nanes\",\"tenthr\\u00e8de\",\"ugo\",\"pentagonal\",\"c\\u00e9nobites\",\"infortune\",\"\\u00e9manait\",\"tomb\\u00e9s\",\"proportionnels\",\"penseront\",\"bourbriac\",\"alli\\u00e9\",\"gouvernements\",\"communautaires\",\"naomi\",\"tomb\\u00e9e\",\"occupation\",\"onomatop\\u00e9es\",\"timbales\",\"surmoi\",\"\\u00e9cart\\u00e8lement\",\"cassette\",\"velleron\",\"fendre\",\"ferrailleur\",\"bouses\",\"fatiguant\",\"parait\",\"lettre\",\"lombard\",\"adult\\u00e8re\",\"moldave\",\"ingram\",\"craque\",\"millim\\u00e8tres\",\"changeait\",\"sunny\",\"battaient\",\"branch\\u00e9s\",\"m\\u00e9daill\\u00e9\",\"sunna\",\"h\\u00e9liogravure\",\"cresson\",\"vivri\\u00e8res\",\"funiculaire\",\"\\u00e9changent\",\"rafale\",\"poliomy\\u00e9lite\",\"\\u00e9thanol\",\"retenue\",\"eleftherios\",\"bytes\",\"goitre\",\"lison\",\"adapte\",\"caramel\",\"susanna\",\"adapta\",\"jonchery\",\"s\\u00e9curisant\",\"pontigny\",\"prospectus\",\"insane\",\"bibliographie\",\"num\\u00e9ro\",\"tailloir\",\"aquatique\",\"d\\u00e9cennal\",\"peintures\",\"cr\\u00e9atif\",\"amortissement\",\"puissent\",\"noize\",\"impliquera\",\"somnambule\",\"comptera\",\"pi\\u00e9geage\",\"allia\",\"activiste\",\"allie\",\"objecte\",\"recycl\\u00e9s\",\"per\\u00e7oivent\",\"richelieu\",\"h\\u00e9t\\u00e9rosexualit\\u00e9\",\"enclav\\u00e9e\",\"vendargues\",\"accompagnera\",\"recycl\\u00e9e\",\"kystique\",\"ailier\",\"hauteur\",\"m\\u00e9dium\",\"krystle\",\"mornant\",\"condyle\",\"pneumatiques\",\"pressants\",\"copeau\",\"lettr\\u00e9\",\"aci\\u00e9rie\",\"\\u00e9clipsant\",\"niamey\",\"irr\\u00e9alisable\",\"s\\u00e9n\\u00e9gal\",\"pressante\",\"m\\u00e9daille\",\"s\\u00e9diment\",\"retarder\",\"feeling\",\"montpeyroux\",\"opal\",\"konstantinos\",\"tremblay\",\"gueux\",\"rubriques\",\"profitant\",\"am\\u00e9lie\",\"connection\",\"algonquin\",\"am\\u00e9lia\",\"d\\u00e9tenait\",\"feriez\",\"perm\\u00e9able\",\"adapt\\u00e9\",\"olli\",\"repouss\\u00e9\",\"beli\",\"rebours\",\"refroidissant\",\"ashlyn\",\"olle\",\"p\\u00e9nalisant\",\"alcools\",\"belz\",\"argileux\",\"embauchent\",\"adaptation\",\"damoiseau\",\"atonalit\\u00e9\",\"acter\",\"actes\",\"pourchass\\u00e9e\",\"cotonni\\u00e8re\",\"fontvieille\",\"vervant\",\"d\\u00e9sargent\\u00e9\",\"\\u00e9chec\",\"n\\u00e9cessita\",\"tachet\\u00e9s\",\"satire\",\"cuisin\\u00e9\",\"n\\u00e9cessite\",\"marginale\",\"geoffrey\",\"photographique\",\"migrent\",\"initiation\",\"portait\",\"pendaisons\",\"indigents\",\"annotation\",\"r\\u00e9affirmer\",\"aiguillons\",\"aureille\",\"lingot\",\"d\\u00e9vouement\",\"sacr\\u00e9s\",\"cyclo\\u00efde\",\"alertent\",\"niles\",\"griffures\",\"pratiqu\\u00e9es\",\"gilets\",\"frite\",\"d\\u00e9solation\",\"androg\\u00e8nes\",\"r\\u00e9sistante\",\"fritz\",\"sacr\\u00e9e\",\"fray\\u00e8res\",\"lyrique\",\"r\\u00e9servant\",\"deux_trois\",\"alt\\u00e9rant\",\"frits\",\"d\\u00e9frich\\u00e9es\",\"\\u00e9rosion\",\"presses\",\"presser\",\"kumiko\",\"congr\\u00e9gations\",\"r\\u00e9v\\u00e9lateur\",\"budget\",\"approuvait\",\"admire\",\"dialectiques\",\"admira\",\"auneau\",\"surnaturelles\",\"ut\\u00e9rines\",\"cages\",\"onglets\",\"vol\",\"tourteron\",\"comp\\u00e9titivit\\u00e9\",\"mouche\",\"sitar\",\"dammarie\",\"simplifient\",\"enlace\",\"vos\",\"illusoire\",\"cr\\u00e9ateur\",\"prolongement\",\"cuisine\",\"n\\u00e9cessit\\u00e9\",\"aid\\u00e9s\",\"redange\",\"neurobiologie\",\"gaumont\",\"versatilit\\u00e9\",\"l\\u00e8vres\",\"castans\",\"\\u00e9chantillonnage\",\"aid\\u00e9e\",\"ivrognerie\",\"allophone\",\"ars\\u00e9niate\",\"tbilissi\",\"selma\",\"endommag\\u00e8rent\",\"gagn\\u00e8rent\",\"craintes\",\"discontinue\",\"sculpturales\",\"incertaine\",\"moches\",\"vasco\",\"existent\",\"unifiant\",\"annel\\u00e9es\",\"incertains\",\"interphone\",\"captal\",\"escarmouche\",\"corv\\u00e9e\",\"enveloppes\",\"contreviennent\",\"thais\",\"targon\",\"longpont\",\"dorique\",\"emb\\u00eatant\",\"admir\\u00e9\",\"s\\u00e9rine\",\"algorithmiques\",\"neutralis\\u00e9e\",\"r\\u00e9unie\",\"corrobore\",\"salve\",\"pesetas\",\"conseiller\",\"hercules\",\"r\\u00e9unis\",\"r\\u00e9unir\",\"conseillez\",\"chabeuil\",\"figurant\",\"mandat\",\"parente\",\"retenus\",\"moulinage\",\"tarification\",\"philharmonique\",\"gravant\",\"myopathies\",\"immigrer\",\"couverte\",\"retrouves\",\"rangers\",\"andorre\",\"d\\u00e9truites\",\"cat\\u00e9chistes\",\"couverts\",\"persistantes\",\"pierrelatte\",\"perdurer\",\"halog\\u00e9n\\u00e9\",\"cordon\",\"imb\\u00e9ciles\",\"cons\\u00e9quence\",\"couple\",\"pr\\u00e9valant\",\"coloniale\",\"jake\",\"luneray\",\"meurtriers\",\"balay\\u00e9\",\"explicit\\u00e9e\",\"rugueuses\",\"zubin\",\"rebute\",\"fistules\",\"ustensile\",\"soup\\u00e7onnait\",\"encerclant\",\"suffisaient\",\"chancre\",\"alexandru\",\"allumeur\",\"marquer\",\"marques\",\"stylistes\",\"vecteur\",\"explicit\\u00e9s\",\"conique\",\"alexandra\",\"imprudent\",\"technologie\",\"alexandre\",\"spins\",\"d\\u00e9barquent\",\"crescendo\",\"heurter\",\"imp\\u00e9tuosit\\u00e9\",\"mod\\u00e9lisant\",\"noviciat\",\"corrobor\\u00e9\",\"sorbet\",\"chenilles\",\"rinceaux\",\"mar\\u00e9chaux\",\"octavo\",\"recadr\\u00e9\",\"sympathisant\",\"reposent\",\"rin\\u00e7age\",\"proche\",\"goulet\",\"tunisienne\",\"potentats\",\"vavrinec\",\"hutte\",\"lices\",\"parent\\u00e9\",\"fournissaient\",\"\\u00e9trang\\u00e8res\",\"m\\u00e1rta\",\"canisy\",\"gnose\",\"coupl\\u00e9\",\"identifi\\u00e9e\",\"courroies\",\"fabriquaient\",\"obscures\",\"influenc\\u00e9s\",\"malabo\",\"pietro\",\"thaddeus\",\"diviseurs\",\"irr\\u00e9conciliables\",\"pansements\",\"dolomite\",\"janusz\",\"s\\u00e9par\\u00e9es\",\"mythomanie\",\"d\\u00e9mesur\\u00e9s\",\"identifi\\u00e9s\",\"croissent\",\"assier\",\"cobayes\",\"soulanges\",\"bl\\u00e2m\\u00e9\",\"d\\u00e9cro\\u00eetre\",\"abruti\",\"boisement\",\"d\\u00e9savantag\\u00e9s\",\"saccage\",\"quatrain\",\"influenc\\u00e9\",\"r\\u00e9gicide\",\"\\u00e9trusques\",\"barbuise\",\"acc\\u00e9l\\u00e9rom\\u00e8tres\",\"ph\\u00e9nols\",\"inspecte\",\"into\",\"ignor\\u00e9e\",\"climatologues\",\"conventionnels\",\"carcans\",\"terroriste\",\"s\\u00e9questre\",\"ignor\\u00e9s\",\"katie\",\"impressionnant\",\"coursier\",\"spam\",\"bion\",\"biol\",\"redoubler\",\"bios\",\"atterrissage\",\"consult\\u00e9es\",\"clayes\",\"biot\",\"justiciers\",\"fractionnaire\",\"pros\\u00e9lytisme\",\"chu\",\"couchent\",\"multipli\\u00e9s\",\"oblig\\u00e9\",\"bannit\",\"lapeyre\",\"coryph\\u00e9e\",\"motards\",\"barman\",\"multipli\\u00e9e\",\"r\\u00e9volue\",\"fusionne\",\"heinrich\",\"fusionna\",\"p\\u00e2que\",\"augustinien\",\"f\\u00e9conde\",\"erick\",\"erich\",\"entremise\",\"perfectionnements\",\"amiti\\u00e9s\",\"erica\",\"ling\\u00e8re\",\"d\\u00e9cidues\",\"cyanhydrique\",\"broch\\u00e9e\",\"f\\u00e9conds\",\"charmes\",\"charmer\",\"cor\\u00e9e\",\"col\\u00e9rique\",\"purges\",\"avouera\",\"a\\u00e9rodynamique\",\"inspect\\u00e9\",\"chad\",\"pr\\u00e9teur\",\"chah\",\"chai\",\"influence\",\"chao\",\"calques\",\"char\",\"chas\",\"breuil\",\"chat\",\"chau\",\"chaz\",\"exp\\u00e9rimental\",\"archivage\",\"rhume\",\"chiffrement\",\"virales\",\"franchissait\",\"tach\\u00e9e\",\"uranium\",\"interactivit\\u00e9\",\"conceptions\",\"lutt\\u00e8rent\",\"abr\\u00e9g\\u00e9e\",\"butyrique\",\"rhums\",\"vizirs\",\"cloaque\",\"coop\\u00e9ration\",\"maliennes\",\"revision\",\"surprenants\",\"duper\",\"d\\u00e9sabus\\u00e9\",\"unissait\",\"oblige\",\"reprochaient\",\"champagnac\",\"glaciales\",\"strangulation\",\"bianca\",\"circulations\",\"manipulant\",\"melchor\",\"ilene\",\"suppression\",\"fusionn\\u00e9\",\"bibliographies\",\"argumentent\",\"champagnat\",\"disposons\",\"archange\",\"maturit\\u00e9\",\"lane\",\"land\",\"liancourt\",\"crozon\",\"lana\",\"caillot\",\"lano\",\"galvanom\\u00e8tre\",\"geraldine\",\"ciborium\",\"lani\",\"f\\u00e9cond\\u00e9\",\"optimis\\u00e9es\",\"obtiendrait\",\"empiler\",\"lans\",\"graben\",\"verdes\",\"esp\\u00e9raient\",\"hypocondrie\",\"d\\u00e9noncent\",\"politis\\u00e9s\",\"agglom\\u00e9r\\u00e9e\",\"ulrika\",\"\\u00eates\",\"roseau\",\"gaz\\u00e9ification\",\"cong\\u00e8res\",\"glisseurs\",\"d\\u00e9plaisent\",\"sabbat\",\"totem\",\"cobalt\",\"agglom\\u00e9r\\u00e9s\",\"meurtri\\u00e8res\",\"supprimons\",\"regroupant\",\"conservative\",\"trompa\",\"plongeurs\",\"sarcelles\",\"inach\\u00e8vement\",\"\\u00e9chou\\u00e9\",\"d\\u00e9diant\",\"bilans\",\"oubli\\u00e9es\",\"contours\",\"condamnations\",\"mouvant\",\"rev\\u00eatements\",\"chanceli\\u00e8re\",\"millier\",\"bucilly\",\"fr\\u00e8res\",\"fanons\",\"tournus\",\"d\\u00e9clivit\\u00e9s\",\"coopt\\u00e9\",\"m\\u00e9dicalisation\",\"follicules\",\"discr\\u00e9dit\\u00e9e\",\"consuelo\",\"pr\\u00eacha\",\"recoup\\u00e9es\",\"redress\\u00e9e\",\"pr\\u00eache\",\"oublient\",\"freine\",\"triglyc\\u00e9rides\",\"bucoliques\",\"insomnies\",\"acad\\u00e9micien\",\"portante\",\"lombarde\",\"yakov\",\"alin\",\"montserrat\",\"poitrine\",\"\\u00e9tablissait\",\"yevgeny\",\"\\u00e9levait\",\"lombards\",\"d\\u00e9tours\",\"exprim\\u00e9es\",\"leonardo\",\"phoques\",\"kergrist\",\"dockers\",\"gendarmes\",\"dilu\\u00e9s\",\"agress\\u00e9e\",\"vides\",\"vider\",\"pioche\",\"abstraits\",\"distinctifs\",\"intercale\",\"donniez\",\"co\\u00efncident\",\"reynaldo\",\"embrigadement\",\"abstraite\",\"zircon\",\"cannibale\",\"victor\",\"sacramentaire\",\"diffusant\",\"oncologie\",\"bouff\\u00e9es\",\"ovulation\",\"albens\",\"aromates\",\"\\u00e9choue\",\"\\u00e9choua\",\"espagnols\",\"tragiques\",\"ambre\",\"lib\\u00e9rer\",\"coll\\u00e9gien\",\"diamants\",\"minimisation\",\"m\\u00e9ninges\",\"plac\\u00e9s\",\"tommi\",\"royalistes\",\"appartenant\",\"talant\",\"d\\u00e9potoir\",\"soupapes\",\"volants\",\"ryszard\",\"ibis\",\"maquisard\",\"plac\\u00e9e\",\"punissant\",\"introduites\",\"pr\\u00each\\u00e9\",\"droguerie\",\"frein\\u00e9\",\"gr\\u00e8ce\",\"closing\",\"kriss\",\"za\\u00efrois\",\"vexations\",\"melleray\",\"mythique\",\"subalterne\",\"n\\u00e9phrologie\",\"r\\u00e9colt\\u00e9\",\"clementine\",\"garnissage\",\"rive\",\"casemates\",\"riva\",\"herm\\u00e9neutique\",\"extinctions\",\"journaux\",\"adjudant\",\"sadisme\",\"l\\u00e9on\",\"r\\u00e9am\\u00e9nag\\u00e9es\",\"lan\\u00e7ait\",\"envol\\u00e9\",\"datent\",\"liturgie\",\"export\\u00e9e\",\"confidence\",\"savoyarde\",\"tendai\",\"accotements\",\"accusent\",\"incertain\",\"gregor\",\"estompe\",\"go\\u00fbt\\u00e9\",\"confiseries\",\"faudra\",\"d\\u00e9plaisant\",\"savoyards\",\"emeline\",\"humus\",\"villemur\",\"invasives\",\"vomi\",\"annihiler\",\"baba\",\"droites\",\"villon\",\"phosg\\u00e8ne\",\"luba\",\"infiltre\",\"wallabies\",\"mondialis\\u00e9\",\"r\\u00e9v\\u00e9r\\u00e9\",\"babs\",\"choc\",\"baby\",\"central\",\"abdominale\",\"r\\u00e9fectoires\",\"iain\",\"alexei\",\"rassembl\\u00e9\",\"torchon\",\"trouvent\",\"millim\\u00e9trique\",\"clients\",\"conviendrez\",\"procurent\",\"f\\u00e9rocit\\u00e9\",\"bord\\u00e9\",\"pontes\",\"pontet\",\"harve\",\"bottier\",\"cliente\",\"esquiver\",\"r\\u00e9formes\",\"mannitol\",\"autocontr\\u00f4le\",\"gabarits\",\"process\",\"loch\",\"loci\",\"aleksandr\",\"orf\\u00e8vre\",\"pronunciamiento\",\"honneur\",\"venez\",\"mentent\",\"d\\u00e9collation\",\"fan\\u00e9es\",\"envole\",\"propergol\",\"go\\u00fbte\",\"pa\\u00efens\",\"t\\u00e9pales\",\"procurer\",\"combi\",\"disparit\\u00e9\",\"altesse\",\"impl\\u00e9mentation\",\"r\\u00e9sidait\",\"communautarisme\",\"merlot\",\"paley\",\"hormones\",\"\\u00e9clairage\",\"palet\",\"christa\",\"intelligent\",\"plastique\",\"pales\",\"fonctionnalit\\u00e9s\",\"bacchantes\",\"infiltr\\u00e9\",\"effondr\\u00e9e\",\"m\\u00e9fiance\",\"mercredis\",\"nocivit\\u00e9\",\"effondr\\u00e9s\",\"gyn\\u00e9c\\u00e9e\",\"ensevelissement\",\"d\\u00e9rang\\u00e9s\",\"psychologique\",\"marcheuse\",\"feurs\",\"totalit\\u00e9\",\"travers\\u00e9s\",\"essayage\",\"bords\",\"robot\",\"rassemble\",\"meulan\",\"emm\\u00e9nagement\",\"logeait\",\"borde\",\"travers\\u00e9e\",\"lotie\",\"escalier\",\"agnosticisme\",\"directe\",\"\\u00e9puise\",\"odontologie\",\"volts\",\"plats\",\"s\\u00e9pales\",\"grimaces\",\"corrigera\",\"envo\\u00fbtante\",\"luzenac\",\"directs\",\"volta\",\"pr\\u00e9fectorale\",\"volte\",\"convertisseur\",\"biard\",\"compatissant\",\"repr\\u00e9senteraient\",\"captages\",\"perplexe\",\"manivelles\",\"fixent\",\"t\\u00e9tragonal\",\"varier\",\"sanzay\",\"isra\\u00e9liens\",\"com\\u00e8tes\",\"destinant\",\"forest\",\"montsoult\",\"ch\\u00e8res\",\"prosper\",\"miremont\",\"conserverie\",\"acrobatique\",\"souvint\",\"trouve\",\"jeumont\",\"trouva\",\"ionosph\\u00e8re\",\"impr\\u00e9cises\",\"failles\",\"\\u00e9l\\u00e8vera\",\"vestiaire\",\"jaguar\",\"turriers\",\"morio\",\"aurige\",\"gobelins\",\"importante\",\"m\\u00e9tayer\",\"appliquent\",\"damian\",\"relay\\u00e9\",\"coul\\u00e9\",\"chaussette\",\"historiographes\",\"fleurie\",\"ennemis\",\"exportatrice\",\"br\\u00fblis\",\"denzel\",\"grigor\",\"importants\",\"pourvoyeurs\",\"ennemie\",\"buccaux\",\"abricots\",\"pr\\u00e9cipitation\",\"saux\",\"faciales\",\"montmagny\",\"m\\u00e9tallis\\u00e9e\",\"otage\",\"densification\",\"endeuill\\u00e9\",\"polychrome\",\"pr\\u00e9tend\",\"maghr\\u00e9bines\",\"alejandro\",\"books\",\"\\u00e9lisab\\u00e9thain\",\"ariettes\",\"secouent\",\"perroy\",\"spirituels\",\"shannon\",\"alejandra\",\"envoient\",\"discale\",\"ploudaniel\",\"hum\\u00e9rus\",\"omnipotent\",\"limousines\",\"boutique\",\"rafles\",\"mitrailleuse\",\"diff\\u00e9rant\",\"buzancy\",\"erfurt\",\"chr\\u00e9tienne\",\"t\\u00e9l\\u00e9command\\u00e9s\",\"foulons\",\"fragment\\u00e9s\",\"kowe\\u00eft\",\"chambr\\u00e9\",\"d\\u00e9buter\",\"d\\u00e9vale\",\"lundis\",\"durban\",\"trouv\\u00e9\",\"avers\",\"d\\u00e9boires\",\"typologique\",\"pliante\",\"provoqueront\",\"coproduit\",\"kalle\",\"limours\",\"\\u00e9cologiques\",\"blanchet\",\"ind\\u00e9pendances\",\"trets\",\"r\\u00e9gates\",\"cate\",\"\\u00e9tonnerait\",\"p\\u00e9renne\",\"fleurac\",\"blasonnements\",\"gallons\",\"relaye\",\"coule\",\"loisir\",\"coula\",\"chilly\",\"ratification\",\"dominick\",\"stalinienne\",\"faufile\",\"phobos\",\"vasculaires\",\"lointaine\",\"matthias\",\"solitaires\",\"lointains\",\"rosi\\u00e8re\",\"juriste\",\"khans\",\"affliction\",\"chasseur\",\"croupion\",\"offriront\",\"assimil\\u00e9es\",\"n\\u00e9croses\",\"op\\u00e9rer\",\"peyrestortes\",\"approuv\\u00e9\",\"ivoiriens\",\"festival\",\"humiliant\",\"c\\u00e9ment\",\"lumes\",\"r\\u00e9currente\",\"opossum\",\"apercevant\",\"lumen\",\"zaria\",\"masqu\\u00e9s\",\"structural\",\"r\\u00e9currents\",\"m\\u00e8ches\",\"consternation\",\"ares\",\"\\u00e9pilogue\",\"lubrique\",\"pantographes\",\"suscitaient\",\"harpons\",\"joaillier\",\"g\\u00e9ologiques\",\"larghetto\",\"joueraient\",\"farid\",\"tramage\",\"augustinisme\",\"hell\\u00e9nistiques\",\"emprisonn\\u00e9s\",\"roulette\",\"torr\\u00e9faction\",\"r\\u00e9cursif\",\"commandant\",\"tournure\",\"asturien\",\"annamites\",\"emprisonn\\u00e9e\",\"d\\u00e9tracteur\",\"suppl\\u00e9ant\",\"intenable\",\"gays\",\"autorisa\",\"gentils\",\"surpeuplement\",\"autorise\",\"ja\\u00efna\",\"catholiques\",\"honneurs\",\"\\u00e9touffant\",\"erika\",\"exploratrice\",\"loulou\",\"imparipenn\\u00e9es\",\"f\\u00e9rus\",\"ramla\",\"menstruations\",\"mitraille\",\"autobiographique\",\"cecil\",\"domestication\",\"infirmiers\",\"ha\\u00efs\",\"agiter\",\"amplifi\\u00e9s\",\"approuve\",\"avertissement\",\"approuva\",\"motoristes\",\"entretenant\",\"aguerries\",\"touareg\",\"d\\u00e9form\\u00e9es\",\"volontariat\",\"dess\\u00e8che\",\"tiendra\",\"amplifi\\u00e9e\",\"balis\\u00e9e\",\"manou\",\"cam\\u00e9lias\",\"b\\u00e9tonn\\u00e9s\",\"romains\",\"ressemblent\",\"cri\\u00e9e\",\"redorer\",\"balis\\u00e9s\",\"romaine\",\"manon\",\"tor\\u00e9ador\",\"b\\u00e9tonn\\u00e9e\",\"intracellulaire\",\"bren\",\"\\u00e9cris\",\"\\u00e9crit\",\"ubac\",\"a\\u00e9roport\\u00e9s\",\"bref\",\"bree\",\"protestait\",\"chloroforme\",\"\\u00e9cria\",\"autoris\\u00e9\",\"maroufl\\u00e9\",\"\\u00e9crie\",\"auros\",\"sombrero\",\"sudistes\",\"bamako\",\"phras\\u00e9ologie\",\"bret\",\"a\\u00e9roport\\u00e9e\",\"\\u00e9meute\",\"reinette\",\"chor\\u00e9e\",\"situant\",\"micron\",\"chargements\",\"puisant\",\"scotty\",\"r\\u00e9p\\u00e9t\\u00e9es\",\"maquilleur\",\"flamboyants\",\"bourdons\",\"d\\u00e9tecte\",\"sonnera\",\"encombrements\",\"m\\u00e9tallo\\u00efdes\",\"agrandi\",\"jax\",\"jay\",\"tisseur\",\"jar\",\"certifi\\u00e9s\",\"st\\u00e9r\\u00e9oscopiques\",\"jan\",\"abyssinie\",\"keisha\",\"tape\",\"destin\\u00e9\",\"jai\",\"postface\",\"lotir\",\"certifi\\u00e9e\",\"carouge\",\"aggravant\",\"montrez\",\"comm\\u00e9more\",\"ren\\u00e9e\",\"saboter\",\"montrer\",\"montres\",\"d\\u00e9duction\",\"changeur\",\"apports\",\"molasses\",\"mondanit\\u00e9s\",\"ananda\",\"apporte\",\"kart\",\"sinus\",\"apporta\",\"mandingue\",\"abby\",\"d\\u00e9raper\",\"fa\\u00e7ons\",\"aquarelliste\",\"looping\",\"rapper\",\"rationnement\",\"taxes\",\"taxer\",\"lurette\",\"isra\\u00e9lite\",\"rappel\",\"planch\\u00e9i\\u00e9\",\"permirent\",\"osseuse\",\"ohio\",\"lapleau\",\"caravans\\u00e9rails\",\"reykjavik\",\"tiernan\",\"allusion\",\"prises\",\"priser\",\"pionniers\",\"r\\u00e9calcitrants\",\"d\\u00e9mocratiser\",\"recourb\\u00e9es\",\"alessandro\",\"th\\u00e9\\u00e2tral\",\"d\\u00e9tect\\u00e9\",\"shonda\",\"alessandra\",\"gnosticisme\",\"vaujours\",\"scind\\u00e9e\",\"iguane\",\"destiny\",\"scientisme\",\"sophistiqu\\u00e9es\",\"\\u00e9sot\\u00e9riques\",\"conseill\\u00e9e\",\"parque\",\"subis\",\"destins\",\"imagier\",\"chant\\u00e9s\",\"\\u00e9pizooties\",\"gaspiller\",\"membrane\",\"tap\\u00e9\",\"destine\",\"fumeuses\",\"conseill\\u00e9s\",\"tentez\",\"ancr\\u00e9es\",\"soumettre\",\"amazonienne\",\"vanter\",\"onces\",\"tenter\",\"tentes\",\"immigr\\u00e9s\",\"communistes\",\"abb\\u00e9\",\"th\\u00e9rapeute\",\"apport\\u00e9\",\"rosi\\u00e8res\",\"agreste\",\"anastacia\",\"nonza\",\"immigr\\u00e9e\",\"marty\",\"thecla\",\"neigeuse\",\"arrivera\",\"challengers\",\"gesvres\",\"pousseront\",\"r\\u00e9volt\\u00e8rent\",\"schismatique\",\"bristol\",\"marta\",\"apostrophe\",\"ch\\u00eanes\",\"rempla\\u00e7ant\",\"boyer\",\"mitrailler\",\"indice\",\"gonfl\\u00e9e\",\"orso\",\"lenteurs\",\"descente\",\"m\\u00e9lan\\u00e9sienne\",\"meunier\",\"v\\u00e9randa\",\"lutins\",\"sperme\",\"torsion\",\"diaporamas\",\"occasionnels\",\"rassembl\\u00e9es\",\"inconditionnels\",\"acharne\",\"pointeur\",\"heurt\\u00e9e\",\"penn\\u00e9es\",\"gibier\",\"herm\\u00e9tisme\",\"ill\\u00e9gales\",\">\",\"devi\",\"marcellus\",\"retranchant\",\"exarchat\",\"commuter\",\"sayyid\",\"\\u00e9radication\",\"arrachant\",\"attir\\u00e9es\",\"identit\\u00e9\",\"g\\u00e9min\\u00e9e\",\"raccrocher\",\"l\\u00e9gations\",\"lumineux\",\"religieuses\",\"s\\u00e9cession\",\"railler\",\"semestre\",\"sortable\",\"surfeuse\",\"examinateurs\",\"machinations\",\"grecs\",\"mitraill\\u00e9\",\"d\\u00e9cal\\u00e9es\",\"weber\",\"aussois\",\"fauche\",\"honorifique\",\"rallient\",\"d\\u00e9pass\\u00e9\",\"d\\u00e9nie\",\"mirabilis\",\"na\\u00efma\",\"consolid\\u00e9es\",\"irrationalit\\u00e9\",\"nero\",\"assi\\u00e9g\\u00e9s\",\"terminait\",\"relieurs\",\"chaleureuse\",\"ragots\",\"offrirait\",\"doublures\",\"turbor\\u00e9acteur\",\"loupiac\",\"clamart\",\"imag\\u00e9e\",\"saturnino\",\"vaniteux\",\"acharn\\u00e9\",\"informant\",\"espinouse\",\"altkirch\",\"endomorphismes\",\"bagnard\",\"paulo\",\"bugarach\",\"exhibant\",\"d\\u00e9lire\",\"pauli\",\"landas\",\"associativit\\u00e9\",\"paule\",\"enveloppent\",\"pires\",\"compl\\u00e9tant\",\"paula\",\"fusionnant\",\"jongle\",\"lobbyistes\",\"adonna\",\"rebeca\",\"r\\u00e9gissent\",\"st\\u00e9r\\u00e9ophonie\",\"actionnent\",\"nectaire\",\"jugeant\",\"internaute\",\"cr\\u00e9pusculaires\",\"landau\",\"colts\",\"audit\",\"tch\\u00e8ques\",\"peyrolles\",\"off\",\"animant\",\"nippons\",\"chartres\",\"manag\\u00e9riale\",\"pointure\",\"d\\u00e9passe\",\"polignac\",\"automne\",\"attractifs\",\"d\\u00e9passa\",\"tirez\",\"audio\",\"armillaire\",\"nippone\",\"supr\\u00e9matie\",\"californienne\",\"jou\\u00e9s\",\"messidor\",\"roturiers\",\"artificiers\",\"grenache\",\"participerait\",\"tourbillons\",\"assument\",\"jou\\u00e9e\",\"shiloh\",\"pontons\",\"sauvegard\\u00e9\",\"souper\",\"soupes\",\"montaigut\",\"fran\\u00e7aises\",\"web\",\"significatives\",\"sigale\",\"wei\",\"phylog\\u00e9n\\u00e9tique\",\"cat\\u00e9goris\\u00e9\",\"honn\\u00eatet\\u00e9\",\"pochoir\",\"crack\",\"dainville\",\"parfums\",\"my\\u00e9lome\",\"chalons\",\"phineas\",\"blonds\",\"pied\",\"m\\u00e9lodrame\",\"mangoustes\",\"crue\",\"carbonif\\u00e8re\",\"distribuant\",\"cruz\",\"zimbabwe\",\"capitulation\",\"stagnante\",\"piet\",\"crus\",\"dures\",\"durer\",\"biologiste\",\"bidasses\",\"mendicit\\u00e9\",\"jouarre\",\"emma\",\"ombilicale\",\"impromptus\",\"bicorne\",\"inhabit\\u00e9es\",\"enrochement\",\"th\\u00e9odore\",\"alencon\",\"beylical\",\"michaela\",\"vicinal\",\"r\\u00e9ducteurs\",\"agnostiques\",\"emmy\",\"panique\",\"physionomie\",\"zoologie\",\"dicter\",\"lajoux\",\"fouilloy\",\"n\\u00e9gliger\",\"m\\u00e9tros\",\"plumelec\",\"dahomey\",\"britannique\",\"mozambique\",\"clientes\",\"flush\",\"tanith\",\"d\\u00e9mobilis\\u00e9s\",\"sauvegarde\",\"survient\",\"fantasmagorique\",\"shakira\",\"vendues\",\"cl\\u00f4tur\\u00e9e\",\"cat\\u00e9gorise\",\"autonomistes\",\"compensent\",\"envahissantes\",\"parfum\\u00e9\",\"collodion\",\"d\\u00e9tection\",\"contester\",\"hebdomadaires\",\"copulation\",\"keighley\",\"motiv\\u00e9es\",\"inconciliables\",\"ornemental\",\"\\u00e9valuations\",\"\\u00e9tonn\\u00e9s\",\"mante\",\"born\\u00e9es\",\"excentriques\",\"normalis\\u00e9\",\"confisquant\",\"installateur\",\"usag\\u00e9s\",\"essert\",\"surfer\",\"ha\\u00eftiens\",\"pressure\",\"ensemblier\",\"n\\u00e9glig\\u00e9es\",\"fanions\",\"autonomes\",\"parlez\",\"moquent\",\"inexploitable\",\"tropicales\",\"\\u00e9pagneul\",\"avalanches\",\"iwan\",\"cherchera\",\"v\\u00e9nerie\",\"inculper\",\"devanci\\u00e8re\",\"prudents\",\"cherch\\u00e8rent\",\"paniqu\\u00e9\",\"pr\\u00e9textes\",\"abaissement\",\"traumatis\\u00e9e\",\"prudente\",\"dissections\",\"exp\\u00e9diteurs\",\"restreints\",\"fix\\u00e9s\",\"artefact\",\"stator\",\"bolides\",\"subside\",\"tra\\u00eene\",\"stratification\",\"gastronome\",\"harmonis\\u00e9e\",\"mosqu\\u00e9e\",\"bouger\",\"camden\",\"fix\\u00e9e\",\"dixie\",\"hennuyer\",\"communicants\",\"scoutisme\",\"structurelles\",\"d\\u00e9cr\\u00e9tant\",\"bienvenue\",\"diluer\",\"beaupr\\u00e9\",\"r\\u00e9appara\\u00eet\",\"inaccessibilit\\u00e9\",\"it\\u00e9rations\",\"\\u00e9mergeant\",\"psychiatres\",\"bienvenus\",\"brownien\",\"prestation\",\"boites\",\"pleura\",\"s\\u00e9ch\\u00e9\",\"casqu\\u00e9\",\"tribaux\",\"tarare\",\"intuitif\",\"arr\\u00eata\",\"cultivables\",\"arr\\u00eate\",\"imminente\",\"enlevant\",\"aimeras\",\"catholique\",\"m\\u00e9tallif\\u00e8res\",\"occasionnelle\",\"intro\\u00eft\",\"arr\\u00eats\",\"promulgue\",\"d\\u00e9roul\\u00e9es\",\"r\\u00e9gionale\",\"fragmentation\",\"harmonis\\u00e9s\",\"\\u00e9voluaient\",\"manifestent\",\"places\",\"placer\",\"carbuccia\",\"placez\",\"\\u00e9lectrom\\u00e9nager\",\"palissades\",\"m\\u00e9trages\",\"proserpine\",\"autorisaient\",\"tonales\",\"marnay\",\"d\\u00e9l\\u00e9gu\\u00e9s\",\"accusait\",\"imp\\u00e9rialiste\",\"tra\\u00een\\u00e9\",\"batteuse\",\"\\u00e9pous\\u00e9e\",\"signifiant\",\"d\\u00e9l\\u00e9gu\\u00e9e\",\"impressionnent\",\"d\\u00e9sillusions\",\"diss\\u00e9min\\u00e9es\",\"chercheuse\",\"tra\\u00eeneaux\",\"buvard\",\"pr\\u00e9server\",\"rebelles\",\"rebeller\",\"dentel\\u00e9\",\"fallavier\",\"pupilles\",\"comparer\",\"mangeur\",\"impropres\",\"acidification\",\"illusion\",\"prog\\u00e9niture\",\"arr\\u00eat\\u00e9\",\"parentaux\",\"virgilio\",\"zhou\",\"mourrait\",\"jerold\",\"p\\u00e9lagianisme\",\"casque\",\"plaisanteries\",\"th\\u00e9ocratie\",\"d\\u00e9sirons\",\"d\\u00e9terminant\",\"inversant\",\"punies\",\"fournissez\",\"superproduction\",\"mus\\u00e9um\",\"conservons\",\"collantes\",\"enfle\",\"coch\\u00e9e\",\"trompeurs\",\"corymbe\",\"tungst\\u00e8ne\",\"co\\u00efncidait\",\"egalement\",\"transmettant\",\"syllabe\",\"gardent\",\"enjoignant\",\"frappant\",\"trouvait\",\"extrapol\\u00e9\",\"imp\\u00e9rissable\",\"d\\u00e9cr\\u00e9dibiliser\",\"coordinations\",\"calage\",\"m\\u00e9canis\\u00e9s\",\"domestiquer\",\"audeux\",\"optionnelles\",\"choisissant\",\"adjudants\",\"pr\\u00e9senteront\",\"cristallerie\",\"rediriger\",\"troqu\\u00e9\",\"porno\",\"d\\u00e9faillante\",\"infestations\",\"l\\u00e9ger\",\"syntaxe\",\"antienne\",\"quartzite\",\"dominicales\",\"capucin\",\"d\\u00e9\\u00e7ue\",\"aurora\",\"aurore\",\"impr\\u00e9sario\",\"d\\u00e9\\u00e7us\",\"rosalba\",\"salernes\",\"palliatifs\",\"c\\u00e9leri\",\"smog\",\"m\\u00e9dicale\",\"pr\\u00e9gnant\",\"imprimante\",\"poche\",\"ecz\\u00e9ma\",\"progression\",\"mauvais\",\"d\\u00e9plorent\",\"lillie\",\"r\\u00e9vis\\u00e9\",\"samurai\",\"eustace\",\"interculturelles\",\"cutan\\u00e9es\",\"faisaient\",\"monologue\",\"barles\",\"balayage\",\"jaloux\",\"qu\\u00e9becois\",\"d\\u00e9signant\",\"voudra\",\"c\\u00e9tone\",\"socioculturels\",\"favoris\\u00e8rent\",\"roues\",\"rouet\",\"extrapole\",\"inscrivit\",\"zander\",\"totems\",\"\\u00e9quitables\",\"rouen\",\"d\\u00e9blocage\",\"content\\u00e8rent\",\"sept_millions\",\"agrandit\",\"gazon\",\"panda\",\"machines\",\"paulette\",\"bool\\u00e9ennes\",\"granulation\",\"communaut\\u00e9\",\"succ\\u00e9d\\u00e8rent\",\"propices\",\"petru\",\"indescriptible\",\"flamanville\",\"musaraignes\",\"salariales\",\"f\\u00e9odaux\",\"petri\",\"unanimit\\u00e9\",\"folique\",\"petre\",\"tam\\u00e1s\",\"petra\",\"salutaire\",\"bredouille\",\"narcotiques\",\"apoplexie\",\"reconnaissent\",\"animiste\",\"\\u00e9mules\",\"protection\",\"chilhac\",\"giroux\",\"brandebourg\",\"khara\",\"r\\u00e9vise\",\"audra\",\"s\\u00e9miotique\",\"indiques\",\"indiquer\",\"r\\u00e9frig\\u00e9r\\u00e9s\",\"constatera\",\"quinze_mille\",\"indiquez\",\"elian\",\"d\\u00e9grad\\u00e9es\",\"palmettes\",\"hypertrophie\",\"germanique\",\"m\\u00e9diateur\",\"audry\",\"r\\u00e9frig\\u00e9r\\u00e9e\",\"d\\u00e9g\\u00e2t\",\"m\\u00e9diane\",\"\\u00e9loquente\",\"illustr\\u00e9es\",\"bry\",\"bru\",\"arborescence\",\"aboyer\",\"incorpora\",\"miniaturis\\u00e9s\",\"talonne\",\"incorpore\",\"exigu\",\"r\\u00e9futable\",\"d\\u00e9l\\u00e9guant\",\"tavel\",\"absolution\",\"sarah\",\"plot\",\"transformant\",\"d\\u00e9croissent\",\"patchwork\",\"saran\",\"maubourguet\",\"exacte\",\"coins\",\"championnats\",\"monarchisme\",\"topher\",\"binomiale\",\"exacts\",\"surya\",\"l\\u00e9niniste\",\"redevenir\",\"affleurent\",\"pr\\u00e9cit\\u00e9es\",\"interstellaires\",\"mathew\",\"deltaplane\",\"eguisheim\",\"immunologique\",\"\\u00e9lectrostatique\",\"jadwiga\",\"pr\\u00e9ventifs\",\"plougasnou\",\"interglaciaires\",\"gla\\u00e7ure\",\"allier\",\"olfactif\",\"erp\",\"entresol\",\"err\",\"ers\",\"empresse\",\"criques\",\"empressa\",\"traumatiques\",\"criquet\",\"divorcer\",\"divorces\",\"r\\u00e9alis\\u00e8rent\",\"erg\",\"finitions\",\"era\",\"mages\",\"climatisation\",\"solives\",\"gloria\",\"distingu\\u00e9es\",\"bisannuel\",\"libanaise\",\"la\\u00efque\",\"totales\",\"repos\",\"jama\\u00efcaine\",\"ramasseurs\",\"impair\",\"vicdessos\",\"conforter\",\"cocagne\",\"eurasiatique\",\"ravissante\",\"incorpor\\u00e9\",\"arri\\u00e9r\\u00e9s\",\"rami\",\"autocars\",\"skyler\",\"carriers\",\"balleroy\",\"frites\",\"soucoupe\",\"gratos\",\"prodigu\\u00e9s\",\"herbault\",\"indubitable\",\"initiateurs\",\"m\\u00e9di\\u00e9vale\",\"merritt\",\"matias\",\"op\\u00e9r\\u00e9s\",\"arcs\",\"reforment\",\"consistera\",\"cliques\",\"op\\u00e9r\\u00e9e\",\"igname\",\"vaugneray\",\"valid\\u00e9s\",\"strat\\u00e9gique\",\"parry\",\"zibeline\",\"gloses\",\"ironique\",\"vilayet\",\"agr\\u00e8ge\",\"trouvant\",\"empress\\u00e9\",\"padre\",\"ambr\\u00e9e\",\"v\\u00e9rins\",\"\\u00e9quinoxes\",\"dermatologue\",\"gladiateur\",\"hu\\u00eetres\",\"trimestrielles\",\"\\u00e9questres\",\"oul\\u00e9mas\",\"\\u00e9rigea\",\"nouzonville\",\"rocades\",\"sibylla\",\"fontette\",\"sibylle\",\"castillon\",\"\\u00e9curie\",\"kantisme\",\"\\u00e9riger\",\"occidentaux\",\"d\\u00e9r\\u00e9glementation\",\"enfants\",\"graulhet\",\"islamabad\",\"mouchamps\",\"\\u00e9vacuant\",\"influen\\u00e7ant\",\"mausol\\u00e9e\",\"agressives\",\"d\\u00e9nud\\u00e9es\",\"christie\",\"inscrivaient\",\"n\\u00e9v\\u00e9\",\"cong\\u00e9lateur\",\"production\",\"respirations\",\"poitrail\",\"dilue\",\"coloriage\",\"haschich\",\"d\\u00e9clar\\u00e9\",\"a\\u00efeule\",\"consonantique\",\"extase\",\"tuerie\",\"v\\u00e9n\\u00e9ration\",\"r\\u00e9f\\u00e9rant\",\"fix\\u00e9\",\"inscrivez\",\"vulcanisation\",\"microscopes\",\"ouville\",\"anion\",\"loraine\",\"dingo\",\"cosign\\u00e9\",\"\\u00e9lites\",\"routines\",\"dinge\",\"convenues\",\"formalisation\",\"obligataires\",\"lom\\u00e9\",\"antipode\",\"chantemerle\",\"associative\",\"laplume\",\"domiciles\",\"enfant\\u00e9\",\"ab\\u00e9c\\u00e9daire\",\"maillage\",\"dumping\",\"masseuse\",\"vitamines\",\"kiril\",\"riverain\",\"us\\u00e9es\",\"carbure\",\"juridictionnelle\",\"financi\\u00e8res\",\"hagiographique\",\"abordage\",\"absorbait\",\"vomissement\",\"cartographe\",\"s\\u00e9pulture\",\"thrombus\",\"chrissie\",\"francon\",\"issac\",\"recomposer\",\"bavardages\",\"sacy\",\"erevan\",\"trafic\",\"palatin\",\"daniel\",\"pi\\u00e9droits\",\"taurin\",\"ironise\",\"latiniste\",\"judith\",\"survivant\",\"francophonie\",\"incompatibles\",\"consenti\",\"b\\u00e9n\\u00e9ficiaire\",\"certifier\",\"d\\u00e9clare\",\"d\\u00e9clara\",\"enlevez\",\"exc\\u00e8s\",\"disputer\",\"disputes\",\"galoche\",\"amadeus\",\"ma\\u00eetrisent\",\"enlever\",\"rotatoire\",\"fixe\",\"ballades\",\"fixa\",\"ran\\u00e7on\",\"fevrier\",\"propositionnel\",\"n\\u00e9crologiques\",\"raisin\",\"labarde\",\"all\\u00e8rent\",\"\\u00e9touff\\u00e9s\",\"saragosse\",\"concern\\u00e9\",\"graduations\",\"professoral\",\"refuges\",\"messac\",\"hypog\\u00e9es\",\"gaspill\\u00e9\",\"content\\u00e9\",\"ensorcel\\u00e9\",\"champs\",\"truff\\u00e9\",\"stockages\",\"admiraient\",\"r\\u00e9organis\\u00e9\",\"rendez\",\"immolation\",\"adorait\",\"arthrose\",\"doline\",\"r\\u00e9organiser\",\"lusse\",\"timothy\",\"d\\u00e9g\\u00e9n\\u00e9r\\u00e9s\",\"doge\",\"intervenait\",\"c\\u00e9l\\u00e9brit\\u00e9s\",\"terminales\",\"ramatuelle\",\"john\",\"historiographe\",\"dogs\",\"d\\u00e9g\\u00e9n\\u00e9r\\u00e9e\",\"g\\u00e9raniums\",\"fruitiers\",\"friand\",\"corpuscules\",\"drancy\",\"empli\",\"alonso\",\"fi\\u00e8vre\",\"anachronisme\",\"baillou\",\"redessin\\u00e9es\",\"grav\\u00e9\",\"scorpions\",\"p\\u00e9diatrie\",\"ferveur\",\"antagonismes\",\"haubourdin\",\"cantatrices\",\"chantez\",\"pr\\u00e9vint\",\"continuateurs\",\"interarm\\u00e9es\",\"apporteurs\",\"blanquette\",\"manquantes\",\"effectuer\",\"bartolomeo\",\"italianis\\u00e9\",\"jepson\",\"albestroff\",\"milligrammes\",\"chamelle\",\"respectueux\",\"encadraient\",\"combustibles\",\"tourrettes\",\"r\\u00e9organise\",\"r\\u00e9glant\",\"abaiss\\u00e9es\",\"versements\",\"r\\u00e9organisa\",\"r\\u00e9alis\\u00e9e\",\"concernerait\",\"contente\",\"portraits\",\"contenta\",\"traquenard\",\"boeuf\",\"sophora\",\"r\\u00e9alis\\u00e9s\",\"d\\u00e9nu\\u00e9es\",\"adul\\u00e9e\",\"d\\u00e9fausser\",\"bretenoux\",\"outrepass\\u00e9\",\"souplesse\",\"tirelire\",\"filtr\\u00e9e\",\"l\\u00e2chez\",\"souffrant\",\"tarifaire\",\"proposaient\",\"flambant\",\"inventait\",\"filtr\\u00e9s\",\"d\\u00e9vastateurs\",\"devrions\",\"germano\",\"garnitures\",\"bruch\",\"loyale\",\"bruce\",\"\\u00e9tai\",\"hammond\",\"\\u00e9tal\",\"\\u00e9pisodiques\",\"crudit\\u00e9\",\"gravi\",\"\\u00e9tat\",\"\\u00e9tau\",\"passeur\",\"scripts\",\"ond\\u00e9es\",\"grava\",\"briquet\",\"briques\",\"grave\",\"attraits\",\"alcatel\",\"bizarreries\",\"compr\\u00e9hension\",\"calanque\",\"courlis\",\"raies\",\"vernissage\",\"hesdin\",\"retraitement\",\"intransigeante\",\"submerg\\u00e9es\",\"cr\\u00e9ons\",\"h\\u00e9berge\",\"d\\u00e9frich\\u00e9e\",\"lewis\",\"utiliseraient\",\"marocaines\",\"bicolore\",\"donzenac\",\"r\\u00e9cup\\u00e9ra\",\"crev\\u00e9\",\"gigolo\",\"lewin\",\"d\\u00e9battus\",\"accordaient\",\"escamotables\",\"fauvisme\",\"pneumatique\",\"emm\\u00e8nent\",\"ovaires\",\"\\u00e9viterai\",\"tricher\",\"poignard\\u00e9\",\"uniques\",\"soumet\",\"matricielles\",\"cr\\u00e9ation\",\"bouleversa\",\"mascottes\",\"meutes\",\"amortissements\",\"h\\u00e2tif\",\"lassy\",\"finage\",\"rectangle\",\"pannes\",\"cliv\\u00e9\",\"exil\\u00e9es\",\"maltaise\",\"s\\u00e9lestat\",\"m\\u00e9connus\",\"nordiques\",\"venaient\",\"collante\",\"d\\u00e9vastant\",\"m\\u00e9connue\",\"indemnis\\u00e9\",\"fawzi\",\"chanel\",\"malgr\\u00e9\",\"patriarches\",\"trios\",\"d\\u00e9l\\u00e9gua\",\"boulangerie\",\"louveteaux\",\"emi\",\"djibouti\",\"mod\\u00e8re\",\"fianc\\u00e9es\",\"d\\u00e9livrait\",\"rune\",\"cantonniers\",\"d\\u00e9veloppeur\",\"conventuels\",\"tromp\\u00e9s\",\"r\\u00e9chauffe\",\"multinational\",\"distants\",\"druides\",\"co\\u00fbtaient\",\"coiffeur\",\"h\\u00e9berg\\u00e9\",\"bureaucratisation\",\"valavoire\",\"dur\\u00e8rent\",\"plumage\",\"messimy\",\"distante\",\"visites\",\"discussions\",\"brasserie\",\"freneuse\",\"j\\u00e9rusalem\",\"optimum\",\"bellon\",\"impur\",\"techniques\",\"\\u00e9vaporer\",\"pastel\",\"babak\",\"finisseur\",\"wingles\",\"shakti\",\"f\\u00e9lix\",\"erez\",\"ambigu\\u00eft\\u00e9s\",\"d\\u00fcsseldorf\",\"poignarde\",\"f\\u00e9lin\",\"arcane\",\"d\\u00e9conner\",\"continu\\u00e9e\",\"poignards\",\"introduira\",\"raffineries\",\"eren\",\"introduire\",\"arr\\u00eat\\u00e9es\",\"virgule\",\"oppresseur\",\"contest\\u00e9s\",\"petronella\",\"d\\u00e9ch\\u00e9ance\",\"s\\u00e9journe\",\"r\\u00e9pertoire\",\"intrus\",\"kerm\\u00e8s\",\"huang\",\"flashes\",\"reproductrices\",\"hivernal\",\"papille\",\"potache\",\"directif\",\"rapporteur\",\"marignane\",\"gourdin\",\"muhammed\",\"temp\\u00e9rance\",\"graphique\",\"parisien\",\"domesticit\\u00e9\",\"climats\",\"verseau\",\"arrosent\",\"calvaires\",\"rel\\u00e2ch\\u00e9e\",\"manuscrits\",\"banaliser\",\"z\\u00e8bre\",\"toni\",\"rocheuse\",\"bressane\",\"codon\",\"mutations\",\"insubordination\",\"tons\",\"dompteurs\",\"tony\",\"stipul\\u00e9\",\"patronymes\",\"priscilla\",\"gratitude\",\"vend\\u00e9e\",\"s\\u00e9nateurs\",\"nettoyeurs\",\"secr\\u00e8te\",\"jardinier\",\"convenant\",\"vendeurs\",\"repeupl\\u00e9\",\"hagen\",\"noel\",\"fluctuation\",\"josse\",\"thyro\\u00efdiennes\",\"donatella\",\"abuja\",\"salettes\",\"controvers\\u00e9e\",\"mod\\u00e9liste\",\"vald\\u00f4tains\",\"b\\u00e9otien\",\"accompagnaient\",\"percussionnistes\",\"voterais\",\"excite\",\"compositrice\",\"vald\\u00f4taine\",\"d\\u00e9tacher\",\"imbroglio\",\"ensisheim\",\"noblesses\",\"inimaginables\",\"zuydcoote\",\"absurdes\",\"giacomo\",\"poncin\",\"recommencera\",\"mortelles\",\"imphy\",\"aigrefeuille\",\"l\\u00e8pre\",\"para\\u00eetra\",\"d\\u00e9velopperont\",\"postales\",\"para\\u00eetre\",\"sp\\u00e9cialit\\u00e9\",\"n\\u00e9bulosit\\u00e9\",\"aquafortiste\",\"\\u00e9claboussures\",\"presbyt\\u00e9rienne\",\"barsac\",\"naviguent\",\"fortin\",\"cons\",\"tissus\",\"applicabilit\\u00e9\",\"laotien\",\"appartement\",\"d\\u00e9cel\\u00e9\",\"inad\\u00e9quats\",\"clament\",\"tchadiens\",\"stipule\",\"bastia\",\"casseurs\",\"conn\",\"roderic\",\"contourn\\u00e9s\",\"stock\\u00e9es\",\"horaires\",\"fouett\\u00e9\",\"disputent\",\"colorer\",\"violentes\",\"t\\u00e9l\\u00e9commandes\",\"azerba\\u00efdjan\",\"divisent\",\"fastidieux\",\"hank\",\"hani\",\"fluctu\\u00e9\",\"rory\",\"quatorzi\\u00e8me\",\"hana\",\"quentin\",\"contradicteur\",\"duperie\",\"impromptue\",\"artilleurs\",\"remparts\",\"n\\u00e9ant\",\"disques\",\"populeuse\",\"animations\",\"hans\",\"amibes\",\"rompue\",\"\\u00e9vacuations\",\"sonatine\",\"vermont\",\"pontacq\",\"examin\\u00e9e\",\"humble\",\"galons\",\"conseils\",\"examin\\u00e9s\",\"client\",\"casbah\",\"d\\u00e9gagement\",\"musical\",\"proximit\\u00e9s\",\"trainer\",\"empaler\",\"traditions\",\"militent\",\"edmonton\",\"newton\",\"g\\u00e9n\\u00e9ralis\\u00e9es\",\"gesse\",\"keanu\",\"p\\u00e9rigueux\",\"destrier\",\"portoricains\",\"brachial\",\"biome\",\"denton\",\"normandie\",\"kirill\",\"cornell\",\"cl\\u00e9ricale\",\"josh\",\"d\\u00e9fiant\",\"estompent\",\"corniche\",\"wright\",\"cognac\",\"nautique\",\"joss\",\"s\\u00e9nateur\",\"rayner\",\"siegfried\",\"zayd\",\"poss\\u00e9da\",\"rocailles\",\"exprimant\",\"pr\\u00e9pos\\u00e9s\",\"cooptation\",\"veilla\",\"indiennes\",\"stephanos\",\"\\u00e9ph\\u00e9m\\u00e9rides\",\"designers\",\"r\\u00e9partitions\",\"embarrass\\u00e9e\",\"affidavit\",\"montferrer\",\"logements\",\"s\\u00fcleyman\",\"apostoliques\",\"autocratie\",\"briochin\",\"r\\u00e9tention\"],\"x\":{\"__ndarray__\":\"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\",\"dtype\":\"float64\",\"shape\":[5000]},\"y\":{\"__ndarray__\":\"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\",\"dtype\":\"float64\",\"shape\":[5000]}}},\"id\":\"2153a753-d4a0-485e-a875-bbe41d08a961\",\"type\":\"ColumnDataSource\"},{\"attributes\":{\"plot\":null,\"text\":\"A map of 10000 word vectors\"},\"id\":\"a61c315f-dbb9-4cc8-a9cf-456c1537eefc\",\"type\":\"Title\"},{\"attributes\":{\"plot\":{\"id\":\"12ff542a-fb9b-4cf5-a8d2-05796de45a13\",\"subtype\":\"Figure\",\"type\":\"Plot\"}},\"id\":\"5f03afdb-b83d-4017-b0ea-07e4a621bf00\",\"type\":\"WheelZoomTool\"},{\"attributes\":{\"plot\":{\"id\":\"12ff542a-fb9b-4cf5-a8d2-05796de45a13\",\"subtype\":\"Figure\",\"type\":\"Plot\"}},\"id\":\"07264284-1bc7-4502-ab18-761009790520\",\"type\":\"ResetTool\"},{\"attributes\":{\"callback\":null},\"id\":\"e3bbc72d-c0b1-4ccc-86b8-33b89296626a\",\"type\":\"DataRange1d\"},{\"attributes\":{\"callback\":null},\"id\":\"7b155751-d554-475d-9224-4e455aec2a3a\",\"type\":\"DataRange1d\"},{\"attributes\":{},\"id\":\"f497391a-5701-4c21-a1be-86acfaa2f7c6\",\"type\":\"ToolEvents\"},{\"attributes\":{\"min_border\":1,\"plot_width\":700,\"renderers\":[{\"id\":\"48043325-b0ae-44a3-b3db-f39f559f80da\",\"type\":\"BoxAnnotation\"},{\"id\":\"6934f44f-813e-49ba-97ff-00c14d378e90\",\"type\":\"GlyphRenderer\"}],\"title\":{\"id\":\"a61c315f-dbb9-4cc8-a9cf-456c1537eefc\",\"type\":\"Title\"},\"tool_events\":{\"id\":\"f497391a-5701-4c21-a1be-86acfaa2f7c6\",\"type\":\"ToolEvents\"},\"toolbar\":{\"id\":\"a6a9b288-2524-4f63-b987-397bb1c310ce\",\"type\":\"Toolbar\"},\"x_range\":{\"id\":\"e3bbc72d-c0b1-4ccc-86b8-33b89296626a\",\"type\":\"DataRange1d\"},\"x_scale\":{\"id\":\"bf9d3e5c-6c57-40a9-8120-b95adf080c54\",\"type\":\"LinearScale\"},\"y_range\":{\"id\":\"7b155751-d554-475d-9224-4e455aec2a3a\",\"type\":\"DataRange1d\"},\"y_scale\":{\"id\":\"26dd6efb-862c-4ca1-a8e2-9214cfeb06cf\",\"type\":\"LinearScale\"}},\"id\":\"12ff542a-fb9b-4cf5-a8d2-05796de45a13\",\"subtype\":\"Figure\",\"type\":\"Plot\"}],\"root_ids\":[\"12ff542a-fb9b-4cf5-a8d2-05796de45a13\"]},\"title\":\"Bokeh Application\",\"version\":\"0.12.6\"}};\n",
       "            var render_items = [{\"docid\":\"5b8a8393-f575-4bdd-bb7c-3a2006d4d263\",\"elementid\":\"5b4fd783-e15f-49e7-8e04-1be21428cf0c\",\"modelid\":\"12ff542a-fb9b-4cf5-a8d2-05796de45a13\"}];\n",
       "            \n",
       "            Bokeh.embed.embed_items(docs_json, render_items);\n",
       "          };\n",
       "          if (document.readyState != \"loading\") fn();\n",
       "          else document.addEventListener(\"DOMContentLoaded\", fn);\n",
       "        })();\n",
       "      },\n",
       "      function(Bokeh) {\n",
       "      }\n",
       "    ];\n",
       "  \n",
       "    function run_inline_js() {\n",
       "      \n",
       "      if ((window.Bokeh !== undefined) || (force === true)) {\n",
       "        for (var i = 0; i < inline_js.length; i++) {\n",
       "          inline_js[i](window.Bokeh);\n",
       "        }if (force === true) {\n",
       "          display_loaded();\n",
       "        }} else if (Date.now() < window._bokeh_timeout) {\n",
       "        setTimeout(run_inline_js, 100);\n",
       "      } else if (!window._bokeh_failed_load) {\n",
       "        console.log(\"Bokeh: BokehJS failed to load within specified timeout.\");\n",
       "        window._bokeh_failed_load = true;\n",
       "      } else if (force !== true) {\n",
       "        var cell = $(document.getElementById(\"5b4fd783-e15f-49e7-8e04-1be21428cf0c\")).parents('.cell').data().cell;\n",
       "        cell.output_area.append_execute_result(NB_LOAD_WARNING)\n",
       "      }\n",
       "  \n",
       "    }\n",
       "  \n",
       "    if (window._bokeh_is_loading === 0) {\n",
       "      console.log(\"Bokeh: BokehJS loaded, going straight to plotting\");\n",
       "      run_inline_js();\n",
       "    } else {\n",
       "      load_libs(js_urls, function() {\n",
       "        console.log(\"Bokeh: BokehJS plotting callback run at\", now());\n",
       "        run_inline_js();\n",
       "      });\n",
       "    }\n",
       "  }(this));\n",
       "</script>"
      ]
     },
     "metadata": {},
     "output_type": "display_data"
    }
   ],
   "source": [
    "# defining the chart\n",
    "output_notebook()\n",
    "plot_tfidf = bp.figure(plot_width=700, plot_height=600, title=\"A map of 10000 word vectors\",\n",
    "    tools=\"pan,wheel_zoom,box_zoom,reset,hover,previewsave\",\n",
    "    x_axis_type=None, y_axis_type=None, min_border=1)\n",
    "\n",
    "# getting a list of word vectors. limit to 10000. each is of 200 dimensions\n",
    "word_vectors = [frenchW2V[w] for w in frenchW2V.wv.vocab.keys()[:5000]]\n",
    "\n",
    "# dimensionality reduction. converting the vectors to 2d vectors\n",
    "from sklearn.manifold import TSNE\n",
    "tsne_model = TSNE(n_components=2, verbose=1, random_state=0)\n",
    "tsne_w2v = tsne_model.fit_transform(word_vectors)\n",
    "\n",
    "# putting everything in a dataframe\n",
    "tsne_df = pd.DataFrame(tsne_w2v, columns=['x', 'y'])\n",
    "tsne_df['words'] = frenchW2V.wv.vocab.keys()[:5000]\n",
    "\n",
    "# plotting. the corresponding word appears when you hover on the data point.\n",
    "plot_tfidf.scatter(x='x', y='y', source=tsne_df)\n",
    "hover = plot_tfidf.select(dict(type=HoverTool))\n",
    "hover.tooltips={\"word\": \"@words\"}\n",
    "show(plot_tfidf)"
   ]
  },
  {
   "cell_type": "raw",
   "metadata": {},
   "source": [
    "We first have to reduce their dimension to 2 using t-SNE. Then, using an interactive visualization tool such as Bokeh,\n",
    "we can map them directly on 2D plane and interact with them."
   ]
  },
  {
   "cell_type": "raw",
   "metadata": {},
   "source": [
    "Let's now get to the sentiment classification part. As for now, we have a word2vec model that converts each word from the corpus into a high dimensional vector. This seems to work fine according to the similarity tests and the bokeh chart.\n",
    "In order to classify tweets, we have to turn them into vectors as well. This task is almost done. Since we know the vector representation of each word composing a tweet, we have to \"combine\" these vectors together and get a new one that represents the tweet as a whole.\n",
    "A first approach consists in averaging the word vectors together. But a slightly better solution is to compute a weighted average where each weight gives the importance of the word with respect to the corpus. Such a weight could the tf-idf score."
   ]
  },
  {
   "cell_type": "code",
   "execution_count": 226,
   "metadata": {},
   "outputs": [
    {
     "name": "stdout",
     "output_type": "stream",
     "text": [
      "building tf-idf matrix ...\n",
      "vocab size : 15482\n"
     ]
    }
   ],
   "source": [
    "print 'building tf-idf matrix ...'\n",
    "vectorizer = TfidfVectorizer(analyzer=lambda x: x, min_df=10)\n",
    "matrix = vectorizer.fit_transform([x.words for x in x_train])\n",
    "tfidf = dict(zip(vectorizer.get_feature_names(), vectorizer.idf_))\n",
    "print 'vocab size :', len(tfidf)"
   ]
  },
  {
   "cell_type": "raw",
   "metadata": {},
   "source": [
    "Now let's define a function that, given a list of tweet tokens, creates an averaged tweet vector."
   ]
  },
  {
   "cell_type": "code",
   "execution_count": 227,
   "metadata": {},
   "outputs": [],
   "source": [
    "def buildWordVector(tokens, size):\n",
    "    vec = np.zeros(size).reshape((1, size))\n",
    "    count = 0.\n",
    "    for word in tokens:\n",
    "        try:\n",
    "            vec += frenchW2V[word].reshape((1, size)) * tfidf[word]\n",
    "            count += 1.\n",
    "        except KeyError: # handling the case where the token is not\n",
    "                         # in the corpus. useful for testing.\n",
    "            continue\n",
    "    if count != 0:\n",
    "        vec /= count\n",
    "    return vec"
   ]
  },
  {
   "cell_type": "raw",
   "metadata": {},
   "source": [
    "Now we convert x_train and and x_test into list of vectors using this function. We also scale each column to have zero mean and unit standard deviation."
   ]
  },
  {
   "cell_type": "code",
   "execution_count": 228,
   "metadata": {},
   "outputs": [
    {
     "name": "stderr",
     "output_type": "stream",
     "text": [
      "100%|██████████| 458843/458843 [01:26<00:00, 5297.22it/s]\n",
      "100%|██████████| 114711/114711 [00:28<00:00, 3993.67it/s]\n"
     ]
    }
   ],
   "source": [
    "n_dim=1000\n",
    "from sklearn.preprocessing import scale\n",
    "train_vecs_w2vfr = np.concatenate([buildWordVector(z, n_dim) for z in tqdm(map(lambda x: x.words, x_train))])\n",
    "train_vecs_w2vfr = scale(train_vecs_w2vfr)\n",
    "\n",
    "test_vecs_w2vfr = np.concatenate([buildWordVector(z, n_dim) for z in tqdm(map(lambda x: x.words, x_test))])\n",
    "test_vecs_w2vfr = scale(test_vecs_w2vfr)"
   ]
  },
  {
   "cell_type": "raw",
   "metadata": {},
   "source": [
    "We should now be ready to feed these vectors into a neural network classifier. In fact, using Keras is very easy to define layers and activation functions.\n",
    "A basic 2-Layer  architecture:"
   ]
  },
  {
   "cell_type": "code",
   "execution_count": 42,
   "metadata": {},
   "outputs": [],
   "source": [
    "# Saving numpy array\n",
    "np.savetxt('trainw2vfr.txt',train_vecs_w2vfr , fmt='%10.8f')\n",
    "np.savetxt('testw2vfr.txt',test_vecs_w2vfr , fmt='%10.8f')\n",
    "np.savetxt('y_trainfr.txt',y_train , fmt='%d')\n",
    "np.savetxt('y_testfr.txt',y_test , fmt='%d')"
   ]
  },
  {
   "cell_type": "markdown",
   "metadata": {},
   "source": [
    "## Running the model on the Train and Test Data:"
   ]
  },
  {
   "cell_type": "code",
   "execution_count": 43,
   "metadata": {},
   "outputs": [],
   "source": [
    "import pandas as pd # provide sql-like data manipulation tools. very handy.\n",
    "pd.options.mode.chained_assignment = None\n",
    "import numpy as np # high dimensional vector computing library.\n",
    "from copy import deepcopy\n",
    "from string import punctuation\n",
    "from random import shuffle\n",
    "from keras.models import Sequential\n",
    "import gensim\n",
    "from gensim.models.word2vec import Word2Vec # the word2vec model gensim class\n",
    "LabeledSentence = gensim.models.doc2vec.LabeledSentence # we'll talk about this down below\n",
    "import keras\n",
    "from tqdm import tqdm\n",
    "tqdm.pandas(desc=\"progress-bar\")\n",
    "from keras.layers import Activation, Dense\n",
    "from nltk.tokenize import TweetTokenizer # a tweet tokenizer from nltk.\n",
    "tokenizer = TweetTokenizer()\n",
    "from sklearn.model_selection import train_test_split\n",
    "from sklearn.feature_extraction.text import TfidfVectorizer\n",
    "import bokeh.plotting as bp\n",
    "from bokeh.models import HoverTool, BoxSelectTool\n",
    "from bokeh.plotting import figure, show, output_notebook\n",
    "from sklearn.preprocessing import scale"
   ]
  },
  {
   "cell_type": "code",
   "execution_count": 44,
   "metadata": {},
   "outputs": [],
   "source": [
    "# importing numpy arrays\n",
    "trainvecs = np.loadtxt('trainw2vfr.txt', dtype=float)\n",
    "testvecs = np.loadtxt('testw2vfr.txt', dtype=float)\n",
    "y_trainvecs = np.loadtxt('y_trainfr.txt', dtype=int)\n",
    "y_testvecs = np.loadtxt('y_testfr.txt', dtype=int)"
   ]
  },
  {
   "cell_type": "markdown",
   "metadata": {},
   "source": [
    "## Using ANN"
   ]
  },
  {
   "cell_type": "code",
   "execution_count": 45,
   "metadata": {},
   "outputs": [],
   "source": [
    "# This model works better than the model below\n",
    "# to define that my model is a sequence of layers\n",
    "tbCallBack = keras.callbacks.TensorBoard(log_dir='./Graph/ANN', histogram_freq=0, write_graph=True, write_images=True)\n",
    "model = Sequential()\n",
    "# defining my first hidden layer, output size is 100\n",
    "model.add(Dense(100, activation='sigmoid', input_dim=1000))\n",
    "# defining my second hidden layer, output size is 50\n",
    "model.add(Dense(50, activation='relu', input_dim=100))\n",
    "# defining my third hidden layer, output size is 32\n",
    "model.add(Dense(32, activation='relu', input_dim=50))\n",
    "# defining my fourth hidden layer, output size is 16\n",
    "model.add(Dense(16, activation='relu', input_dim=32))\n",
    "# defining my output layer, output size is 1\n",
    "model.add(Dense(1, activation='sigmoid'))\n",
    "\n",
    "# I just need to compile the model and I'll be ready to train it. \n",
    "#When I compile the model, I declare the loss function and the optimizer (SGD, Adam, etc.).\n",
    "# Here I have used 'Adam' optimizer\n",
    "model.compile(optimizer='adam',\n",
    "              loss='binary_crossentropy',\n",
    "              metrics=['accuracy'])"
   ]
  },
  {
   "cell_type": "raw",
   "metadata": {},
   "source": [
    "# to define that my model is a sequence of layers\n",
    "model = Sequential()\n",
    "# defining my first hidden layer, output size is 32\n",
    "model.add(Dense(500, activation='sigmoid', input_dim=1000))\n",
    "# defining my second hidden layer, output size is 1\n",
    "model.add(Dense(250, activation='relu', input_dim=500))\n",
    "model.add(Dense(125, activation='relu', input_dim=250))\n",
    "model.add(Dense(64, activation='relu', input_dim=125))\n",
    "model.add(Dense(32, activation='relu', input_dim=64))\n",
    "model.add(Dense(16, activation='relu', input_dim=32))\n",
    "model.add(Dense(1, activation='sigmoid'))\n",
    "\n",
    "# I just need to compile the model and I'll be ready to train it. \n",
    "#When I compile the model, I declare the loss function and the optimizer (SGD, Adam, etc.).\n",
    "# Here I have used 'Adam' optimizer\n",
    "model.compile(optimizer='adam',\n",
    "              loss='binary_crossentropy',\n",
    "              metrics=['accuracy'])"
   ]
  },
  {
   "cell_type": "code",
   "execution_count": 46,
   "metadata": {},
   "outputs": [
    {
     "name": "stdout",
     "output_type": "stream",
     "text": [
      "Epoch 1/125\n",
      "66s - loss: -1.3933e+00 - acc: 0.8168\n",
      "Epoch 2/125\n",
      "64s - loss: -1.6835e+00 - acc: 0.8268\n",
      "Epoch 3/125\n",
      "63s - loss: -1.7801e+00 - acc: 0.8294\n",
      "Epoch 4/125\n",
      "63s - loss: -1.8223e+00 - acc: 0.8306\n",
      "Epoch 5/125\n",
      "64s - loss: -1.8388e+00 - acc: 0.8306\n",
      "Epoch 6/125\n",
      "64s - loss: -1.8607e+00 - acc: 0.8315\n",
      "Epoch 7/125\n",
      "63s - loss: -1.8763e+00 - acc: 0.8329\n",
      "Epoch 8/125\n",
      "63s - loss: -1.8928e+00 - acc: 0.8323\n",
      "Epoch 9/125\n",
      "63s - loss: -1.9105e+00 - acc: 0.8324\n",
      "Epoch 10/125\n",
      "64s - loss: -1.9109e+00 - acc: 0.8325\n",
      "Epoch 11/125\n",
      "63s - loss: -1.9189e+00 - acc: 0.8324\n",
      "Epoch 12/125\n",
      "64s - loss: -1.9071e+00 - acc: 0.8316\n",
      "Epoch 13/125\n",
      "63s - loss: -1.9261e+00 - acc: 0.8329\n",
      "Epoch 14/125\n",
      "64s - loss: -1.9341e+00 - acc: 0.8329\n",
      "Epoch 15/125\n",
      "64s - loss: -1.9453e+00 - acc: 0.8334\n",
      "Epoch 16/125\n",
      "64s - loss: -1.9413e+00 - acc: 0.8327\n",
      "Epoch 17/125\n",
      "63s - loss: -1.9504e+00 - acc: 0.8328\n",
      "Epoch 18/125\n",
      "64s - loss: -1.9443e+00 - acc: 0.8327\n",
      "Epoch 19/125\n",
      "63s - loss: -1.9611e+00 - acc: 0.8329\n",
      "Epoch 20/125\n",
      "63s - loss: -1.9593e+00 - acc: 0.8333\n",
      "Epoch 21/125\n",
      "64s - loss: -1.9458e+00 - acc: 0.8325\n",
      "Epoch 22/125\n",
      "63s - loss: -1.9679e+00 - acc: 0.8332\n",
      "Epoch 23/125\n",
      "63s - loss: -1.9805e+00 - acc: 0.8336\n",
      "Epoch 24/125\n",
      "63s - loss: -1.9744e+00 - acc: 0.8336\n",
      "Epoch 25/125\n",
      "63s - loss: -1.9799e+00 - acc: 0.8333\n",
      "Epoch 26/125\n",
      "63s - loss: -1.9839e+00 - acc: 0.8336\n",
      "Epoch 27/125\n",
      "64s - loss: -1.9902e+00 - acc: 0.8338\n",
      "Epoch 28/125\n",
      "64s - loss: -1.9987e+00 - acc: 0.8345\n",
      "Epoch 29/125\n",
      "63s - loss: -1.9911e+00 - acc: 0.8335\n",
      "Epoch 30/125\n",
      "63s - loss: -1.9822e+00 - acc: 0.8329\n",
      "Epoch 31/125\n",
      "64s - loss: -2.0061e+00 - acc: 0.8337\n",
      "Epoch 32/125\n",
      "64s - loss: -2.0002e+00 - acc: 0.8336\n",
      "Epoch 33/125\n",
      "63s - loss: -2.0100e+00 - acc: 0.8348\n",
      "Epoch 34/125\n",
      "64s - loss: -2.0252e+00 - acc: 0.8344\n",
      "Epoch 35/125\n",
      "64s - loss: -2.0344e+00 - acc: 0.8352\n",
      "Epoch 36/125\n",
      "63s - loss: -2.0188e+00 - acc: 0.8346\n",
      "Epoch 37/125\n",
      "63s - loss: -2.0251e+00 - acc: 0.8350\n",
      "Epoch 38/125\n",
      "63s - loss: -2.0149e+00 - acc: 0.8336\n",
      "Epoch 39/125\n",
      "63s - loss: -2.0210e+00 - acc: 0.8342\n",
      "Epoch 40/125\n",
      "63s - loss: -2.0201e+00 - acc: 0.8340\n",
      "Epoch 41/125\n",
      "63s - loss: -2.0266e+00 - acc: 0.8343\n",
      "Epoch 42/125\n",
      "64s - loss: -2.0229e+00 - acc: 0.8342\n",
      "Epoch 43/125\n",
      "64s - loss: -2.0329e+00 - acc: 0.8348\n",
      "Epoch 44/125\n",
      "64s - loss: -2.0239e+00 - acc: 0.8341\n",
      "Epoch 45/125\n",
      "64s - loss: -2.0231e+00 - acc: 0.8343\n",
      "Epoch 46/125\n",
      "63s - loss: -2.0304e+00 - acc: 0.8338\n",
      "Epoch 47/125\n",
      "63s - loss: -2.0300e+00 - acc: 0.8339\n",
      "Epoch 48/125\n",
      "64s - loss: -2.0470e+00 - acc: 0.8349\n",
      "Epoch 49/125\n",
      "63s - loss: -2.0479e+00 - acc: 0.8349\n",
      "Epoch 50/125\n",
      "63s - loss: -2.0571e+00 - acc: 0.8348\n",
      "Epoch 51/125\n",
      "63s - loss: -2.0692e+00 - acc: 0.8353\n",
      "Epoch 52/125\n",
      "63s - loss: -2.0704e+00 - acc: 0.8357\n",
      "Epoch 53/125\n",
      "63s - loss: -2.0704e+00 - acc: 0.8359\n",
      "Epoch 54/125\n",
      "63s - loss: -2.0664e+00 - acc: 0.8357\n",
      "Epoch 55/125\n",
      "63s - loss: -2.0736e+00 - acc: 0.8353\n",
      "Epoch 56/125\n",
      "63s - loss: -2.0824e+00 - acc: 0.8356\n",
      "Epoch 57/125\n",
      "64s - loss: -2.0784e+00 - acc: 0.8361\n",
      "Epoch 58/125\n",
      "64s - loss: -2.0785e+00 - acc: 0.8361\n",
      "Epoch 59/125\n",
      "64s - loss: -2.0738e+00 - acc: 0.8355\n",
      "Epoch 60/125\n",
      "64s - loss: -2.0836e+00 - acc: 0.8360\n",
      "Epoch 61/125\n",
      "63s - loss: -2.0850e+00 - acc: 0.8362\n",
      "Epoch 62/125\n",
      "64s - loss: -2.0811e+00 - acc: 0.8355\n",
      "Epoch 63/125\n",
      "63s - loss: -2.0835e+00 - acc: 0.8358\n",
      "Epoch 64/125\n",
      "63s - loss: -2.0943e+00 - acc: 0.8357\n",
      "Epoch 65/125\n",
      "63s - loss: -2.0900e+00 - acc: 0.8362\n",
      "Epoch 66/125\n",
      "64s - loss: -2.0907e+00 - acc: 0.8360\n",
      "Epoch 67/125\n",
      "64s - loss: -2.0941e+00 - acc: 0.8362\n",
      "Epoch 68/125\n",
      "63s - loss: -2.0968e+00 - acc: 0.8359\n",
      "Epoch 69/125\n",
      "64s - loss: -2.0929e+00 - acc: 0.8362\n",
      "Epoch 70/125\n",
      "63s - loss: -2.0975e+00 - acc: 0.8361\n",
      "Epoch 71/125\n",
      "64s - loss: -2.1015e+00 - acc: 0.8358\n",
      "Epoch 72/125\n",
      "64s - loss: -2.1095e+00 - acc: 0.8358\n",
      "Epoch 73/125\n",
      "63s - loss: -2.1136e+00 - acc: 0.8367\n",
      "Epoch 74/125\n",
      "63s - loss: -2.1157e+00 - acc: 0.8365\n",
      "Epoch 75/125\n",
      "63s - loss: -2.1129e+00 - acc: 0.8366\n",
      "Epoch 76/125\n",
      "63s - loss: -2.1223e+00 - acc: 0.8370\n",
      "Epoch 77/125\n",
      "63s - loss: -2.1192e+00 - acc: 0.8365\n",
      "Epoch 78/125\n",
      "64s - loss: -2.1315e+00 - acc: 0.8368\n",
      "Epoch 79/125\n",
      "63s - loss: -2.1269e+00 - acc: 0.8367\n",
      "Epoch 80/125\n",
      "63s - loss: -2.1273e+00 - acc: 0.8372\n",
      "Epoch 81/125\n",
      "64s - loss: -2.1211e+00 - acc: 0.8367\n",
      "Epoch 82/125\n",
      "64s - loss: -2.1212e+00 - acc: 0.8365\n",
      "Epoch 83/125\n",
      "64s - loss: -2.1284e+00 - acc: 0.8368\n",
      "Epoch 84/125\n",
      "63s - loss: -2.1243e+00 - acc: 0.8363\n",
      "Epoch 85/125\n",
      "64s - loss: -2.1210e+00 - acc: 0.8368\n",
      "Epoch 86/125\n",
      "64s - loss: -2.1207e+00 - acc: 0.8363\n",
      "Epoch 87/125\n",
      "64s - loss: -2.1299e+00 - acc: 0.8365\n",
      "Epoch 88/125\n",
      "63s - loss: -2.1207e+00 - acc: 0.8366\n",
      "Epoch 89/125\n",
      "63s - loss: -2.1308e+00 - acc: 0.8365\n",
      "Epoch 90/125\n",
      "63s - loss: -2.1365e+00 - acc: 0.8374\n",
      "Epoch 91/125\n",
      "63s - loss: -2.1411e+00 - acc: 0.8375\n",
      "Epoch 92/125\n",
      "63s - loss: -2.1495e+00 - acc: 0.8373\n",
      "Epoch 93/125\n",
      "64s - loss: -2.1463e+00 - acc: 0.8369\n",
      "Epoch 94/125\n",
      "64s - loss: -2.1481e+00 - acc: 0.8368\n",
      "Epoch 95/125\n",
      "63s - loss: -2.1400e+00 - acc: 0.8367\n",
      "Epoch 96/125\n",
      "64s - loss: -2.1472e+00 - acc: 0.8366\n",
      "Epoch 97/125\n",
      "64s - loss: -2.1362e+00 - acc: 0.8366\n",
      "Epoch 98/125\n",
      "63s - loss: -2.1373e+00 - acc: 0.8365\n",
      "Epoch 99/125\n",
      "63s - loss: -2.1309e+00 - acc: 0.8362\n",
      "Epoch 100/125\n",
      "63s - loss: -2.1246e+00 - acc: 0.8365\n",
      "Epoch 101/125\n",
      "64s - loss: -2.1427e+00 - acc: 0.8372\n",
      "Epoch 102/125\n",
      "63s - loss: -2.1395e+00 - acc: 0.8365\n",
      "Epoch 103/125\n",
      "64s - loss: -2.1498e+00 - acc: 0.8373\n",
      "Epoch 104/125\n",
      "63s - loss: -2.1475e+00 - acc: 0.8373\n",
      "Epoch 105/125\n",
      "63s - loss: -2.1522e+00 - acc: 0.8373\n",
      "Epoch 106/125\n",
      "64s - loss: -2.1478e+00 - acc: 0.8374\n",
      "Epoch 107/125\n",
      "64s - loss: -2.1528e+00 - acc: 0.8373\n",
      "Epoch 108/125\n",
      "64s - loss: -2.1504e+00 - acc: 0.8371\n",
      "Epoch 109/125\n",
      "64s - loss: -2.1581e+00 - acc: 0.8375\n",
      "Epoch 110/125\n",
      "64s - loss: -2.1483e+00 - acc: 0.8372\n",
      "Epoch 111/125\n",
      "64s - loss: -2.1654e+00 - acc: 0.8371\n",
      "Epoch 112/125\n",
      "63s - loss: -2.1689e+00 - acc: 0.8376\n",
      "Epoch 113/125\n",
      "63s - loss: -2.1631e+00 - acc: 0.8375\n",
      "Epoch 114/125\n",
      "64s - loss: -2.1712e+00 - acc: 0.8375\n",
      "Epoch 115/125\n",
      "64s - loss: -2.1804e+00 - acc: 0.8379\n",
      "Epoch 116/125\n",
      "63s - loss: -2.1711e+00 - acc: 0.8376\n",
      "Epoch 117/125\n",
      "63s - loss: -2.1859e+00 - acc: 0.8381\n",
      "Epoch 118/125\n",
      "63s - loss: -2.1840e+00 - acc: 0.8381\n",
      "Epoch 119/125\n",
      "63s - loss: -2.1786e+00 - acc: 0.8378\n",
      "Epoch 120/125\n",
      "63s - loss: -2.1822e+00 - acc: 0.8382\n",
      "Epoch 121/125\n",
      "63s - loss: -2.1782e+00 - acc: 0.8375\n",
      "Epoch 122/125\n",
      "63s - loss: -2.1806e+00 - acc: 0.8375\n",
      "Epoch 123/125\n",
      "64s - loss: -2.1902e+00 - acc: 0.8384\n",
      "Epoch 124/125\n",
      "63s - loss: -2.1973e+00 - acc: 0.8384\n",
      "Epoch 125/125\n",
      "63s - loss: -2.1956e+00 - acc: 0.8383\n"
     ]
    },
    {
     "data": {
      "text/plain": [
       "<keras.callbacks.History at 0x7f3e502c98d0>"
      ]
     },
     "execution_count": 46,
     "metadata": {},
     "output_type": "execute_result"
    }
   ],
   "source": [
    "# To fit the model, all I have to do is declare the batch size and number of epochs to train for, \n",
    "# then pass in my training data\n",
    "model.fit(trainvecs, y_trainvecs, epochs=125, batch_size=32, verbose=2,callbacks=[tbCallBack])"
   ]
  },
  {
   "cell_type": "code",
   "execution_count": 47,
   "metadata": {},
   "outputs": [],
   "source": [
    "# Saving the model:\n",
    "from keras.models import load_model\n",
    "import h5py\n",
    "model.save('ann_model_fr.h5')"
   ]
  },
  {
   "cell_type": "markdown",
   "metadata": {},
   "source": [
    "#### Executing ANN Model "
   ]
  },
  {
   "cell_type": "code",
   "execution_count": 48,
   "metadata": {},
   "outputs": [],
   "source": [
    "# Calling/ importing the model\n",
    "model = load_model('ann_model_fr.h5')"
   ]
  },
  {
   "cell_type": "raw",
   "metadata": {},
   "source": [
    "Now that the model is trained, let's evaluate it on the test set:"
   ]
  },
  {
   "cell_type": "code",
   "execution_count": 49,
   "metadata": {},
   "outputs": [
    {
     "name": "stdout",
     "output_type": "stream",
     "text": [
      "0.831637767968\n"
     ]
    }
   ],
   "source": [
    "score = model.evaluate(testvecs, y_testvecs, batch_size=128, verbose=2)\n",
    "print score[1]"
   ]
  },
  {
   "cell_type": "markdown",
   "metadata": {},
   "source": [
    "#  Using CNN"
   ]
  },
  {
   "cell_type": "code",
   "execution_count": 146,
   "metadata": {},
   "outputs": [],
   "source": [
    "# CNN for the sentiment analysis problem\n",
    "import numpy\n",
    "from keras.datasets import imdb\n",
    "from keras.models import Sequential\n",
    "from keras.layers import Dense\n",
    "from keras.layers import Flatten\n",
    "from keras.layers.convolutional import Conv1D\n",
    "from keras.layers.convolutional import MaxPooling1D\n",
    "from keras.layers.embeddings import Embedding\n",
    "from keras.preprocessing import sequence\n",
    "# fix random seed for reproducibility\n",
    "seed = 7\n",
    "numpy.random.seed(seed)"
   ]
  },
  {
   "cell_type": "code",
   "execution_count": 147,
   "metadata": {},
   "outputs": [],
   "source": [
    "# load the dataset but only keep the top n words, zero the rest\n",
    "top_words = 66274"
   ]
  },
  {
   "cell_type": "code",
   "execution_count": 148,
   "metadata": {},
   "outputs": [],
   "source": [
    "# pad dataset to a maximum review length in words\n",
    "max_words = 140"
   ]
  },
  {
   "cell_type": "code",
   "execution_count": 149,
   "metadata": {},
   "outputs": [],
   "source": [
    "X_train=trainvecs"
   ]
  },
  {
   "cell_type": "code",
   "execution_count": 150,
   "metadata": {},
   "outputs": [],
   "source": [
    "X_test=testvecs"
   ]
  },
  {
   "cell_type": "code",
   "execution_count": 151,
   "metadata": {},
   "outputs": [],
   "source": [
    "y_train=y_trainvecs"
   ]
  },
  {
   "cell_type": "code",
   "execution_count": 152,
   "metadata": {},
   "outputs": [],
   "source": [
    "y_test=y_testvecs"
   ]
  },
  {
   "cell_type": "code",
   "execution_count": 153,
   "metadata": {},
   "outputs": [],
   "source": [
    "X_train = sequence.pad_sequences(X_train, maxlen=max_words)\n",
    "X_test = sequence.pad_sequences(X_test, maxlen=max_words)"
   ]
  },
  {
   "cell_type": "code",
   "execution_count": 154,
   "metadata": {},
   "outputs": [
    {
     "name": "stdout",
     "output_type": "stream",
     "text": [
      "_________________________________________________________________\n",
      "Layer (type)                 Output Shape              Param #   \n",
      "=================================================================\n",
      "embedding_13 (Embedding)     (None, 140, 32)           2120768   \n",
      "_________________________________________________________________\n",
      "conv1d_26 (Conv1D)           (None, 140, 32)           3104      \n",
      "_________________________________________________________________\n",
      "conv1d_27 (Conv1D)           (None, 140, 32)           3104      \n",
      "_________________________________________________________________\n",
      "max_pooling1d_19 (MaxPooling (None, 70, 32)            0         \n",
      "_________________________________________________________________\n",
      "max_pooling1d_20 (MaxPooling (None, 35, 32)            0         \n",
      "_________________________________________________________________\n",
      "flatten_11 (Flatten)         (None, 1120)              0         \n",
      "_________________________________________________________________\n",
      "dense_35 (Dense)             (None, 250)               280250    \n",
      "_________________________________________________________________\n",
      "dense_36 (Dense)             (None, 125)               31375     \n",
      "_________________________________________________________________\n",
      "dense_37 (Dense)             (None, 1)                 126       \n",
      "=================================================================\n",
      "Total params: 2,438,727\n",
      "Trainable params: 2,438,727\n",
      "Non-trainable params: 0\n",
      "_________________________________________________________________\n",
      "None\n"
     ]
    }
   ],
   "source": [
    "# create the model\n",
    "model = Sequential()\n",
    "tbCallBack = keras.callbacks.TensorBoard(log_dir='./Graph/CNN', histogram_freq=0, write_graph=True, write_images=True)\n",
    "model.add(Embedding(top_words, 32, input_length=max_words))\n",
    "model.add(Conv1D(filters=32, kernel_size=3, padding='same', activation='relu'))\n",
    "#model.add(Conv1D(filters=32, kernel_size=3, padding='same', activation='sigmoid'))\n",
    "model.add(Conv1D(filters=32, kernel_size=3, padding='same', activation='tanh'))\n",
    "model.add(MaxPooling1D(pool_size=2))\n",
    "model.add(MaxPooling1D(pool_size=2))\n",
    "model.add(Flatten())\n",
    "model.add(Dense(250, activation='relu'))\n",
    "model.add(Dense(125, activation='relu'))\n",
    "model.add(Dense(1, activation='sigmoid'))\n",
    "model.compile(loss='binary_crossentropy', optimizer='adam', metrics=['accuracy'])\n",
    "print(model.summary())"
   ]
  },
  {
   "cell_type": "code",
   "execution_count": 155,
   "metadata": {},
   "outputs": [
    {
     "name": "stdout",
     "output_type": "stream",
     "text": [
      "Train on 458843 samples, validate on 114711 samples\n",
      "Epoch 1/100\n",
      "45s - loss: -7.3660e-01 - acc: 0.7792 - val_loss: -1.1727e+00 - val_acc: 0.8002\n",
      "Epoch 2/100\n",
      "45s - loss: -1.3613e+00 - acc: 0.8007 - val_loss: -1.3425e+00 - val_acc: 0.7991\n",
      "Epoch 3/100\n",
      "45s - loss: -1.5244e+00 - acc: 0.8062 - val_loss: -1.4022e+00 - val_acc: 0.7946\n",
      "Epoch 4/100\n",
      "45s - loss: -1.6254e+00 - acc: 0.8094 - val_loss: -1.4274e+00 - val_acc: 0.8102\n",
      "Epoch 5/100\n",
      "45s - loss: -1.6942e+00 - acc: 0.8113 - val_loss: -1.4688e+00 - val_acc: 0.8051\n",
      "Epoch 6/100\n",
      "45s - loss: -1.7595e+00 - acc: 0.8135 - val_loss: -1.4741e+00 - val_acc: 0.7990\n",
      "Epoch 7/100\n",
      "45s - loss: -1.8042e+00 - acc: 0.8147 - val_loss: -1.4671e+00 - val_acc: 0.8009\n",
      "Epoch 8/100\n",
      "45s - loss: -1.8474e+00 - acc: 0.8160 - val_loss: -1.4759e+00 - val_acc: 0.8039\n",
      "Epoch 9/100\n",
      "45s - loss: -1.8848e+00 - acc: 0.8174 - val_loss: -1.4647e+00 - val_acc: 0.8082\n",
      "Epoch 10/100\n",
      "46s - loss: -1.9122e+00 - acc: 0.8184 - val_loss: -1.4524e+00 - val_acc: 0.8015\n",
      "Epoch 11/100\n",
      "46s - loss: -1.9402e+00 - acc: 0.8195 - val_loss: -1.4249e+00 - val_acc: 0.7995\n",
      "Epoch 12/100\n",
      "45s - loss: -1.9623e+00 - acc: 0.8205 - val_loss: -1.3854e+00 - val_acc: 0.7974\n",
      "Epoch 13/100\n",
      "46s - loss: -1.9831e+00 - acc: 0.8214 - val_loss: -1.3761e+00 - val_acc: 0.8067\n",
      "Epoch 14/100\n",
      "45s - loss: -2.0016e+00 - acc: 0.8223 - val_loss: -1.3671e+00 - val_acc: 0.8051\n",
      "Epoch 15/100\n",
      "45s - loss: -2.0137e+00 - acc: 0.8229 - val_loss: -1.3480e+00 - val_acc: 0.8130\n",
      "Epoch 16/100\n",
      "46s - loss: -2.0240e+00 - acc: 0.8236 - val_loss: -1.3212e+00 - val_acc: 0.8062\n",
      "Epoch 17/100\n",
      "45s - loss: -2.0365e+00 - acc: 0.8241 - val_loss: -1.2969e+00 - val_acc: 0.8127\n",
      "Epoch 18/100\n",
      "45s - loss: -2.0459e+00 - acc: 0.8246 - val_loss: -1.3131e+00 - val_acc: 0.8110\n",
      "Epoch 19/100\n",
      "45s - loss: -2.0480e+00 - acc: 0.8249 - val_loss: -1.2786e+00 - val_acc: 0.8116\n",
      "Epoch 20/100\n",
      "45s - loss: -2.0558e+00 - acc: 0.8252 - val_loss: -1.2932e+00 - val_acc: 0.8019\n",
      "Epoch 21/100\n",
      "46s - loss: -2.0559e+00 - acc: 0.8255 - val_loss: -1.2959e+00 - val_acc: 0.8069\n",
      "Epoch 22/100\n",
      "45s - loss: -2.0617e+00 - acc: 0.8259 - val_loss: -1.2735e+00 - val_acc: 0.8058\n",
      "Epoch 23/100\n",
      "45s - loss: -2.0655e+00 - acc: 0.8260 - val_loss: -1.2449e+00 - val_acc: 0.8057\n",
      "Epoch 24/100\n",
      "45s - loss: -2.0652e+00 - acc: 0.8260 - val_loss: -1.2579e+00 - val_acc: 0.8110\n",
      "Epoch 25/100\n",
      "45s - loss: -2.0739e+00 - acc: 0.8265 - val_loss: -1.2623e+00 - val_acc: 0.8024\n",
      "Epoch 26/100\n",
      "45s - loss: -2.0687e+00 - acc: 0.8268 - val_loss: -1.2379e+00 - val_acc: 0.8109\n",
      "Epoch 27/100\n",
      "46s - loss: -2.0785e+00 - acc: 0.8270 - val_loss: -1.2342e+00 - val_acc: 0.8103\n",
      "Epoch 28/100\n",
      "45s - loss: -2.0767e+00 - acc: 0.8271 - val_loss: -1.2282e+00 - val_acc: 0.8063\n",
      "Epoch 29/100\n",
      "46s - loss: -2.0751e+00 - acc: 0.8271 - val_loss: -1.2318e+00 - val_acc: 0.8012\n",
      "Epoch 30/100\n",
      "45s - loss: -2.0800e+00 - acc: 0.8269 - val_loss: -1.2470e+00 - val_acc: 0.8100\n",
      "Epoch 31/100\n",
      "46s - loss: -2.0855e+00 - acc: 0.8274 - val_loss: -1.2554e+00 - val_acc: 0.8122\n",
      "Epoch 32/100\n",
      "46s - loss: -2.0889e+00 - acc: 0.8277 - val_loss: -1.2382e+00 - val_acc: 0.8115\n",
      "Epoch 33/100\n",
      "46s - loss: -2.0877e+00 - acc: 0.8277 - val_loss: -1.2531e+00 - val_acc: 0.8092\n",
      "Epoch 34/100\n",
      "45s - loss: -2.0931e+00 - acc: 0.8279 - val_loss: -1.2421e+00 - val_acc: 0.8088\n",
      "Epoch 35/100\n",
      "45s - loss: -2.0932e+00 - acc: 0.8278 - val_loss: -1.2364e+00 - val_acc: 0.8105\n",
      "Epoch 36/100\n",
      "46s - loss: -2.0947e+00 - acc: 0.8281 - val_loss: -1.2267e+00 - val_acc: 0.8099\n",
      "Epoch 37/100\n",
      "46s - loss: -2.0944e+00 - acc: 0.8280 - val_loss: -1.2171e+00 - val_acc: 0.8128\n",
      "Epoch 38/100\n",
      "45s - loss: -2.0942e+00 - acc: 0.8281 - val_loss: -1.2402e+00 - val_acc: 0.8125\n",
      "Epoch 39/100\n",
      "46s - loss: -2.0969e+00 - acc: 0.8283 - val_loss: -1.2383e+00 - val_acc: 0.8095\n",
      "Epoch 40/100\n",
      "45s - loss: -2.0961e+00 - acc: 0.8282 - val_loss: -1.2278e+00 - val_acc: 0.8113\n",
      "Epoch 41/100\n",
      "46s - loss: -2.0994e+00 - acc: 0.8285 - val_loss: -1.2161e+00 - val_acc: 0.8087\n",
      "Epoch 42/100\n",
      "45s - loss: -2.0961e+00 - acc: 0.8282 - val_loss: -1.2149e+00 - val_acc: 0.8139\n",
      "Epoch 43/100\n",
      "46s - loss: -2.0978e+00 - acc: 0.8284 - val_loss: -1.1801e+00 - val_acc: 0.8101\n",
      "Epoch 44/100\n",
      "45s - loss: -2.1008e+00 - acc: 0.8287 - val_loss: -1.2109e+00 - val_acc: 0.8139\n",
      "Epoch 45/100\n",
      "45s - loss: -2.0987e+00 - acc: 0.8288 - val_loss: -1.2107e+00 - val_acc: 0.8149\n",
      "Epoch 46/100\n",
      "45s - loss: -2.0993e+00 - acc: 0.8286 - val_loss: -1.2038e+00 - val_acc: 0.8084\n",
      "Epoch 47/100\n",
      "46s - loss: -2.1027e+00 - acc: 0.8289 - val_loss: -1.2057e+00 - val_acc: 0.8117\n",
      "Epoch 48/100\n",
      "46s - loss: -2.1025e+00 - acc: 0.8288 - val_loss: -1.2150e+00 - val_acc: 0.8121\n",
      "Epoch 49/100\n",
      "45s - loss: -2.1056e+00 - acc: 0.8289 - val_loss: -1.2113e+00 - val_acc: 0.8149\n",
      "Epoch 50/100\n",
      "46s - loss: -2.1041e+00 - acc: 0.8289 - val_loss: -1.2019e+00 - val_acc: 0.8091\n",
      "Epoch 51/100\n",
      "45s - loss: -2.1067e+00 - acc: 0.8290 - val_loss: -1.2113e+00 - val_acc: 0.8146\n",
      "Epoch 52/100\n",
      "46s - loss: -2.1042e+00 - acc: 0.8292 - val_loss: -1.2109e+00 - val_acc: 0.8112\n",
      "Epoch 53/100\n",
      "46s - loss: -2.1105e+00 - acc: 0.8292 - val_loss: -1.2050e+00 - val_acc: 0.8128\n",
      "Epoch 54/100\n",
      "45s - loss: -2.1095e+00 - acc: 0.8291 - val_loss: -1.2102e+00 - val_acc: 0.8092\n",
      "Epoch 55/100\n",
      "45s - loss: -2.1112e+00 - acc: 0.8291 - val_loss: -1.2245e+00 - val_acc: 0.8126\n",
      "Epoch 56/100\n",
      "46s - loss: -2.1110e+00 - acc: 0.8292 - val_loss: -1.2016e+00 - val_acc: 0.8107\n",
      "Epoch 57/100\n",
      "46s - loss: -2.1081e+00 - acc: 0.8292 - val_loss: -1.2042e+00 - val_acc: 0.8122\n",
      "Epoch 58/100\n",
      "45s - loss: -2.1100e+00 - acc: 0.8293 - val_loss: -1.1638e+00 - val_acc: 0.8163\n",
      "Epoch 59/100\n",
      "45s - loss: -2.1130e+00 - acc: 0.8294 - val_loss: -1.1977e+00 - val_acc: 0.8130\n",
      "Epoch 60/100\n",
      "46s - loss: -2.1112e+00 - acc: 0.8294 - val_loss: -1.1999e+00 - val_acc: 0.8106\n",
      "Epoch 61/100\n",
      "45s - loss: -2.0939e+00 - acc: 0.8293 - val_loss: -1.1545e+00 - val_acc: 0.8102\n",
      "Epoch 62/100\n",
      "45s - loss: -2.0872e+00 - acc: 0.8300 - val_loss: -1.2046e+00 - val_acc: 0.8153\n",
      "Epoch 63/100\n",
      "46s - loss: -2.1102e+00 - acc: 0.8294 - val_loss: -1.2182e+00 - val_acc: 0.8132\n",
      "Epoch 64/100\n",
      "46s - loss: -2.1135e+00 - acc: 0.8294 - val_loss: -1.2302e+00 - val_acc: 0.8138\n",
      "Epoch 65/100\n",
      "45s - loss: -2.1153e+00 - acc: 0.8295 - val_loss: -1.2123e+00 - val_acc: 0.8123\n",
      "Epoch 66/100\n",
      "45s - loss: -2.1155e+00 - acc: 0.8295 - val_loss: -1.2107e+00 - val_acc: 0.8127\n",
      "Epoch 67/100\n",
      "45s - loss: -2.1141e+00 - acc: 0.8294 - val_loss: -1.2012e+00 - val_acc: 0.8132\n",
      "Epoch 68/100\n",
      "45s - loss: -2.1120e+00 - acc: 0.8295 - val_loss: -1.1725e+00 - val_acc: 0.8148\n",
      "Epoch 69/100\n",
      "45s - loss: -2.1170e+00 - acc: 0.8297 - val_loss: -1.1737e+00 - val_acc: 0.8149\n",
      "Epoch 70/100\n",
      "46s - loss: -2.1149e+00 - acc: 0.8296 - val_loss: -1.1954e+00 - val_acc: 0.8161\n",
      "Epoch 71/100\n",
      "45s - loss: -2.1185e+00 - acc: 0.8297 - val_loss: -1.1891e+00 - val_acc: 0.8146\n",
      "Epoch 72/100\n",
      "46s - loss: -2.1180e+00 - acc: 0.8296 - val_loss: -1.2025e+00 - val_acc: 0.8172\n",
      "Epoch 73/100\n",
      "46s - loss: -2.1173e+00 - acc: 0.8298 - val_loss: -1.1658e+00 - val_acc: 0.8120\n",
      "Epoch 74/100\n",
      "46s - loss: -2.1165e+00 - acc: 0.8297 - val_loss: -1.1813e+00 - val_acc: 0.8131\n",
      "Epoch 75/100\n",
      "46s - loss: -2.1171e+00 - acc: 0.8299 - val_loss: -1.1613e+00 - val_acc: 0.8082\n",
      "Epoch 76/100\n",
      "46s - loss: -2.1161e+00 - acc: 0.8297 - val_loss: -1.1916e+00 - val_acc: 0.8124\n",
      "Epoch 77/100\n",
      "46s - loss: -2.1123e+00 - acc: 0.8294 - val_loss: -1.1935e+00 - val_acc: 0.8112\n",
      "Epoch 78/100\n",
      "45s - loss: -2.1128e+00 - acc: 0.8293 - val_loss: -1.2018e+00 - val_acc: 0.8128\n",
      "Epoch 79/100\n",
      "46s - loss: -2.1125e+00 - acc: 0.8293 - val_loss: -1.1737e+00 - val_acc: 0.8108\n",
      "Epoch 80/100\n",
      "45s - loss: -2.1168e+00 - acc: 0.8296 - val_loss: -1.2043e+00 - val_acc: 0.8116\n",
      "Epoch 81/100\n",
      "45s - loss: -2.1192e+00 - acc: 0.8299 - val_loss: -1.2066e+00 - val_acc: 0.8141\n",
      "Epoch 82/100\n",
      "45s - loss: -2.1234e+00 - acc: 0.8300 - val_loss: -1.2100e+00 - val_acc: 0.8125\n",
      "Epoch 83/100\n",
      "46s - loss: -2.1218e+00 - acc: 0.8299 - val_loss: -1.2134e+00 - val_acc: 0.8145\n",
      "Epoch 84/100\n",
      "45s - loss: -2.1224e+00 - acc: 0.8299 - val_loss: -1.2072e+00 - val_acc: 0.8129\n",
      "Epoch 85/100\n",
      "46s - loss: -2.1228e+00 - acc: 0.8300 - val_loss: -1.1996e+00 - val_acc: 0.8180\n",
      "Epoch 86/100\n",
      "46s - loss: -2.1229e+00 - acc: 0.8300 - val_loss: -1.1991e+00 - val_acc: 0.8169\n",
      "Epoch 87/100\n",
      "46s - loss: -2.1200e+00 - acc: 0.8299 - val_loss: -1.2020e+00 - val_acc: 0.8139\n",
      "Epoch 88/100\n",
      "46s - loss: -2.1224e+00 - acc: 0.8299 - val_loss: -1.2129e+00 - val_acc: 0.8166\n",
      "Epoch 89/100\n"
     ]
    },
    {
     "name": "stdout",
     "output_type": "stream",
     "text": [
      "45s - loss: -2.1207e+00 - acc: 0.8299 - val_loss: -1.2074e+00 - val_acc: 0.8112\n",
      "Epoch 90/100\n",
      "45s - loss: -2.1227e+00 - acc: 0.8300 - val_loss: -1.2105e+00 - val_acc: 0.8141\n",
      "Epoch 91/100\n",
      "46s - loss: -2.1192e+00 - acc: 0.8297 - val_loss: -1.2132e+00 - val_acc: 0.8144\n",
      "Epoch 92/100\n",
      "45s - loss: -2.1224e+00 - acc: 0.8301 - val_loss: -1.2019e+00 - val_acc: 0.8111\n",
      "Epoch 93/100\n",
      "46s - loss: -2.1167e+00 - acc: 0.8296 - val_loss: -1.1692e+00 - val_acc: 0.8161\n",
      "Epoch 94/100\n",
      "45s - loss: -2.1200e+00 - acc: 0.8299 - val_loss: -1.1805e+00 - val_acc: 0.8148\n",
      "Epoch 95/100\n",
      "46s - loss: -2.1104e+00 - acc: 0.8294 - val_loss: -1.1698e+00 - val_acc: 0.8132\n",
      "Epoch 96/100\n",
      "45s - loss: -2.1133e+00 - acc: 0.8293 - val_loss: -1.1722e+00 - val_acc: 0.8116\n",
      "Epoch 97/100\n",
      "45s - loss: -2.1135e+00 - acc: 0.8295 - val_loss: -1.1839e+00 - val_acc: 0.8125\n",
      "Epoch 98/100\n",
      "45s - loss: -2.1226e+00 - acc: 0.8301 - val_loss: -1.2070e+00 - val_acc: 0.8126\n",
      "Epoch 99/100\n",
      "46s - loss: -2.1244e+00 - acc: 0.8303 - val_loss: -1.1940e+00 - val_acc: 0.8135\n",
      "Epoch 100/100\n",
      "45s - loss: -2.1236e+00 - acc: 0.8302 - val_loss: -1.1938e+00 - val_acc: 0.8134\n"
     ]
    },
    {
     "data": {
      "text/plain": [
       "<keras.callbacks.History at 0x7f3bcd392110>"
      ]
     },
     "execution_count": 155,
     "metadata": {},
     "output_type": "execute_result"
    }
   ],
   "source": [
    "# Fit the model\n",
    "model.fit(X_train, y_train, validation_data=(X_test, y_test), epochs=100, batch_size=128, verbose=2,callbacks=[tbCallBack])"
   ]
  },
  {
   "cell_type": "code",
   "execution_count": 156,
   "metadata": {},
   "outputs": [],
   "source": [
    "# Saving the model\n",
    "from keras.models import load_model\n",
    "import h5py\n",
    "model.save('cnn_model_fr.h5')"
   ]
  },
  {
   "cell_type": "code",
   "execution_count": 157,
   "metadata": {},
   "outputs": [],
   "source": [
    "# Calling/ Importing the model\n",
    "model = load_model('cnn_model_fr.h5')"
   ]
  },
  {
   "cell_type": "code",
   "execution_count": 158,
   "metadata": {},
   "outputs": [
    {
     "name": "stdout",
     "output_type": "stream",
     "text": [
      "Accuracy: 81.34%\n"
     ]
    }
   ],
   "source": [
    "# Final evaluation of the model\n",
    "scores = model.evaluate(X_test, y_test, verbose=0)\n",
    "print(\"Accuracy: %.2f%%\" % (scores[1]*100))"
   ]
  },
  {
   "cell_type": "markdown",
   "metadata": {},
   "source": [
    "## Using LSTM"
   ]
  },
  {
   "cell_type": "code",
   "execution_count": 171,
   "metadata": {},
   "outputs": [],
   "source": [
    "import numpy as np # linear algebra\n",
    "import pandas as pd # data processing, CSV file I/O (e.g. pd.read_csv)\n",
    "\n",
    "from sklearn.feature_extraction.text import CountVectorizer\n",
    "from keras.preprocessing.text import Tokenizer\n",
    "from keras.preprocessing.sequence import pad_sequences\n",
    "from keras.models import Sequential\n",
    "from keras.layers import Dense, Embedding, LSTM\n",
    "from sklearn.model_selection import train_test_split\n",
    "from keras.utils.np_utils import to_categorical\n",
    "import traceback\n",
    "import re, string"
   ]
  },
  {
   "cell_type": "code",
   "execution_count": 172,
   "metadata": {},
   "outputs": [],
   "source": [
    "def clean_str(string):\n",
    "  \"\"\"\n",
    "  String cleaning before vectorization\n",
    "  \"\"\"\n",
    "  try:\n",
    "    string = re.sub(r'^https?:\\/\\/<>.*[\\r\\n]*', '', string, flags=re.MULTILINE)\n",
    "    string = re.sub(r\"[^a-zA-ZÀ-ÿ0-9]\", \" \", string) \n",
    "    #string = re.sub(r\"\\W+\", \" \", string)   \n",
    "    #return words list\n",
    "    return string\n",
    "  except:\n",
    "    print (traceback.print_exc())\n",
    "    return \"\""
   ]
  },
  {
   "cell_type": "code",
   "execution_count": 173,
   "metadata": {},
   "outputs": [],
   "source": [
    "#Load training and Test data\n",
    "import pandas as pd\n",
    "data=pd.read_csv('tweets_sentiment.txt', header=0, delimiter=\"\\t\", quoting=3)"
   ]
  },
  {
   "cell_type": "code",
   "execution_count": 174,
   "metadata": {},
   "outputs": [],
   "source": [
    "df=data['text']\n",
    "a=df[df.str.contains('macron' or 'emmanuelmacron' or 'enmarche' or '@emmanuelmacron' or '#emmanuelmacron' or 'mlpofficiel' or 'mlp_officiel' or 'lepen' or 'marine2017' or '@mlp_officiel' or 'mlp',na=False)]\n",
    "data['text2']=a\n",
    "data=data.dropna()\n",
    "data['text']=data['text2']\n",
    "del data['text2']\n",
    "data['text'] = data['text'].apply(clean_str)\n",
    "data.sentiment=data.sentiment.astype(int)"
   ]
  },
  {
   "cell_type": "code",
   "execution_count": 175,
   "metadata": {},
   "outputs": [
    {
     "data": {
      "text/html": [
       "<div>\n",
       "<table border=\"1\" class=\"dataframe\">\n",
       "  <thead>\n",
       "    <tr style=\"text-align: right;\">\n",
       "      <th></th>\n",
       "      <th>text</th>\n",
       "      <th>sentiment</th>\n",
       "    </tr>\n",
       "  </thead>\n",
       "  <tbody>\n",
       "    <tr>\n",
       "      <th>2</th>\n",
       "      <td>ah macron et ses approximations</td>\n",
       "      <td>1</td>\n",
       "    </tr>\n",
       "    <tr>\n",
       "      <th>9</th>\n",
       "      <td>a marseille fillon cible macron lepen et méle...</td>\n",
       "      <td>1</td>\n",
       "    </tr>\n",
       "    <tr>\n",
       "      <th>16</th>\n",
       "      <td>face mélenchon et son programme de destruction...</td>\n",
       "      <td>1</td>\n",
       "    </tr>\n",
       "    <tr>\n",
       "      <th>18</th>\n",
       "      <td>macron m a fait réfléchir sur quand mélenchon...</td>\n",
       "      <td>1</td>\n",
       "    </tr>\n",
       "    <tr>\n",
       "      <th>39</th>\n",
       "      <td>sérieusement venant des soutiens de macron l é...</td>\n",
       "      <td>1</td>\n",
       "    </tr>\n",
       "  </tbody>\n",
       "</table>\n",
       "</div>"
      ],
      "text/plain": [
       "                                                 text  sentiment\n",
       "2                    ah macron et ses approximations           1\n",
       "9    a marseille fillon cible macron lepen et méle...          1\n",
       "16  face mélenchon et son programme de destruction...          1\n",
       "18   macron m a fait réfléchir sur quand mélenchon...          1\n",
       "39  sérieusement venant des soutiens de macron l é...          1"
      ]
     },
     "execution_count": 175,
     "metadata": {},
     "output_type": "execute_result"
    }
   ],
   "source": [
    "data.head()"
   ]
  },
  {
   "cell_type": "code",
   "execution_count": 176,
   "metadata": {},
   "outputs": [],
   "source": [
    "data = data.reset_index(drop=True)\n",
    "data=data[500:574054]"
   ]
  },
  {
   "cell_type": "code",
   "execution_count": 177,
   "metadata": {},
   "outputs": [
    {
     "data": {
      "text/html": [
       "<div>\n",
       "<table border=\"1\" class=\"dataframe\">\n",
       "  <thead>\n",
       "    <tr style=\"text-align: right;\">\n",
       "      <th></th>\n",
       "      <th>text</th>\n",
       "      <th>sentiment</th>\n",
       "    </tr>\n",
       "  </thead>\n",
       "  <tbody>\n",
       "    <tr>\n",
       "      <th>500</th>\n",
       "      <td>l agitation médiatique autour de macron et de...</td>\n",
       "      <td>1</td>\n",
       "    </tr>\n",
       "    <tr>\n",
       "      <th>501</th>\n",
       "      <td>simarinenestpasausecondtour on aura ce genre ...</td>\n",
       "      <td>1</td>\n",
       "    </tr>\n",
       "    <tr>\n",
       "      <th>502</th>\n",
       "      <td>sondage macron et le pen en baisse mais toujou...</td>\n",
       "      <td>1</td>\n",
       "    </tr>\n",
       "    <tr>\n",
       "      <th>503</th>\n",
       "      <td>simarinenestpasausecondtour on aura ce genre ...</td>\n",
       "      <td>1</td>\n",
       "    </tr>\n",
       "    <tr>\n",
       "      <th>504</th>\n",
       "      <td>racisme islam cdanslair islamophobie avecmari...</td>\n",
       "      <td>1</td>\n",
       "    </tr>\n",
       "  </tbody>\n",
       "</table>\n",
       "</div>"
      ],
      "text/plain": [
       "                                                  text  sentiment\n",
       "500   l agitation médiatique autour de macron et de...          1\n",
       "501   simarinenestpasausecondtour on aura ce genre ...          1\n",
       "502  sondage macron et le pen en baisse mais toujou...          1\n",
       "503   simarinenestpasausecondtour on aura ce genre ...          1\n",
       "504   racisme islam cdanslair islamophobie avecmari...          1"
      ]
     },
     "execution_count": 177,
     "metadata": {},
     "output_type": "execute_result"
    }
   ],
   "source": [
    "data.head()"
   ]
  },
  {
   "cell_type": "code",
   "execution_count": 178,
   "metadata": {},
   "outputs": [],
   "source": [
    "data['text'] = data['text'].apply(lambda x: x.lower())"
   ]
  },
  {
   "cell_type": "code",
   "execution_count": 179,
   "metadata": {},
   "outputs": [
    {
     "data": {
      "text/html": [
       "<div>\n",
       "<table border=\"1\" class=\"dataframe\">\n",
       "  <thead>\n",
       "    <tr style=\"text-align: right;\">\n",
       "      <th></th>\n",
       "      <th>text</th>\n",
       "      <th>sentiment</th>\n",
       "    </tr>\n",
       "  </thead>\n",
       "  <tbody>\n",
       "    <tr>\n",
       "      <th>500</th>\n",
       "      <td>l agitation médiatique autour de macron et de...</td>\n",
       "      <td>1</td>\n",
       "    </tr>\n",
       "    <tr>\n",
       "      <th>501</th>\n",
       "      <td>simarinenestpasausecondtour on aura ce genre ...</td>\n",
       "      <td>1</td>\n",
       "    </tr>\n",
       "    <tr>\n",
       "      <th>502</th>\n",
       "      <td>sondage macron et le pen en baisse mais toujou...</td>\n",
       "      <td>1</td>\n",
       "    </tr>\n",
       "    <tr>\n",
       "      <th>503</th>\n",
       "      <td>simarinenestpasausecondtour on aura ce genre ...</td>\n",
       "      <td>1</td>\n",
       "    </tr>\n",
       "    <tr>\n",
       "      <th>504</th>\n",
       "      <td>racisme islam cdanslair islamophobie avecmari...</td>\n",
       "      <td>1</td>\n",
       "    </tr>\n",
       "  </tbody>\n",
       "</table>\n",
       "</div>"
      ],
      "text/plain": [
       "                                                  text  sentiment\n",
       "500   l agitation médiatique autour de macron et de...          1\n",
       "501   simarinenestpasausecondtour on aura ce genre ...          1\n",
       "502  sondage macron et le pen en baisse mais toujou...          1\n",
       "503   simarinenestpasausecondtour on aura ce genre ...          1\n",
       "504   racisme islam cdanslair islamophobie avecmari...          1"
      ]
     },
     "execution_count": 179,
     "metadata": {},
     "output_type": "execute_result"
    }
   ],
   "source": [
    "data.head()"
   ]
  },
  {
   "cell_type": "code",
   "execution_count": 180,
   "metadata": {},
   "outputs": [],
   "source": [
    "for idx,row in data.iterrows():\n",
    "    row[0] = row[0].replace('rt',' ')\n",
    "    \n",
    "max_fatures = 2000\n",
    "tokenizer = Tokenizer(num_words=max_fatures, split=' ')\n",
    "tokenizer.fit_on_texts(data['text'].values)\n",
    "X = tokenizer.texts_to_sequences(data['text'].values)\n",
    "X = pad_sequences(X)"
   ]
  },
  {
   "cell_type": "code",
   "execution_count": 181,
   "metadata": {},
   "outputs": [
    {
     "name": "stderr",
     "output_type": "stream",
     "text": [
      "/usr/local/lib/python2.7/dist-packages/ipykernel_launcher.py:6: UserWarning: The `dropout` argument is no longer support in `Embedding`. You can apply a `keras.layers.SpatialDropout1D` layer right after the `Embedding` layer to get the same behavior.\n",
      "  \n",
      "/usr/local/lib/python2.7/dist-packages/ipykernel_launcher.py:8: UserWarning: Update your `LSTM` call to the Keras 2 API: `LSTM(196, dropout=0.2, recurrent_dropout=0.2)`\n",
      "  \n"
     ]
    },
    {
     "name": "stdout",
     "output_type": "stream",
     "text": [
      "_________________________________________________________________\n",
      "Layer (type)                 Output Shape              Param #   \n",
      "=================================================================\n",
      "embedding_14 (Embedding)     (None, 39, 140)           280000    \n",
      "_________________________________________________________________\n",
      "lstm_3 (LSTM)                (None, 196)               264208    \n",
      "_________________________________________________________________\n",
      "dense_38 (Dense)             (None, 2)                 394       \n",
      "=================================================================\n",
      "Total params: 544,602\n",
      "Trainable params: 544,602\n",
      "Non-trainable params: 0\n",
      "_________________________________________________________________\n",
      "None\n"
     ]
    }
   ],
   "source": [
    "embed_dim = 140\n",
    "lstm_out = 196\n",
    "\n",
    "model = Sequential()\n",
    "tbCallBack = keras.callbacks.TensorBoard(log_dir='./Graph/LSTM', histogram_freq=0, write_graph=True, write_images=True)\n",
    "model.add(Embedding(max_fatures, embed_dim,input_length = X.shape[1], dropout=0.2))\n",
    "#model.add(keras.layers.SpatialDropout1D(0.2))\n",
    "model.add(LSTM(lstm_out, dropout_U=0.2, dropout_W=0.2))\n",
    "model.add(Dense(2,activation='softmax'))\n",
    "model.compile(loss = 'categorical_crossentropy', optimizer='adam',metrics = ['accuracy'])\n",
    "print(model.summary())"
   ]
  },
  {
   "cell_type": "code",
   "execution_count": 169,
   "metadata": {},
   "outputs": [
    {
     "name": "stdout",
     "output_type": "stream",
     "text": [
      "((384281, 39), (384281, 2))\n",
      "((189273, 39), (189273, 2))\n"
     ]
    }
   ],
   "source": [
    "Y = pd.get_dummies(data['sentiment']).values\n",
    "X_train, X_test, Y_train, Y_test = train_test_split(X,Y, test_size = 0.33, random_state = 42)\n",
    "print(X_train.shape,Y_train.shape)\n",
    "print(X_test.shape,Y_test.shape)"
   ]
  },
  {
   "cell_type": "code",
   "execution_count": 183,
   "metadata": {},
   "outputs": [
    {
     "name": "stdout",
     "output_type": "stream",
     "text": [
      "Epoch 1/17\n",
      "848s - loss: 0.0360 - acc: 0.9871\n",
      "Epoch 2/17\n",
      "855s - loss: 0.0363 - acc: 0.9872\n",
      "Epoch 3/17\n",
      "855s - loss: 0.0360 - acc: 0.9873\n",
      "Epoch 4/17\n",
      "851s - loss: 0.0362 - acc: 0.9871\n",
      "Epoch 5/17\n",
      "851s - loss: 0.0367 - acc: 0.9868\n",
      "Epoch 6/17\n",
      "850s - loss: 0.0372 - acc: 0.9866\n",
      "Epoch 7/17\n",
      "849s - loss: 0.0382 - acc: 0.9864\n",
      "Epoch 8/17\n",
      "847s - loss: 0.0379 - acc: 0.9863\n",
      "Epoch 9/17\n",
      "843s - loss: 0.0384 - acc: 0.9863\n",
      "Epoch 10/17\n",
      "847s - loss: 0.0384 - acc: 0.9862\n",
      "Epoch 11/17\n",
      "843s - loss: 0.0395 - acc: 0.9858\n",
      "Epoch 12/17\n",
      "845s - loss: 0.0397 - acc: 0.9859\n",
      "Epoch 13/17\n",
      "847s - loss: 0.0399 - acc: 0.9858\n",
      "Epoch 14/17\n",
      "846s - loss: 0.0402 - acc: 0.9856\n",
      "Epoch 15/17\n",
      "847s - loss: 0.0405 - acc: 0.9854\n",
      "Epoch 16/17\n",
      "847s - loss: 0.0400 - acc: 0.9858\n",
      "Epoch 17/17\n",
      "846s - loss: 0.0410 - acc: 0.9854\n"
     ]
    },
    {
     "data": {
      "text/plain": [
       "<keras.callbacks.History at 0x7f3bd32cd990>"
      ]
     },
     "execution_count": 183,
     "metadata": {},
     "output_type": "execute_result"
    }
   ],
   "source": [
    "batch_size = 32\n",
    "model.fit(X_train, Y_train, epochs = 17, batch_size=batch_size, verbose = 2,callbacks=[tbCallBack])"
   ]
  },
  {
   "cell_type": "code",
   "execution_count": 184,
   "metadata": {},
   "outputs": [],
   "source": [
    "# Saving the model\n",
    "from keras.models import load_model\n",
    "import h5py\n",
    "model.save('lstm_model_fr.h5')"
   ]
  },
  {
   "cell_type": "markdown",
   "metadata": {},
   "source": [
    "#### Executing LSTM Model "
   ]
  },
  {
   "cell_type": "code",
   "execution_count": 185,
   "metadata": {},
   "outputs": [],
   "source": [
    "# Calling/ Importing the model\n",
    "model = load_model('lstm_model_fr.h5')"
   ]
  },
  {
   "cell_type": "code",
   "execution_count": 186,
   "metadata": {},
   "outputs": [
    {
     "name": "stdout",
     "output_type": "stream",
     "text": [
      "score: 0.08\n",
      "acc: 0.98\n"
     ]
    }
   ],
   "source": [
    "validation_size = 1600\n",
    "\n",
    "X_validate = X_test[-validation_size:]\n",
    "Y_validate = Y_test[-validation_size:]\n",
    "X_test = X_test[:-validation_size]\n",
    "Y_test = Y_test[:-validation_size]\n",
    "score,acc = model.evaluate(X_test, Y_test, verbose = 2, batch_size = batch_size)\n",
    "print(\"score: %.2f\" % (score))\n",
    "print(\"acc: %.2f\" % (acc))"
   ]
  },
  {
   "cell_type": "code",
   "execution_count": 187,
   "metadata": {},
   "outputs": [
    {
     "data": {
      "text/plain": [
       "1600"
      ]
     },
     "execution_count": 187,
     "metadata": {},
     "output_type": "execute_result"
    }
   ],
   "source": [
    "len(X_validate)"
   ]
  },
  {
   "cell_type": "code",
   "execution_count": 188,
   "metadata": {},
   "outputs": [
    {
     "name": "stdout",
     "output_type": "stream",
     "text": [
      "('pos_acc', 99.63017751479289, '%')\n",
      "('neg_acc', 93.95161290322581, '%')\n"
     ]
    }
   ],
   "source": [
    "pos_cnt, neg_cnt, pos_correct, neg_correct = 0, 0, 0, 0\n",
    "from __future__ import division\n",
    "for x in range(len(X_validate)):\n",
    "    \n",
    "    result = model.predict(X_validate[x].reshape(1,X_test.shape[1]),batch_size=1,verbose = 2)[0]\n",
    "   \n",
    "    if np.argmax(result) == np.argmax(Y_validate[x]):\n",
    "        if np.argmax(Y_validate[x]) == 0:\n",
    "            neg_correct += 1\n",
    "        else:\n",
    "            pos_correct += 1\n",
    "       \n",
    "    if np.argmax(Y_validate[x]) == 0:\n",
    "        neg_cnt += 1\n",
    "    else:\n",
    "        pos_cnt += 1\n",
    "\n",
    "print(\"pos_acc\", pos_correct/pos_cnt*100, \"%\")\n",
    "print(\"neg_acc\", neg_correct/neg_cnt*100, \"%\")"
   ]
  }
 ],
 "metadata": {
  "kernelspec": {
   "display_name": "Python 3",
   "language": "python",
   "name": "python3"
  },
  "language_info": {
   "codemirror_mode": {
    "name": "ipython",
    "version": 3
   },
   "file_extension": ".py",
   "mimetype": "text/x-python",
   "name": "python",
   "nbconvert_exporter": "python",
   "pygments_lexer": "ipython3",
   "version": "3.7.3"
  }
 },
 "nbformat": 4,
 "nbformat_minor": 2
}
